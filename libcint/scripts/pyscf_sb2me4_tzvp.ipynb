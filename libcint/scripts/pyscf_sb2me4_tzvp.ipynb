{
 "cells": [
  {
   "cell_type": "code",
   "execution_count": 1,
   "id": "1169f844-cf04-435a-84b8-319f3da9e606",
   "metadata": {},
   "outputs": [],
   "source": [
    "from pyscf import gto, lib\n",
    "import numpy as np"
   ]
  },
  {
   "cell_type": "code",
   "execution_count": 2,
   "id": "97abddcf-8ca6-4ff0-ae5f-d5c89e410825",
   "metadata": {},
   "outputs": [],
   "source": [
    "mol = gto.Mole(atom=\"\"\"\n",
    "SB        -1.33937843      0.44597852     -1.27279684\n",
    "SB         1.33937843     -0.44597852     -1.27279684\n",
    "C         -1.40429524      1.10441871      0.83468205\n",
    "C         -2.16210130     -1.56132398     -0.84717555\n",
    "C          2.16210130      1.56132398     -0.84717555\n",
    "C          1.40429524     -1.10441871      0.83468205\n",
    "H         -0.69918639      1.91987631      1.00872018\n",
    "H         -1.16111477      0.29030616      1.51873028\n",
    "H         -2.40124532      1.47235562      1.08516843\n",
    "H         -2.02002046     -2.22909286     -1.69887295\n",
    "H         -1.69052287     -2.01612927      0.02577778\n",
    "H         -3.23450854     -1.49489801     -0.65423339\n",
    "H          2.02002046      2.22909286     -1.69887295\n",
    "H          3.23450854      1.49489801     -0.65423339\n",
    "H          1.69052287      2.01612927      0.02577778\n",
    "H          0.69918639     -1.91987631      1.00872018\n",
    "H          2.40124532     -1.47235562      1.08516843\n",
    "H          1.16111477     -0.29030616      1.51873028\n",
    "\"\"\", basis=\"def2-TZVP\", ecp={\"SB\": \"def2-TZVP\"}).build()"
   ]
  },
  {
   "cell_type": "code",
   "execution_count": null,
   "id": "0df37298-66f3-4d68-b6d2-353f319bb003",
   "metadata": {},
   "outputs": [],
   "source": []
  },
  {
   "cell_type": "code",
   "execution_count": null,
   "id": "b609bc0d-14f6-4187-a974-b8f3ec6393b2",
   "metadata": {},
   "outputs": [],
   "source": []
  },
  {
   "cell_type": "code",
   "execution_count": null,
   "id": "4b4a78da-6229-44e1-bf85-651a6302c0ad",
   "metadata": {},
   "outputs": [],
   "source": []
  },
  {
   "cell_type": "code",
   "execution_count": null,
   "id": "4ff027d3-0d57-4970-a155-6f033256f6b4",
   "metadata": {},
   "outputs": [],
   "source": []
  },
  {
   "cell_type": "code",
   "execution_count": null,
   "id": "7786cf7f-155f-406c-868e-990d3f74d81a",
   "metadata": {},
   "outputs": [],
   "source": []
  }
 ],
 "metadata": {
  "kernelspec": {
   "display_name": "Python 3 (ipykernel)",
   "language": "python",
   "name": "python3"
  },
  "language_info": {
   "codemirror_mode": {
    "name": "ipython",
    "version": 3
   },
   "file_extension": ".py",
   "mimetype": "text/x-python",
   "name": "python",
   "nbconvert_exporter": "python",
   "pygments_lexer": "ipython3",
   "version": "3.12.2"
  }
 },
 "nbformat": 4,
 "nbformat_minor": 5
}
