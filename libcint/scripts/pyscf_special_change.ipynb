{
 "cells": [
  {
   "cell_type": "code",
   "execution_count": 30,
   "id": "b053468d-38ce-44e1-a037-33d68dfe154d",
   "metadata": {},
   "outputs": [],
   "source": [
    "from pyscf import gto, lib\n",
    "import numpy as np\n",
    "\n",
    "np.set_printoptions(16, suppress=False, linewidth=300)"
   ]
  },
  {
   "cell_type": "code",
   "execution_count": 31,
   "id": "8b7bd1bf-b2a3-4b01-b78c-090bfa9e35d8",
   "metadata": {},
   "outputs": [],
   "source": [
    "mol1 = gto.Mole(atom=\"O; H 1 0.94; H 1 0.94 2 104.5\", basis=\"def2-TZVP\").build()"
   ]
  },
  {
   "cell_type": "code",
   "execution_count": 24,
   "id": "3b8edc24-a96c-43c0-9a3b-0afbc016a404",
   "metadata": {},
   "outputs": [],
   "source": [
    "basis = {\n",
    "    \"C\": \"cc-pVTZ\",\n",
    "    \"H\": \"cc-pVTZ\",\n",
    "    \"Sb\": \"cc-pVTZ-PP\",\n",
    "}\n",
    "\n",
    "basis_ecp = {\n",
    "    \"Sb\": \"cc-pVTZ-PP\",\n",
    "}\n",
    "\n",
    "mol2 = gto.Mole(atom=\"\"\"\n",
    "Sb        -1.33937843      0.44597852     -1.27279684\n",
    "Sb         1.33937843     -0.44597852     -1.27279684\n",
    "C         -1.40429524      1.10441871      0.83468205\n",
    "C         -2.16210130     -1.56132398     -0.84717555\n",
    "C          2.16210130      1.56132398     -0.84717555\n",
    "C          1.40429524     -1.10441871      0.83468205\n",
    "H         -0.69918639      1.91987631      1.00872018\n",
    "H         -1.16111477      0.29030616      1.51873028\n",
    "H         -2.40124532      1.47235562      1.08516843\n",
    "H         -2.02002046     -2.22909286     -1.69887295\n",
    "H         -1.69052287     -2.01612927      0.02577778\n",
    "H         -3.23450854     -1.49489801     -0.65423339\n",
    "H          2.02002046      2.22909286     -1.69887295\n",
    "H          3.23450854      1.49489801     -0.65423339\n",
    "H          1.69052287      2.01612927      0.02577778\n",
    "H          0.69918639     -1.91987631      1.00872018\n",
    "H          2.40124532     -1.47235562      1.08516843\n",
    "H          1.16111477     -0.29030616      1.51873028\n",
    "\"\"\", basis=basis, ecp=basis_ecp).build()"
   ]
  },
  {
   "cell_type": "code",
   "execution_count": 25,
   "id": "e656e8ce-3e9d-4d3c-99ca-add5a515e8a4",
   "metadata": {},
   "outputs": [],
   "source": [
    "mol = mol1 + mol1"
   ]
  },
  {
   "cell_type": "code",
   "execution_count": 16,
   "id": "8af5565d-a8c5-43be-8199-38e8c05ed1f0",
   "metadata": {},
   "outputs": [
    {
     "data": {
      "text/plain": [
       "(220.2819072746202, 149.65011901575278, -7210.728997361069, 0.0)"
      ]
     },
     "execution_count": 16,
     "metadata": {},
     "output_type": "execute_result"
    }
   ],
   "source": [
    "lib.fp(mol._atm), lib.fp(mol._bas), lib.fp(mol._env), lib.fp(mol._ecpbas)"
   ]
  },
  {
   "cell_type": "code",
   "execution_count": 37,
   "id": "47125417-ca0c-4ea9-8c73-ec331b333ec5",
   "metadata": {},
   "outputs": [],
   "source": [
    "mol = mol1 + mol2"
   ]
  },
  {
   "cell_type": "code",
   "execution_count": 38,
   "id": "65c3873d-af0a-4270-a51f-8a8c8387bdc3",
   "metadata": {},
   "outputs": [
    {
     "data": {
      "text/plain": [
       "(-68.54444636475233,\n",
       " -58.06413507172557,\n",
       " 26407.797117689446,\n",
       " 164.89860996992238)"
      ]
     },
     "execution_count": 38,
     "metadata": {},
     "output_type": "execute_result"
    }
   ],
   "source": [
    "lib.fp(mol._atm), lib.fp(mol._bas), lib.fp(mol._env), lib.fp(mol._ecpbas)"
   ]
  },
  {
   "cell_type": "code",
   "execution_count": 39,
   "id": "57b83e3e-c300-4b05-a6bf-d90d5fb5f4ee",
   "metadata": {},
   "outputs": [],
   "source": [
    "mol = mol2 + mol1"
   ]
  },
  {
   "cell_type": "code",
   "execution_count": 40,
   "id": "06658de8-993f-4a0a-a0b6-a71a925dd19b",
   "metadata": {},
   "outputs": [
    {
     "data": {
      "text/plain": [
       "(-714.6455874682379, -99.88753072795852, -32210.1073858801, 110.04541227168156)"
      ]
     },
     "execution_count": 40,
     "metadata": {},
     "output_type": "execute_result"
    }
   ],
   "source": [
    "lib.fp(mol._atm), lib.fp(mol._bas), lib.fp(mol._env), lib.fp(mol._ecpbas)"
   ]
  },
  {
   "cell_type": "code",
   "execution_count": 35,
   "id": "a60874a8-2d43-4e67-91fc-17756c27995a",
   "metadata": {},
   "outputs": [],
   "source": [
    "mol = mol2 + mol2"
   ]
  },
  {
   "cell_type": "code",
   "execution_count": 36,
   "id": "bd05e1b7-71c8-408d-9313-cee3d5cfe64d",
   "metadata": {},
   "outputs": [
    {
     "data": {
      "text/plain": [
       "(1355.7032887239495, -589.9932899367334, 1519.3261601043766, 779.9379788456364)"
      ]
     },
     "execution_count": 36,
     "metadata": {},
     "output_type": "execute_result"
    }
   ],
   "source": [
    "lib.fp(mol._atm), lib.fp(mol._bas), lib.fp(mol._env), lib.fp(mol._ecpbas)"
   ]
  },
  {
   "cell_type": "code",
   "execution_count": null,
   "id": "26a515e7-62ca-4fcd-a883-560ef7c06beb",
   "metadata": {},
   "outputs": [],
   "source": []
  },
  {
   "cell_type": "code",
   "execution_count": null,
   "id": "76c0a126-3595-46a6-985e-696a28b0f690",
   "metadata": {},
   "outputs": [],
   "source": []
  },
  {
   "cell_type": "code",
   "execution_count": null,
   "id": "23847e73-a1d8-486e-bf5f-ca7d8a857f3a",
   "metadata": {},
   "outputs": [],
   "source": []
  },
  {
   "cell_type": "code",
   "execution_count": null,
   "id": "70b85166-e2c0-4dfc-b5bf-5f5011198fd5",
   "metadata": {},
   "outputs": [],
   "source": []
  },
  {
   "cell_type": "code",
   "execution_count": null,
   "id": "6ce12c90-9a60-4404-b9fe-15da762554b4",
   "metadata": {},
   "outputs": [],
   "source": []
  },
  {
   "cell_type": "code",
   "execution_count": null,
   "id": "2ab5e35d-db1a-4773-8c6c-f21e7a531bd6",
   "metadata": {},
   "outputs": [],
   "source": []
  },
  {
   "cell_type": "code",
   "execution_count": null,
   "id": "2ab0abca-599f-4d60-9ce0-6e0d8f941a90",
   "metadata": {},
   "outputs": [],
   "source": []
  }
 ],
 "metadata": {
  "kernelspec": {
   "display_name": "Python 3 (ipykernel)",
   "language": "python",
   "name": "python3"
  },
  "language_info": {
   "codemirror_mode": {
    "name": "ipython",
    "version": 3
   },
   "file_extension": ".py",
   "mimetype": "text/x-python",
   "name": "python",
   "nbconvert_exporter": "python",
   "pygments_lexer": "ipython3",
   "version": "3.12.2"
  }
 },
 "nbformat": 4,
 "nbformat_minor": 5
}
