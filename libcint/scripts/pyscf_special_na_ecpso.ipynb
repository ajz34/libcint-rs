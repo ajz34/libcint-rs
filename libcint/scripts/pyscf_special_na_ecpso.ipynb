{
 "cells": [
  {
   "cell_type": "code",
   "execution_count": 1,
   "id": "39115e52-3fb7-4c4e-862e-785a1627ed70",
   "metadata": {},
   "outputs": [],
   "source": [
    "from pyscf import gto, lib\n",
    "import numpy as np\n",
    "\n",
    "np.set_printoptions(16, threshold=100000000, suppress=False, linewidth=300)"
   ]
  },
  {
   "cell_type": "code",
   "execution_count": 2,
   "id": "4c9f4d06-863b-484f-9288-6f91d0b568ae",
   "metadata": {},
   "outputs": [],
   "source": [
    "mol = gto.M(\n",
    "    atom=\"Na 0.5 0.5 0.\",\n",
    "    charge=1,\n",
    "    basis={'Na': [(0, (1, 1)), (1, (4, 1)), (1, (1, 1)), (2, (1, 1))]},\n",
    "    ecp = {'Na': gto.basis.parse_ecp(\"\"\"\n",
    "        Na nelec 8\n",
    "        Na S\n",
    "        0      0.     0     0\n",
    "        1      0.    -3.    -3.\n",
    "        Na P\n",
    "        1      0.    -3.    -3.\n",
    "        Na D\n",
    "        1      0.    -3.    -3.\n",
    "        Na F\n",
    "        1      0.    -3.    -3.\n",
    "    \"\"\")})"
   ]
  },
  {
   "cell_type": "code",
   "execution_count": 10,
   "id": "0276ab23-1fb3-45c9-9f55-b9ac1870ab8e",
   "metadata": {},
   "outputs": [
    {
     "data": {
      "text/plain": [
       "16.314431788929873"
      ]
     },
     "execution_count": 10,
     "metadata": {},
     "output_type": "execute_result"
    }
   ],
   "source": [
    "lib.fp(mol.intor(\"ECPso\").swapaxes(-1, -2))"
   ]
  },
  {
   "cell_type": "code",
   "execution_count": 11,
   "id": "6cd017ba-4b09-43bf-b295-9f69fd6cc40e",
   "metadata": {},
   "outputs": [
    {
     "data": {
      "text/plain": [
       "8.2741841284278"
      ]
     },
     "execution_count": 11,
     "metadata": {},
     "output_type": "execute_result"
    }
   ],
   "source": [
    "lib.fp(mol.intor(\"ECPso_cart\").swapaxes(-1, -2))"
   ]
  },
  {
   "cell_type": "code",
   "execution_count": 12,
   "id": "5768e100-4fd0-4f8c-8e59-b4abec49f77e",
   "metadata": {},
   "outputs": [
    {
     "data": {
      "text/plain": [
       "30.596605690744546j"
      ]
     },
     "execution_count": 12,
     "metadata": {},
     "output_type": "execute_result"
    }
   ],
   "source": [
    "lib.fp(mol.intor(\"ECPso_spinor\").swapaxes(-1, -2))"
   ]
  },
  {
   "cell_type": "code",
   "execution_count": null,
   "id": "adefcb8d-6edc-4fd6-9300-d70810b32e4c",
   "metadata": {},
   "outputs": [],
   "source": []
  },
  {
   "cell_type": "code",
   "execution_count": null,
   "id": "78e3b665-6fc1-4301-bc5b-cbe35b8ac90e",
   "metadata": {},
   "outputs": [],
   "source": []
  },
  {
   "cell_type": "code",
   "execution_count": null,
   "id": "e0d6167f-9a08-44e7-8920-ddb42d105399",
   "metadata": {},
   "outputs": [],
   "source": []
  }
 ],
 "metadata": {
  "kernelspec": {
   "display_name": "Python 3 (ipykernel)",
   "language": "python",
   "name": "python3"
  },
  "language_info": {
   "codemirror_mode": {
    "name": "ipython",
    "version": 3
   },
   "file_extension": ".py",
   "mimetype": "text/x-python",
   "name": "python",
   "nbconvert_exporter": "python",
   "pygments_lexer": "ipython3",
   "version": "3.12.2"
  }
 },
 "nbformat": 4,
 "nbformat_minor": 5
}
