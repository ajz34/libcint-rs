{
 "cells": [
  {
   "cell_type": "code",
   "execution_count": 112,
   "id": "e839a5d8-dd7e-422a-83de-e430eca88dd7",
   "metadata": {},
   "outputs": [],
   "source": [
    "from pyscf import gto, lib\n",
    "import numpy as np\n",
    "\n",
    "np.set_printoptions(16, suppress=False, linewidth=300)"
   ]
  },
  {
   "cell_type": "code",
   "execution_count": 113,
   "id": "a382f595-53a0-4258-9eb7-7f422be99ca3",
   "metadata": {},
   "outputs": [],
   "source": [
    "mol = gto.Mole(atom=\"O; H 1 0.94; H 1 0.94 2 104.5\", basis=\"def2-TZVP\").build()"
   ]
  },
  {
   "cell_type": "code",
   "execution_count": null,
   "id": "bcfca9a4-2226-40e5-a526-55d82e478e05",
   "metadata": {},
   "outputs": [],
   "source": []
  },
  {
   "cell_type": "code",
   "execution_count": null,
   "id": "d79d0f0a-dd80-438f-b667-acca67b097d1",
   "metadata": {},
   "outputs": [],
   "source": []
  },
  {
   "cell_type": "code",
   "execution_count": null,
   "id": "1e94530c-c40f-42e7-89fa-748c60fc790f",
   "metadata": {},
   "outputs": [],
   "source": []
  },
  {
   "cell_type": "markdown",
   "id": "fa4b6e55-9dd8-4ba9-b25b-f7e994ba738c",
   "metadata": {},
   "source": [
    "## cint_prop"
   ]
  },
  {
   "cell_type": "code",
   "execution_count": 78,
   "id": "b14b4fd6-a76d-4fb1-8193-21ddc20c1b5b",
   "metadata": {},
   "outputs": [
    {
     "data": {
      "text/plain": [
       "{}"
      ]
     },
     "execution_count": 78,
     "metadata": {},
     "output_type": "execute_result"
    }
   ],
   "source": [
    "mol.has_ecp()"
   ]
  },
  {
   "cell_type": "code",
   "execution_count": 79,
   "id": "7343fd50-5253-4b7c-b2f1-f171fef8929b",
   "metadata": {},
   "outputs": [
    {
     "data": {
      "text/plain": [
       "19"
      ]
     },
     "execution_count": 79,
     "metadata": {},
     "output_type": "execute_result"
    }
   ],
   "source": [
    "mol.nbas"
   ]
  },
  {
   "cell_type": "code",
   "execution_count": 80,
   "id": "ef6a9ca1-b298-41dc-a175-a39e67166678",
   "metadata": {},
   "outputs": [
    {
     "data": {
      "text/plain": [
       "8"
      ]
     },
     "execution_count": 80,
     "metadata": {},
     "output_type": "execute_result"
    }
   ],
   "source": [
    "mol.atom_charge(0)"
   ]
  },
  {
   "cell_type": "code",
   "execution_count": 81,
   "id": "2daa9ef4-2717-42d8-821b-02f5e8ad7340",
   "metadata": {},
   "outputs": [
    {
     "data": {
      "text/plain": [
       "43"
      ]
     },
     "execution_count": 81,
     "metadata": {},
     "output_type": "execute_result"
    }
   ],
   "source": [
    "mol.nao_nr()"
   ]
  },
  {
   "cell_type": "code",
   "execution_count": 86,
   "id": "48b326c4-f1be-45dc-90d2-5da7f399a981",
   "metadata": {},
   "outputs": [
    {
     "data": {
      "text/plain": [
       "48"
      ]
     },
     "execution_count": 86,
     "metadata": {},
     "output_type": "execute_result"
    }
   ],
   "source": [
    "mol.nao_cart()"
   ]
  },
  {
   "cell_type": "code",
   "execution_count": 87,
   "id": "885a96bf-ef46-433b-adfe-d523c315dfba",
   "metadata": {},
   "outputs": [
    {
     "data": {
      "text/plain": [
       "86"
      ]
     },
     "execution_count": 87,
     "metadata": {},
     "output_type": "execute_result"
    }
   ],
   "source": [
    "mol.nao_2c()"
   ]
  },
  {
   "cell_type": "code",
   "execution_count": 90,
   "id": "5edfa6bc-3fb3-4809-b26f-f1cff912ffea",
   "metadata": {},
   "outputs": [
    {
     "data": {
      "text/plain": [
       "-2.4358371781626658"
      ]
     },
     "execution_count": 90,
     "metadata": {},
     "output_type": "execute_result"
    }
   ],
   "source": [
    "lib.fingerprint(mol.atom_coords())"
   ]
  },
  {
   "cell_type": "code",
   "execution_count": 91,
   "id": "fab90345-fbf9-4910-b9ed-e859eb8d4a9d",
   "metadata": {},
   "outputs": [
    {
     "data": {
      "text/plain": [
       "11"
      ]
     },
     "execution_count": 91,
     "metadata": {},
     "output_type": "execute_result"
    }
   ],
   "source": [
    "mol.atom_nshells(0)"
   ]
  },
  {
   "cell_type": "code",
   "execution_count": 92,
   "id": "cb61ea2d-0220-4e4a-8f87-5117dd41f3c0",
   "metadata": {},
   "outputs": [
    {
     "data": {
      "text/plain": [
       "[array([27032.382631   ,  4052.3871392  ,   922.3272271  ,   261.24070989 ,    85.354641351,    31.035035245]),\n",
       " array([12.260860728 ,  4.9987076005]),\n",
       " array([1.1703108158]),\n",
       " array([0.46474740994]),\n",
       " array([0.18504536357]),\n",
       " array([63.274954801 , 14.627049379 ,  4.4501223456,  1.5275799647]),\n",
       " array([0.52935117943]),\n",
       " array([0.1747842127]),\n",
       " array([2.314]),\n",
       " array([0.645]),\n",
       " array([1.428]),\n",
       " array([34.061341 ,  5.1235746,  1.1646626]),\n",
       " array([0.32723041]),\n",
       " array([0.10307241]),\n",
       " array([0.8]),\n",
       " array([34.061341 ,  5.1235746,  1.1646626]),\n",
       " array([0.32723041]),\n",
       " array([0.10307241]),\n",
       " array([0.8])]"
      ]
     },
     "execution_count": 92,
     "metadata": {},
     "output_type": "execute_result"
    }
   ],
   "source": [
    "mol.bas_exps()"
   ]
  },
  {
   "cell_type": "code",
   "execution_count": 114,
   "id": "d69d5f67-8987-49a9-9c2d-7680531f9f12",
   "metadata": {},
   "outputs": [
    {
     "data": {
      "text/plain": [
       "array([[ 0, 11,  0, 31],\n",
       "       [11, 15, 31, 37],\n",
       "       [15, 19, 37, 43]])"
      ]
     },
     "execution_count": 114,
     "metadata": {},
     "output_type": "execute_result"
    }
   ],
   "source": [
    "mol.aoslice_by_atom()"
   ]
  },
  {
   "cell_type": "code",
   "execution_count": 110,
   "id": "69182e8b-fb00-4c13-bc41-1778c348a96d",
   "metadata": {},
   "outputs": [
    {
     "data": {
      "text/plain": [
       "-16.794909924641775"
      ]
     },
     "execution_count": 110,
     "metadata": {},
     "output_type": "execute_result"
    }
   ],
   "source": [
    "lib.fingerprint(mol.aoslice_by_atom())"
   ]
  },
  {
   "cell_type": "code",
   "execution_count": null,
   "id": "46ca6b6f-8cf9-4bd6-b437-e1037950f0ac",
   "metadata": {},
   "outputs": [],
   "source": []
  },
  {
   "cell_type": "code",
   "execution_count": null,
   "id": "b6583c9a-90fd-4c10-bb77-ca474e02371a",
   "metadata": {},
   "outputs": [],
   "source": []
  },
  {
   "cell_type": "code",
   "execution_count": null,
   "id": "cde7a668-34b0-4bc8-87e0-79a0bbcfd3c3",
   "metadata": {},
   "outputs": [],
   "source": []
  }
 ],
 "metadata": {
  "kernelspec": {
   "display_name": "Python 3 (ipykernel)",
   "language": "python",
   "name": "python3"
  },
  "language_info": {
   "codemirror_mode": {
    "name": "ipython",
    "version": 3
   },
   "file_extension": ".py",
   "mimetype": "text/x-python",
   "name": "python",
   "nbconvert_exporter": "python",
   "pygments_lexer": "ipython3",
   "version": "3.12.2"
  }
 },
 "nbformat": 4,
 "nbformat_minor": 5
}
