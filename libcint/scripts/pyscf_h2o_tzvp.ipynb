{
 "cells": [
  {
   "cell_type": "code",
   "execution_count": 2,
   "id": "e839a5d8-dd7e-422a-83de-e430eca88dd7",
   "metadata": {},
   "outputs": [],
   "source": [
    "from pyscf import gto, lib\n",
    "import numpy as np\n",
    "\n",
    "np.set_printoptions(16, suppress=False, linewidth=300)"
   ]
  },
  {
   "cell_type": "code",
   "execution_count": 3,
   "id": "a382f595-53a0-4258-9eb7-7f422be99ca3",
   "metadata": {},
   "outputs": [],
   "source": [
    "mol = gto.Mole(atom=\"O; H 1 0.94; H 1 0.94 2 104.5\", basis=\"def2-TZVP\").build()"
   ]
  },
  {
   "cell_type": "markdown",
   "id": "fa4b6e55-9dd8-4ba9-b25b-f7e994ba738c",
   "metadata": {},
   "source": [
    "## cint_prop"
   ]
  },
  {
   "cell_type": "code",
   "execution_count": 4,
   "id": "b14b4fd6-a76d-4fb1-8193-21ddc20c1b5b",
   "metadata": {},
   "outputs": [
    {
     "data": {
      "text/plain": [
       "{}"
      ]
     },
     "execution_count": 4,
     "metadata": {},
     "output_type": "execute_result"
    }
   ],
   "source": [
    "mol.has_ecp()"
   ]
  },
  {
   "cell_type": "code",
   "execution_count": 5,
   "id": "7343fd50-5253-4b7c-b2f1-f171fef8929b",
   "metadata": {},
   "outputs": [
    {
     "data": {
      "text/plain": [
       "19"
      ]
     },
     "execution_count": 5,
     "metadata": {},
     "output_type": "execute_result"
    }
   ],
   "source": [
    "mol.nbas"
   ]
  },
  {
   "cell_type": "code",
   "execution_count": 6,
   "id": "ef6a9ca1-b298-41dc-a175-a39e67166678",
   "metadata": {},
   "outputs": [
    {
     "data": {
      "text/plain": [
       "8"
      ]
     },
     "execution_count": 6,
     "metadata": {},
     "output_type": "execute_result"
    }
   ],
   "source": [
    "mol.atom_charge(0)"
   ]
  },
  {
   "cell_type": "code",
   "execution_count": 7,
   "id": "2daa9ef4-2717-42d8-821b-02f5e8ad7340",
   "metadata": {},
   "outputs": [
    {
     "data": {
      "text/plain": [
       "43"
      ]
     },
     "execution_count": 7,
     "metadata": {},
     "output_type": "execute_result"
    }
   ],
   "source": [
    "mol.nao_nr()"
   ]
  },
  {
   "cell_type": "code",
   "execution_count": 8,
   "id": "48b326c4-f1be-45dc-90d2-5da7f399a981",
   "metadata": {},
   "outputs": [
    {
     "data": {
      "text/plain": [
       "48"
      ]
     },
     "execution_count": 8,
     "metadata": {},
     "output_type": "execute_result"
    }
   ],
   "source": [
    "mol.nao_cart()"
   ]
  },
  {
   "cell_type": "code",
   "execution_count": 9,
   "id": "885a96bf-ef46-433b-adfe-d523c315dfba",
   "metadata": {},
   "outputs": [
    {
     "data": {
      "text/plain": [
       "86"
      ]
     },
     "execution_count": 9,
     "metadata": {},
     "output_type": "execute_result"
    }
   ],
   "source": [
    "mol.nao_2c()"
   ]
  },
  {
   "cell_type": "code",
   "execution_count": 10,
   "id": "5edfa6bc-3fb3-4809-b26f-f1cff912ffea",
   "metadata": {},
   "outputs": [
    {
     "data": {
      "text/plain": [
       "-2.4358371781626658"
      ]
     },
     "execution_count": 10,
     "metadata": {},
     "output_type": "execute_result"
    }
   ],
   "source": [
    "lib.fingerprint(mol.atom_coords())"
   ]
  },
  {
   "cell_type": "code",
   "execution_count": 11,
   "id": "fab90345-fbf9-4910-b9ed-e859eb8d4a9d",
   "metadata": {},
   "outputs": [
    {
     "data": {
      "text/plain": [
       "11"
      ]
     },
     "execution_count": 11,
     "metadata": {},
     "output_type": "execute_result"
    }
   ],
   "source": [
    "mol.atom_nshells(0)"
   ]
  },
  {
   "cell_type": "code",
   "execution_count": 12,
   "id": "d69d5f67-8987-49a9-9c2d-7680531f9f12",
   "metadata": {},
   "outputs": [
    {
     "data": {
      "text/plain": [
       "array([[ 0, 11,  0, 31],\n",
       "       [11, 15, 31, 37],\n",
       "       [15, 19, 37, 43]])"
      ]
     },
     "execution_count": 12,
     "metadata": {},
     "output_type": "execute_result"
    }
   ],
   "source": [
    "mol.aoslice_by_atom()"
   ]
  },
  {
   "cell_type": "markdown",
   "id": "dbf869be-3ca0-41b0-b9cb-c38587a966b2",
   "metadata": {},
   "source": [
    "## 2-center intor"
   ]
  },
  {
   "cell_type": "markdown",
   "id": "f576b3b3-5a6b-4aa3-860f-4533ca4c22e8",
   "metadata": {},
   "source": [
    "### 2c-sph"
   ]
  },
  {
   "cell_type": "code",
   "execution_count": 13,
   "id": "ea5bd131-04bf-4cf8-9323-f249455ad6c9",
   "metadata": {},
   "outputs": [
    {
     "data": {
      "text/plain": [
       "(353.92327889575165, (43, 43))"
      ]
     },
     "execution_count": 13,
     "metadata": {},
     "output_type": "execute_result"
    }
   ],
   "source": [
    "# no-deriv\n",
    "out = mol.intor(\"int2c2e\")\n",
    "out_c = out.transpose(1, 0)\n",
    "assert out_c.flags.c_contiguous\n",
    "lib.fp(out_c), out_c.shape[::-1]"
   ]
  },
  {
   "cell_type": "code",
   "execution_count": 14,
   "id": "d4564db3-3b4c-4a8c-85e5-b5ea5c2a6a8b",
   "metadata": {},
   "outputs": [
    {
     "data": {
      "text/plain": [
       "(-3.3572089868440105, (43, 43, 3))"
      ]
     },
     "execution_count": 14,
     "metadata": {},
     "output_type": "execute_result"
    }
   ],
   "source": [
    "# deriv\n",
    "out = mol.intor(\"int1e_igovlp\")\n",
    "out_c = out.transpose(0, 2, 1)\n",
    "assert out_c.flags.c_contiguous\n",
    "lib.fp(out_c), out_c.shape[::-1]"
   ]
  },
  {
   "cell_type": "code",
   "execution_count": 15,
   "id": "7bb8a36c-410e-4447-9c1e-f0a6eed4f89e",
   "metadata": {},
   "outputs": [
    {
     "data": {
      "text/plain": [
       "(0.8338209486794069, (32, 26))"
      ]
     },
     "execution_count": 15,
     "metadata": {},
     "output_type": "execute_result"
    }
   ],
   "source": [
    "# no-deriv | shl\n",
    "out = mol.intor(\"int1e_kin\", shls_slice=[0, 12, 8, 18])\n",
    "out_c = out.transpose(1, 0)\n",
    "assert out_c.flags.c_contiguous\n",
    "lib.fp(out_c), out_c.shape[::-1]"
   ]
  },
  {
   "cell_type": "code",
   "execution_count": 16,
   "id": "b035d624-4162-40d6-8db3-9b38c8817e2d",
   "metadata": {},
   "outputs": [
    {
     "data": {
      "text/plain": [
       "(17.2214370364167, (32, 26, 3))"
      ]
     },
     "execution_count": 16,
     "metadata": {},
     "output_type": "execute_result"
    }
   ],
   "source": [
    "# deriv | shl\n",
    "out = mol.intor(\"int1e_ipnuc\", shls_slice=[0, 12, 8, 18])\n",
    "out_c = out.transpose(0, 2, 1)\n",
    "assert out_c.flags.c_contiguous\n",
    "lib.fp(out_c), out_c.shape[::-1]"
   ]
  },
  {
   "cell_type": "code",
   "execution_count": 17,
   "id": "c2ca73c5-2017-4ba5-95c7-50893340ed17",
   "metadata": {},
   "outputs": [
    {
     "data": {
      "text/plain": [
       "(-176.53287056586566, (946,))"
      ]
     },
     "execution_count": 17,
     "metadata": {},
     "output_type": "execute_result"
    }
   ],
   "source": [
    "# no-deriv\n",
    "out = mol.intor(\"int2c2e\")\n",
    "out_c = lib.pack_tril(np.array(out.swapaxes(0, 1), order=\"C\"))\n",
    "out_c = out_c.transpose(0)\n",
    "lib.fp(out_c), out_c.shape[::-1]"
   ]
  },
  {
   "cell_type": "code",
   "execution_count": 18,
   "id": "a60eb0ff-ec9f-4ec8-a612-70b365c4afef",
   "metadata": {},
   "outputs": [
    {
     "data": {
      "text/plain": [
       "(-1.374830452387045, (946, 3))"
      ]
     },
     "execution_count": 18,
     "metadata": {},
     "output_type": "execute_result"
    }
   ],
   "source": [
    "# deriv\n",
    "out = mol.intor(\"int1e_igovlp\")\n",
    "out_c = lib.pack_tril(np.array(out.swapaxes(1, 2), order=\"C\"))\n",
    "out_c = out_c.transpose(0, 1)\n",
    "lib.fp(out_c), out_c.shape[::-1]"
   ]
  },
  {
   "cell_type": "code",
   "execution_count": 19,
   "id": "6d1345f0-e13b-4f83-be78-a07b8a7643e4",
   "metadata": {},
   "outputs": [
    {
     "data": {
      "text/plain": [
       "(-14.044705234935593, (351,))"
      ]
     },
     "execution_count": 19,
     "metadata": {},
     "output_type": "execute_result"
    }
   ],
   "source": [
    "# no-deriv | shl\n",
    "out = mol.intor(\"int1e_kin\", shls_slice=[8, 18, 8, 18])\n",
    "out_c = lib.pack_tril(np.array(out.swapaxes(0, 1), order=\"C\"))\n",
    "out_c = out_c.transpose(0)\n",
    "lib.fp(out_c), out_c.shape[::-1]"
   ]
  },
  {
   "cell_type": "code",
   "execution_count": 20,
   "id": "8f696c6a-4fa0-442b-8ac4-89cb7fa89d5b",
   "metadata": {
    "scrolled": true
   },
   "outputs": [
    {
     "data": {
      "text/plain": [
       "(-22.156443966726883, (351, 3))"
      ]
     },
     "execution_count": 20,
     "metadata": {},
     "output_type": "execute_result"
    }
   ],
   "source": [
    "# deriv | shl\n",
    "out = mol.intor(\"int1e_ipnuc\", shls_slice=[8, 18, 8, 18])\n",
    "out_c = lib.pack_tril(np.array(out.swapaxes(1, 2), order=\"C\"))\n",
    "out_c = out_c.transpose(0, 1)\n",
    "lib.fp(out_c), out_c.shape[::-1]"
   ]
  },
  {
   "cell_type": "markdown",
   "id": "a4a1b064-3093-40a5-b79e-704050747e00",
   "metadata": {},
   "source": [
    "### 2c-cart"
   ]
  },
  {
   "cell_type": "code",
   "execution_count": 21,
   "id": "302d7f95-67d4-498a-8f32-f906996a4a51",
   "metadata": {},
   "outputs": [
    {
     "data": {
      "text/plain": [
       "(149.25926633235045, (48, 48))"
      ]
     },
     "execution_count": 21,
     "metadata": {},
     "output_type": "execute_result"
    }
   ],
   "source": [
    "# no-deriv\n",
    "out = mol.intor(\"int2c2e_cart\")\n",
    "out_c = out.transpose(1, 0)\n",
    "assert out_c.flags.c_contiguous\n",
    "lib.fp(out_c), out_c.shape[::-1]"
   ]
  },
  {
   "cell_type": "code",
   "execution_count": 22,
   "id": "30b7d2d6-2b44-4b5e-8edf-55fd36d9713a",
   "metadata": {},
   "outputs": [
    {
     "data": {
      "text/plain": [
       "(-0.7210509131585712, (48, 48, 3))"
      ]
     },
     "execution_count": 22,
     "metadata": {},
     "output_type": "execute_result"
    }
   ],
   "source": [
    "# deriv\n",
    "out = mol.intor(\"int1e_igovlp_cart\")\n",
    "out_c = out.transpose(0, 2, 1)\n",
    "assert out_c.flags.c_contiguous\n",
    "lib.fp(out_c), out_c.shape[::-1]"
   ]
  },
  {
   "cell_type": "code",
   "execution_count": 23,
   "id": "216c4bf6-a9e5-4b41-91f5-756ab535ca7c",
   "metadata": {},
   "outputs": [
    {
     "data": {
      "text/plain": [
       "(-33.34383660289398, (37, 31))"
      ]
     },
     "execution_count": 23,
     "metadata": {},
     "output_type": "execute_result"
    }
   ],
   "source": [
    "# no-deriv | shl\n",
    "out = mol.intor(\"int1e_kin_cart\", shls_slice=[0, 12, 8, 18])\n",
    "out_c = out.transpose(1, 0)\n",
    "assert out_c.flags.c_contiguous\n",
    "lib.fp(out_c), out_c.shape[::-1]"
   ]
  },
  {
   "cell_type": "code",
   "execution_count": 24,
   "id": "d7d520ce-58ab-45e5-b797-4c2c7ef0e13b",
   "metadata": {},
   "outputs": [
    {
     "data": {
      "text/plain": [
       "(19.297701826145243, (37, 31, 3))"
      ]
     },
     "execution_count": 24,
     "metadata": {},
     "output_type": "execute_result"
    }
   ],
   "source": [
    "# deriv | shl\n",
    "out = mol.intor(\"int1e_ipnuc_cart\", shls_slice=[0, 12, 8, 18])\n",
    "out_c = out.transpose(0, 2, 1)\n",
    "assert out_c.flags.c_contiguous\n",
    "lib.fp(out_c), out_c.shape[::-1]"
   ]
  },
  {
   "cell_type": "code",
   "execution_count": 25,
   "id": "17235075-fc1d-4725-b6a3-08d6c02346fe",
   "metadata": {},
   "outputs": [
    {
     "data": {
      "text/plain": [
       "(-329.69400031638395, (1176,))"
      ]
     },
     "execution_count": 25,
     "metadata": {},
     "output_type": "execute_result"
    }
   ],
   "source": [
    "# no-deriv\n",
    "out = mol.intor(\"int2c2e_cart\")\n",
    "out_c = lib.pack_tril(np.array(out.swapaxes(0, 1), order=\"C\"))\n",
    "out_c = out_c.transpose(0)\n",
    "lib.fp(out_c), out_c.shape[::-1]"
   ]
  },
  {
   "cell_type": "code",
   "execution_count": 26,
   "id": "bc072f69-67e8-452d-a2c2-249d3be9e638",
   "metadata": {},
   "outputs": [
    {
     "data": {
      "text/plain": [
       "(-0.775053635406958, (1176, 3))"
      ]
     },
     "execution_count": 26,
     "metadata": {},
     "output_type": "execute_result"
    }
   ],
   "source": [
    "# deriv\n",
    "out = mol.intor(\"int1e_igovlp_cart\")\n",
    "out_c = lib.pack_tril(np.array(out.swapaxes(1, 2), order=\"C\"))\n",
    "out_c = out_c.transpose(0, 1)\n",
    "lib.fp(out_c), out_c.shape[::-1]"
   ]
  },
  {
   "cell_type": "code",
   "execution_count": 27,
   "id": "f4a04b0d-36ae-4731-b130-f818e527a4bb",
   "metadata": {},
   "outputs": [
    {
     "data": {
      "text/plain": [
       "(2.0474763079697453, (496,))"
      ]
     },
     "execution_count": 27,
     "metadata": {},
     "output_type": "execute_result"
    }
   ],
   "source": [
    "# no-deriv | shl\n",
    "out = mol.intor(\"int1e_kin_cart\", shls_slice=[8, 18, 8, 18])\n",
    "out_c = lib.pack_tril(np.array(out.swapaxes(0, 1), order=\"C\"))\n",
    "out_c = out_c.transpose(0)\n",
    "lib.fp(out_c), out_c.shape[::-1]"
   ]
  },
  {
   "cell_type": "code",
   "execution_count": 28,
   "id": "389236d3-131a-4f0a-b9af-1bdd524ce77d",
   "metadata": {},
   "outputs": [
    {
     "data": {
      "text/plain": [
       "(43.07817054892782, (496, 3))"
      ]
     },
     "execution_count": 28,
     "metadata": {},
     "output_type": "execute_result"
    }
   ],
   "source": [
    "# deriv | shl\n",
    "out = mol.intor(\"int1e_ipnuc_cart\", shls_slice=[8, 18, 8, 18])\n",
    "out_c = lib.pack_tril(np.array(out.swapaxes(1, 2), order=\"C\"))\n",
    "out_c = out_c.transpose(0, 1)\n",
    "lib.fp(out_c), out_c.shape[::-1]"
   ]
  },
  {
   "cell_type": "markdown",
   "id": "b83a989b-6967-48ba-ae1b-3feb6b835171",
   "metadata": {},
   "source": [
    "### 2c-spinor"
   ]
  },
  {
   "cell_type": "code",
   "execution_count": 29,
   "id": "053cbb8e-adc2-4d17-b171-aae5d6488118",
   "metadata": {},
   "outputs": [
    {
     "data": {
      "text/plain": [
       "((-82.66855640793396+0j), (86, 86))"
      ]
     },
     "execution_count": 29,
     "metadata": {},
     "output_type": "execute_result"
    }
   ],
   "source": [
    "# no-deriv\n",
    "out = mol.intor(\"int2c2e_spinor\")\n",
    "out_c = out.transpose(1, 0)\n",
    "assert out_c.flags.c_contiguous\n",
    "lib.fp(out_c), out_c.shape[::-1]"
   ]
  },
  {
   "cell_type": "code",
   "execution_count": 30,
   "id": "e85aeaa0-0f67-48e2-9c2c-71474b2d602a",
   "metadata": {},
   "outputs": [
    {
     "data": {
      "text/plain": [
       "((-1.989836876952396-2.5513536327277677j), (86, 86, 3))"
      ]
     },
     "execution_count": 30,
     "metadata": {},
     "output_type": "execute_result"
    }
   ],
   "source": [
    "# deriv\n",
    "out = mol.intor(\"int1e_igovlp_spinor\")\n",
    "out_c = out.transpose(0, 2, 1)\n",
    "assert out_c.flags.c_contiguous\n",
    "lib.fp(out_c), out_c.shape[::-1]"
   ]
  },
  {
   "cell_type": "code",
   "execution_count": 31,
   "id": "736deb60-9a25-4647-8bcd-e94e66051102",
   "metadata": {},
   "outputs": [
    {
     "data": {
      "text/plain": [
       "((-14.325037173756517+0j), (64, 52))"
      ]
     },
     "execution_count": 31,
     "metadata": {},
     "output_type": "execute_result"
    }
   ],
   "source": [
    "# no-deriv | shl\n",
    "out = mol.intor(\"int1e_kin_spinor\", shls_slice=[0, 12, 8, 18])\n",
    "out_c = out.transpose(1, 0)\n",
    "assert out_c.flags.c_contiguous\n",
    "lib.fp(out_c), out_c.shape[::-1]"
   ]
  },
  {
   "cell_type": "code",
   "execution_count": 32,
   "id": "436e1905-92ce-4403-b728-667276d0ab61",
   "metadata": {},
   "outputs": [
    {
     "data": {
      "text/plain": [
       "((-66.46315988601708+7.7000121009088165j), (64, 52, 3))"
      ]
     },
     "execution_count": 32,
     "metadata": {},
     "output_type": "execute_result"
    }
   ],
   "source": [
    "# deriv | shl\n",
    "out = mol.intor(\"int1e_ipnuc_spinor\", shls_slice=[0, 12, 8, 18])\n",
    "out_c = out.transpose(0, 2, 1)\n",
    "assert out_c.flags.c_contiguous\n",
    "lib.fp(out_c), out_c.shape[::-1]"
   ]
  },
  {
   "cell_type": "code",
   "execution_count": 33,
   "id": "57006a52-9816-4345-a6b5-fb7f277259fc",
   "metadata": {},
   "outputs": [
    {
     "data": {
      "text/plain": [
       "((-108.42520152395204+0j), (3741,))"
      ]
     },
     "execution_count": 33,
     "metadata": {},
     "output_type": "execute_result"
    }
   ],
   "source": [
    "# no-deriv\n",
    "out = mol.intor(\"int2c2e_spinor\")\n",
    "out_c = lib.pack_tril(np.array(out.swapaxes(0, 1), order=\"C\"))\n",
    "out_c = out_c.transpose(0)\n",
    "lib.fp(out_c), out_c.shape[::-1]"
   ]
  },
  {
   "cell_type": "code",
   "execution_count": 34,
   "id": "c225f148-73ca-4ea1-a2cf-ad58cf714074",
   "metadata": {},
   "outputs": [
    {
     "data": {
      "text/plain": [
       "((-0.43544614746500226-4.7372500914607505j), (3741, 3))"
      ]
     },
     "execution_count": 34,
     "metadata": {},
     "output_type": "execute_result"
    }
   ],
   "source": [
    "# deriv\n",
    "out = mol.intor(\"int1e_igovlp_spinor\")\n",
    "out_c = lib.pack_tril(np.array(out.swapaxes(1, 2), order=\"C\"))\n",
    "out_c = out_c.transpose(0, 1)\n",
    "lib.fp(out_c), out_c.shape[::-1]"
   ]
  },
  {
   "cell_type": "code",
   "execution_count": 35,
   "id": "68b172b9-46b9-408c-b23f-360f8e646e81",
   "metadata": {},
   "outputs": [
    {
     "data": {
      "text/plain": [
       "((-6.866472862080281+0j), (1378,))"
      ]
     },
     "execution_count": 35,
     "metadata": {},
     "output_type": "execute_result"
    }
   ],
   "source": [
    "# no-deriv | shl\n",
    "out = mol.intor(\"int1e_kin_spinor\", shls_slice=[8, 18, 8, 18])\n",
    "out_c = lib.pack_tril(np.array(out.swapaxes(0, 1), order=\"C\"))\n",
    "out_c = out_c.transpose(0)\n",
    "lib.fp(out_c), out_c.shape[::-1]"
   ]
  },
  {
   "cell_type": "code",
   "execution_count": 36,
   "id": "a41a862a-d7c2-4c45-bdc5-97b33c9eafe6",
   "metadata": {},
   "outputs": [
    {
     "data": {
      "text/plain": [
       "((-16.294988603262368+21.630652439596524j), (1378, 3))"
      ]
     },
     "execution_count": 36,
     "metadata": {},
     "output_type": "execute_result"
    }
   ],
   "source": [
    "# deriv | shl\n",
    "out = mol.intor(\"int1e_ipnuc_spinor\", shls_slice=[8, 18, 8, 18])\n",
    "out_c = lib.pack_tril(np.array(out.swapaxes(1, 2), order=\"C\"))\n",
    "out_c = out_c.transpose(0, 1)\n",
    "lib.fp(out_c), out_c.shape[::-1]"
   ]
  },
  {
   "cell_type": "markdown",
   "id": "7ed22912-262d-4ad1-a7a7-e94c3bf72b75",
   "metadata": {},
   "source": [
    "## 3-center intor"
   ]
  },
  {
   "cell_type": "markdown",
   "id": "46609fff-3018-420a-b5e3-877e7864ab01",
   "metadata": {},
   "source": [
    "### 3c-sph"
   ]
  },
  {
   "cell_type": "code",
   "execution_count": 37,
   "id": "9110743e-7cc6-4438-acf4-fcecfebf93da",
   "metadata": {},
   "outputs": [
    {
     "data": {
      "text/plain": [
       "(385.7604793373525, (43, 43, 43))"
      ]
     },
     "execution_count": 37,
     "metadata": {},
     "output_type": "execute_result"
    }
   ],
   "source": [
    "# no-deriv\n",
    "out = mol.intor(\"int3c2e\")\n",
    "out_c = out.transpose(2, 1, 0)\n",
    "assert out_c.flags.c_contiguous\n",
    "lib.fp(out_c), out_c.shape[::-1]"
   ]
  },
  {
   "cell_type": "code",
   "execution_count": 38,
   "id": "2fdbe86b-6405-4173-8b4b-0f99a367aec2",
   "metadata": {},
   "outputs": [
    {
     "data": {
      "text/plain": [
       "(17.403936599238815, (43, 43, 43, 3))"
      ]
     },
     "execution_count": 38,
     "metadata": {},
     "output_type": "execute_result"
    }
   ],
   "source": [
    "# deriv\n",
    "out = mol.intor(\"int3c2e_ig1\")\n",
    "out_c = out.transpose(0, 3, 2, 1)\n",
    "assert out_c.flags.c_contiguous\n",
    "lib.fp(out_c), out_c.shape[::-1]"
   ]
  },
  {
   "cell_type": "code",
   "execution_count": 39,
   "id": "4880bdb2-ab4a-4fd9-876c-c5611af8ce44",
   "metadata": {},
   "outputs": [
    {
     "data": {
      "text/plain": [
       "(3.365987495786978, (32, 26, 29))"
      ]
     },
     "execution_count": 39,
     "metadata": {},
     "output_type": "execute_result"
    }
   ],
   "source": [
    "# no-deriv | shl\n",
    "out = mol.intor(\"int3c2e\", shls_slice=[0, 12, 8, 18, 6, 15])\n",
    "out_c = out.transpose(2, 1, 0)\n",
    "assert out_c.flags.c_contiguous\n",
    "lib.fp(out_c), out_c.shape[::-1]"
   ]
  },
  {
   "cell_type": "code",
   "execution_count": 40,
   "id": "46464a1c-6fe2-4ecf-b0a1-bb1108ee5ca8",
   "metadata": {},
   "outputs": [
    {
     "data": {
      "text/plain": [
       "(29.05796504400456, (32, 26, 29, 9))"
      ]
     },
     "execution_count": 40,
     "metadata": {},
     "output_type": "execute_result"
    }
   ],
   "source": [
    "# deriv | shl\n",
    "out = mol.intor(\"int3c2e_ipip1\", shls_slice=[0, 12, 8, 18, 6, 15])\n",
    "out_c = out.transpose(0, 3, 2, 1)\n",
    "assert out_c.flags.c_contiguous\n",
    "lib.fp(out_c), out_c.shape[::-1]"
   ]
  },
  {
   "cell_type": "code",
   "execution_count": 41,
   "id": "306de15b-2786-44b0-be85-0c163dc22c00",
   "metadata": {},
   "outputs": [
    {
     "data": {
      "text/plain": [
       "(8.973911146875718, (946, 43))"
      ]
     },
     "execution_count": 41,
     "metadata": {},
     "output_type": "execute_result"
    }
   ],
   "source": [
    "# no-deriv\n",
    "out = mol.intor(\"int3c2e\")\n",
    "out_c = out.transpose(2, 1, 0)\n",
    "assert out_c.flags.c_contiguous\n",
    "out_cp = lib.pack_tril(out_c.reshape(-1, out_c.shape[-2], out_c.shape[-1]))\n",
    "out_cp.shape = out_c.shape[:-2] + out_cp.shape[-1:]\n",
    "lib.fp(out_cp), out_cp.shape[::-1]"
   ]
  },
  {
   "cell_type": "code",
   "execution_count": 42,
   "id": "daea9a8b-b1b6-46c5-8fb5-9bdc21d9244d",
   "metadata": {},
   "outputs": [
    {
     "data": {
      "text/plain": [
       "(-4.835348657362738, (946, 43, 3))"
      ]
     },
     "execution_count": 42,
     "metadata": {},
     "output_type": "execute_result"
    }
   ],
   "source": [
    "# deriv\n",
    "out = mol.intor(\"int3c2e_ip2\")\n",
    "out_c = out.transpose(0, 3, 2, 1)\n",
    "assert out_c.flags.c_contiguous\n",
    "out_cp = lib.pack_tril(out_c.reshape(-1, out_c.shape[-2], out_c.shape[-1]))\n",
    "out_cp.shape = out_c.shape[:-2] + out_cp.shape[-1:]\n",
    "lib.fp(out_cp), out_cp.shape[::-1]"
   ]
  },
  {
   "cell_type": "code",
   "execution_count": 43,
   "id": "3fd8d796-ce1f-42f8-b6d7-35935cbbec7e",
   "metadata": {},
   "outputs": [
    {
     "data": {
      "text/plain": [
       "(30.29313979284533, (351, 29))"
      ]
     },
     "execution_count": 43,
     "metadata": {},
     "output_type": "execute_result"
    }
   ],
   "source": [
    "# no-deriv | shl\n",
    "out = mol.intor(\"int3c2e\", shls_slice=[8, 18, 8, 18, 6, 15])\n",
    "out_c = out.transpose(2, 1, 0)\n",
    "assert out_c.flags.c_contiguous\n",
    "out_cp = lib.pack_tril(out_c.reshape(-1, out_c.shape[-2], out_c.shape[-1]))\n",
    "out_cp.shape = out_c.shape[:-2] + out_cp.shape[-1:]\n",
    "lib.fp(out_cp), out_cp.shape[::-1]"
   ]
  },
  {
   "cell_type": "code",
   "execution_count": 44,
   "id": "6ac9c2f9-607b-4b1c-9a30-4187a7d9d5e7",
   "metadata": {},
   "outputs": [
    {
     "data": {
      "text/plain": [
       "(-6.144703885051337, (351, 29, 9))"
      ]
     },
     "execution_count": 44,
     "metadata": {},
     "output_type": "execute_result"
    }
   ],
   "source": [
    "# deriv | shl\n",
    "out = mol.intor(\"int3c2e_ip1ip2\", shls_slice=[8, 18, 8, 18, 6, 15])\n",
    "out_c = out.transpose(0, 3, 2, 1)\n",
    "assert out_c.flags.c_contiguous\n",
    "out_cp = lib.pack_tril(out_c.reshape(-1, out_c.shape[-2], out_c.shape[-1]))\n",
    "out_cp.shape = out_c.shape[:-2] + out_cp.shape[-1:]\n",
    "lib.fp(out_cp), out_cp.shape[::-1]"
   ]
  },
  {
   "cell_type": "markdown",
   "id": "d6394d58-eb32-41d6-ad07-2770e4333d04",
   "metadata": {},
   "source": [
    "### 3c-spinor"
   ]
  },
  {
   "cell_type": "code",
   "execution_count": 119,
   "id": "d1528382-85d1-421a-9a34-e26f44b58dd8",
   "metadata": {},
   "outputs": [
    {
     "data": {
      "text/plain": [
       "((-12.697280181635584-12.540288220212048j), (86, 86, 43))"
      ]
     },
     "execution_count": 119,
     "metadata": {},
     "output_type": "execute_result"
    }
   ],
   "source": [
    "# no-deriv\n",
    "out = mol.intor(\"int3c2e_spinor\")\n",
    "out_c = out.transpose(2, 1, 0)\n",
    "assert out_c.flags.c_contiguous\n",
    "lib.fp(out_c), out_c.shape[::-1]"
   ]
  },
  {
   "cell_type": "code",
   "execution_count": 46,
   "id": "79ca67d3-4c48-400c-89f8-d79bd02acb57",
   "metadata": {},
   "outputs": [
    {
     "data": {
      "text/plain": [
       "(5.9023441440830915, (48, 48, 48, 3))"
      ]
     },
     "execution_count": 46,
     "metadata": {},
     "output_type": "execute_result"
    }
   ],
   "source": [
    "# deriv\n",
    "out = mol.intor(\"int3c2e_ig1_cart\")\n",
    "out_c = out.transpose(0, 3, 2, 1)\n",
    "assert out_c.flags.c_contiguous\n",
    "lib.fp(out_c), out_c.shape[::-1]"
   ]
  },
  {
   "cell_type": "code",
   "execution_count": 47,
   "id": "5c7c848c-4803-4c99-88bb-bb1bb8c74a42",
   "metadata": {},
   "outputs": [
    {
     "data": {
      "text/plain": [
       "(53.55901107470838, (37, 31, 34))"
      ]
     },
     "execution_count": 47,
     "metadata": {},
     "output_type": "execute_result"
    }
   ],
   "source": [
    "# no-deriv | shl\n",
    "out = mol.intor(\"int3c2e_cart\", shls_slice=[0, 12, 8, 18, 6, 15])\n",
    "out_c = out.transpose(2, 1, 0)\n",
    "assert out_c.flags.c_contiguous\n",
    "lib.fp(out_c), out_c.shape[::-1]"
   ]
  },
  {
   "cell_type": "code",
   "execution_count": 48,
   "id": "26d949d7-6d14-4218-8f94-20c21f44374e",
   "metadata": {},
   "outputs": [
    {
     "data": {
      "text/plain": [
       "(904.5370718832919, (37, 31, 34, 9))"
      ]
     },
     "execution_count": 48,
     "metadata": {},
     "output_type": "execute_result"
    }
   ],
   "source": [
    "# deriv | shl\n",
    "out = mol.intor(\"int3c2e_ipip1_cart\", shls_slice=[0, 12, 8, 18, 6, 15])\n",
    "out_c = out.transpose(0, 3, 2, 1)\n",
    "assert out_c.flags.c_contiguous\n",
    "lib.fp(out_c), out_c.shape[::-1]"
   ]
  },
  {
   "cell_type": "code",
   "execution_count": 49,
   "id": "ef3c6af0-698a-46c9-8166-fca7f32ceb40",
   "metadata": {},
   "outputs": [
    {
     "data": {
      "text/plain": [
       "(80.25669268335058, (1176, 48))"
      ]
     },
     "execution_count": 49,
     "metadata": {},
     "output_type": "execute_result"
    }
   ],
   "source": [
    "# no-deriv\n",
    "out = mol.intor(\"int3c2e_cart\")\n",
    "out_c = out.transpose(2, 1, 0)\n",
    "assert out_c.flags.c_contiguous\n",
    "out_cp = lib.pack_tril(out_c.reshape(-1, out_c.shape[-2], out_c.shape[-1]))\n",
    "out_cp.shape = out_c.shape[:-2] + out_cp.shape[-1:]\n",
    "lib.fp(out_cp), out_cp.shape[::-1]"
   ]
  },
  {
   "cell_type": "code",
   "execution_count": 50,
   "id": "55334512-0439-415e-b94d-cb6c0de7a025",
   "metadata": {},
   "outputs": [
    {
     "data": {
      "text/plain": [
       "(1.3547693151160463, (1176, 48, 3))"
      ]
     },
     "execution_count": 50,
     "metadata": {},
     "output_type": "execute_result"
    }
   ],
   "source": [
    "# deriv\n",
    "out = mol.intor(\"int3c2e_ip2_cart\")\n",
    "out_c = out.transpose(0, 3, 2, 1)\n",
    "assert out_c.flags.c_contiguous\n",
    "out_cp = lib.pack_tril(out_c.reshape(-1, out_c.shape[-2], out_c.shape[-1]))\n",
    "out_cp.shape = out_c.shape[:-2] + out_cp.shape[-1:]\n",
    "lib.fp(out_cp), out_cp.shape[::-1]"
   ]
  },
  {
   "cell_type": "code",
   "execution_count": 51,
   "id": "1217ec3e-2db3-4842-b258-b3525725972f",
   "metadata": {},
   "outputs": [
    {
     "data": {
      "text/plain": [
       "(-236.8269201943644, (496, 34))"
      ]
     },
     "execution_count": 51,
     "metadata": {},
     "output_type": "execute_result"
    }
   ],
   "source": [
    "# no-deriv | shl\n",
    "out = mol.intor(\"int3c2e_cart\", shls_slice=[8, 18, 8, 18, 6, 15])\n",
    "out_c = out.transpose(2, 1, 0)\n",
    "assert out_c.flags.c_contiguous\n",
    "out_cp = lib.pack_tril(out_c.reshape(-1, out_c.shape[-2], out_c.shape[-1]))\n",
    "out_cp.shape = out_c.shape[:-2] + out_cp.shape[-1:]\n",
    "lib.fp(out_cp), out_cp.shape[::-1]"
   ]
  },
  {
   "cell_type": "code",
   "execution_count": 52,
   "id": "73b1eb42-6e9c-4e65-bb02-1b469b0d4553",
   "metadata": {},
   "outputs": [
    {
     "data": {
      "text/plain": [
       "(-34.75948218463372, (496, 34, 9))"
      ]
     },
     "execution_count": 52,
     "metadata": {},
     "output_type": "execute_result"
    }
   ],
   "source": [
    "# deriv | shl\n",
    "out = mol.intor(\"int3c2e_ip1ip2_cart\", shls_slice=[8, 18, 8, 18, 6, 15])\n",
    "out_c = out.transpose(0, 3, 2, 1)\n",
    "assert out_c.flags.c_contiguous\n",
    "out_cp = lib.pack_tril(out_c.reshape(-1, out_c.shape[-2], out_c.shape[-1]))\n",
    "out_cp.shape = out_c.shape[:-2] + out_cp.shape[-1:]\n",
    "lib.fp(out_cp), out_cp.shape[::-1]"
   ]
  },
  {
   "cell_type": "markdown",
   "id": "9ee779e7-1694-4428-a4eb-e04d5c9ebefc",
   "metadata": {},
   "source": [
    "## 4-center intor"
   ]
  },
  {
   "cell_type": "markdown",
   "id": "e0684ab6-2edc-462d-a42f-1e00cdefa341",
   "metadata": {},
   "source": [
    "### 4c-sph"
   ]
  },
  {
   "cell_type": "code",
   "execution_count": 60,
   "id": "5ec5467f-e32a-4efc-99da-4dd7fd57b728",
   "metadata": {},
   "outputs": [
    {
     "data": {
      "text/plain": [
       "(70.00106603114827, (43, 43, 43, 43))"
      ]
     },
     "execution_count": 60,
     "metadata": {},
     "output_type": "execute_result"
    }
   ],
   "source": [
    "# no-deriv\n",
    "out = mol.intor(\"int2e\")\n",
    "out_c = out.transpose(3, 2, 1, 0)\n",
    "# assert out_c.flags.c_contiguous\n",
    "lib.fp(out_c), out_c.shape[::-1]"
   ]
  },
  {
   "cell_type": "code",
   "execution_count": 68,
   "id": "290677d9-9a00-493a-a212-56426ac1a0da",
   "metadata": {},
   "outputs": [
    {
     "data": {
      "text/plain": [
       "(118.50663866543611, (43, 43, 43, 43, 3))"
      ]
     },
     "execution_count": 68,
     "metadata": {},
     "output_type": "execute_result"
    }
   ],
   "source": [
    "# deriv\n",
    "out = mol.intor(\"int2e_ip1\")\n",
    "out_c = out.transpose(0, 4, 3, 2, 1)\n",
    "# assert out_c.flags.c_contiguous\n",
    "lib.fp(out_c), out_c.shape[::-1]"
   ]
  },
  {
   "cell_type": "code",
   "execution_count": 73,
   "id": "15ac7a16-d1cf-4abd-a8f6-d015dd9fa0c5",
   "metadata": {},
   "outputs": [
    {
     "data": {
      "text/plain": [
       "(1.5094112713177106, (32, 26, 29, 21))"
      ]
     },
     "execution_count": 73,
     "metadata": {},
     "output_type": "execute_result"
    }
   ],
   "source": [
    "# no-deriv | shl\n",
    "out = mol.intor(\"int2e\", shls_slice=[0, 12, 8, 18, 6, 15, 3, 10])\n",
    "out_c = out.transpose(3, 2, 1, 0)\n",
    "# assert out_c.flags.c_contiguous\n",
    "lib.fp(out_c), out_c.shape[::-1]"
   ]
  },
  {
   "cell_type": "code",
   "execution_count": 95,
   "id": "74e4e0a1-bf66-4dd3-b420-fd4a2a2c5779",
   "metadata": {},
   "outputs": [
    {
     "data": {
      "text/plain": [
       "(36.85088072685591, (32, 26, 29, 21, 48))"
      ]
     },
     "execution_count": 95,
     "metadata": {},
     "output_type": "execute_result"
    }
   ],
   "source": [
    "# deriv | shl\n",
    "# note: possibly int2e_giao_ssa10ssp2 and int2e_gssp1ssp2 not implemented correctly\n",
    "out = mol.intor(\"int2e_cg_ssa10ssp2\", shls_slice=[0, 12, 8, 18, 6, 15, 3, 10])\n",
    "out_c = out.transpose(0, 4, 3, 2, 1)\n",
    "# assert out_c.flags.c_contiguous\n",
    "lib.fp(out_c), out_c.shape[::-1]"
   ]
  },
  {
   "cell_type": "code",
   "execution_count": 102,
   "id": "c137080f-98b9-44a6-8b92-3814f4188bb3",
   "metadata": {},
   "outputs": [
    {
     "data": {
      "text/plain": [
       "(1.8306651475961022, (946, 43, 43))"
      ]
     },
     "execution_count": 102,
     "metadata": {},
     "output_type": "execute_result"
    }
   ],
   "source": [
    "# no-deriv\n",
    "out = mol.intor(\"int2e\", aosym=\"s2ij\")\n",
    "out_c = out.transpose(2, 1, 0)\n",
    "# assert out_c.flags.c_contiguous\n",
    "lib.fp(out_c), out_c.shape[::-1]"
   ]
  },
  {
   "cell_type": "code",
   "execution_count": 106,
   "id": "9f064eae-e8fc-4315-9012-061190e7a1d4",
   "metadata": {},
   "outputs": [
    {
     "data": {
      "text/plain": [
       "(-12.331846851227873, (946, 43, 43, 9))"
      ]
     },
     "execution_count": 106,
     "metadata": {},
     "output_type": "execute_result"
    }
   ],
   "source": [
    "# deriv\n",
    "out = mol.intor(\"int2e_gg1\", aosym=\"s2ij\")\n",
    "out_c = out.transpose(0, 3, 2, 1)\n",
    "# assert out_c.flags.c_contiguous\n",
    "lib.fp(out_c), out_c.shape[::-1]"
   ]
  },
  {
   "cell_type": "code",
   "execution_count": 108,
   "id": "1b314b40-10e9-424d-94d8-40312a9c3e5c",
   "metadata": {},
   "outputs": [
    {
     "data": {
      "text/plain": [
       "(1.7525131209661868, (351, 29, 21))"
      ]
     },
     "execution_count": 108,
     "metadata": {},
     "output_type": "execute_result"
    }
   ],
   "source": [
    "# no-deriv | shl\n",
    "out = mol.intor(\"int2e\", aosym=\"s2ij\", shls_slice=[8, 18, 8, 18, 6, 15, 3, 10])\n",
    "out_c = out.transpose(2, 1, 0)\n",
    "# assert out_c.flags.c_contiguous\n",
    "lib.fp(out_c), out_c.shape[::-1]"
   ]
  },
  {
   "cell_type": "code",
   "execution_count": 120,
   "id": "f5da4f71-43cd-402e-aaf8-3c022eada707",
   "metadata": {},
   "outputs": [
    {
     "data": {
      "text/plain": [
       "(6.391595640883066, (351, 29, 21, 9))"
      ]
     },
     "execution_count": 120,
     "metadata": {},
     "output_type": "execute_result"
    }
   ],
   "source": [
    "# deriv | shl\n",
    "out = mol.intor(\"int2e_gg1\", aosym=\"s2ij\", shls_slice=[8, 18, 8, 18, 6, 15, 3, 10])\n",
    "out_c = out.transpose(0, 3, 2, 1)\n",
    "# assert out_c.flags.c_contiguous\n",
    "lib.fp(out_c), out_c.shape[::-1]"
   ]
  },
  {
   "cell_type": "markdown",
   "id": "9575aa8c-a25f-40d8-a239-977473843de9",
   "metadata": {},
   "source": [
    "### 4c-cart"
   ]
  },
  {
   "cell_type": "code",
   "execution_count": 129,
   "id": "6d738c3a-eaa7-475e-b44d-413b2b66eec1",
   "metadata": {},
   "outputs": [
    {
     "data": {
      "text/plain": [
       "(-27.40361459334603, (48, 48, 48, 48))"
      ]
     },
     "execution_count": 129,
     "metadata": {},
     "output_type": "execute_result"
    }
   ],
   "source": [
    "# no-deriv\n",
    "out = mol.intor(\"int2e_cart\")\n",
    "out_c = out.transpose(3, 2, 1, 0)\n",
    "# assert out_c.flags.c_contiguous\n",
    "lib.fp(out_c), out_c.shape[::-1]"
   ]
  },
  {
   "cell_type": "code",
   "execution_count": 130,
   "id": "4fe256e7-910d-4e8f-8dbf-4c822615a5db",
   "metadata": {},
   "outputs": [
    {
     "data": {
      "text/plain": [
       "(-102.69339786816539, (48, 48, 48, 48, 3))"
      ]
     },
     "execution_count": 130,
     "metadata": {},
     "output_type": "execute_result"
    }
   ],
   "source": [
    "# deriv\n",
    "out = mol.intor(\"int2e_ip1_cart\")\n",
    "out_c = out.transpose(0, 4, 3, 2, 1)\n",
    "# assert out_c.flags.c_contiguous\n",
    "lib.fp(out_c), out_c.shape[::-1]"
   ]
  },
  {
   "cell_type": "code",
   "execution_count": 131,
   "id": "ff15df5b-b814-4a45-b597-17b83ae35c39",
   "metadata": {},
   "outputs": [
    {
     "data": {
      "text/plain": [
       "(-3.3950467582181965, (37, 31, 34, 23))"
      ]
     },
     "execution_count": 131,
     "metadata": {},
     "output_type": "execute_result"
    }
   ],
   "source": [
    "# no-deriv | shl\n",
    "out = mol.intor(\"int2e_cart\", shls_slice=[0, 12, 8, 18, 6, 15, 3, 10])\n",
    "out_c = out.transpose(3, 2, 1, 0)\n",
    "# assert out_c.flags.c_contiguous\n",
    "lib.fp(out_c), out_c.shape[::-1]"
   ]
  },
  {
   "cell_type": "code",
   "execution_count": 132,
   "id": "1c83f95e-6b16-4901-a166-808a30ee503c",
   "metadata": {},
   "outputs": [
    {
     "data": {
      "text/plain": [
       "(-23.165032397305538, (37, 31, 34, 23, 48))"
      ]
     },
     "execution_count": 132,
     "metadata": {},
     "output_type": "execute_result"
    }
   ],
   "source": [
    "# deriv | shl\n",
    "# note: possibly int2e_giao_ssa10ssp2 and int2e_gssp1ssp2 not implemented correctly\n",
    "out = mol.intor(\"int2e_cg_ssa10ssp2_cart\", shls_slice=[0, 12, 8, 18, 6, 15, 3, 10])\n",
    "out_c = out.transpose(0, 4, 3, 2, 1)\n",
    "# assert out_c.flags.c_contiguous\n",
    "lib.fp(out_c), out_c.shape[::-1]"
   ]
  },
  {
   "cell_type": "code",
   "execution_count": 133,
   "id": "54aee5e7-b3c1-4c34-a61c-a42e3aa794b1",
   "metadata": {},
   "outputs": [
    {
     "data": {
      "text/plain": [
       "(40.18960951457926, (1176, 48, 48))"
      ]
     },
     "execution_count": 133,
     "metadata": {},
     "output_type": "execute_result"
    }
   ],
   "source": [
    "# no-deriv\n",
    "out = mol.intor(\"int2e_cart\", aosym=\"s2ij\")\n",
    "out_c = out.transpose(2, 1, 0)\n",
    "# assert out_c.flags.c_contiguous\n",
    "lib.fp(out_c), out_c.shape[::-1]"
   ]
  },
  {
   "cell_type": "code",
   "execution_count": 134,
   "id": "669c5ec3-af14-4f81-810c-a2918a398104",
   "metadata": {},
   "outputs": [
    {
     "data": {
      "text/plain": [
       "(53.03167458535967, (1176, 48, 48, 9))"
      ]
     },
     "execution_count": 134,
     "metadata": {},
     "output_type": "execute_result"
    }
   ],
   "source": [
    "# deriv\n",
    "out = mol.intor(\"int2e_gg1_cart\", aosym=\"s2ij\")\n",
    "out_c = out.transpose(0, 3, 2, 1)\n",
    "# assert out_c.flags.c_contiguous\n",
    "lib.fp(out_c), out_c.shape[::-1]"
   ]
  },
  {
   "cell_type": "code",
   "execution_count": 135,
   "id": "b5b735a3-6da9-4adf-87c7-e0aedc59bd27",
   "metadata": {},
   "outputs": [
    {
     "data": {
      "text/plain": [
       "(-84.37906159867836, (496, 34, 23))"
      ]
     },
     "execution_count": 135,
     "metadata": {},
     "output_type": "execute_result"
    }
   ],
   "source": [
    "# no-deriv | shl\n",
    "out = mol.intor(\"int2e_cart\", aosym=\"s2ij\", shls_slice=[8, 18, 8, 18, 6, 15, 3, 10])\n",
    "out_c = out.transpose(2, 1, 0)\n",
    "# assert out_c.flags.c_contiguous\n",
    "lib.fp(out_c), out_c.shape[::-1]"
   ]
  },
  {
   "cell_type": "code",
   "execution_count": 136,
   "id": "cff4926e-0f7a-44cb-8228-e26bb0ce2c92",
   "metadata": {},
   "outputs": [
    {
     "data": {
      "text/plain": [
       "(-18.774888488360734, (496, 34, 23, 9))"
      ]
     },
     "execution_count": 136,
     "metadata": {},
     "output_type": "execute_result"
    }
   ],
   "source": [
    "# deriv | shl\n",
    "out = mol.intor(\"int2e_gg1_cart\", aosym=\"s2ij\", shls_slice=[8, 18, 8, 18, 6, 15, 3, 10])\n",
    "out_c = out.transpose(0, 3, 2, 1)\n",
    "# assert out_c.flags.c_contiguous\n",
    "lib.fp(out_c), out_c.shape[::-1]"
   ]
  },
  {
   "cell_type": "markdown",
   "id": "a23e2bbb-59db-4ae0-bef1-03e20e0c5643",
   "metadata": {},
   "source": [
    "### 4c-spinor"
   ]
  },
  {
   "cell_type": "code",
   "execution_count": 153,
   "id": "8c041445-1e16-49f6-9e3b-23e6517a45ab",
   "metadata": {},
   "outputs": [
    {
     "data": {
      "text/plain": [
       "((-4.074835677031094+0j), (86, 86, 86, 86))"
      ]
     },
     "execution_count": 153,
     "metadata": {},
     "output_type": "execute_result"
    }
   ],
   "source": [
    "# no-deriv\n",
    "out = mol.intor(\"int2e_spinor\")\n",
    "out_c = out.transpose(3, 2, 1, 0)\n",
    "# assert out_c.flags.c_contiguous\n",
    "lib.fp(out_c), out_c.shape[::-1]"
   ]
  },
  {
   "cell_type": "code",
   "execution_count": 143,
   "id": "9c822df0-b4de-4181-9de8-26098bb6cefd",
   "metadata": {},
   "outputs": [
    {
     "data": {
      "text/plain": [
       "((65.47856903615192+3.951167514490777j), (86, 86, 86, 86, 3))"
      ]
     },
     "execution_count": 143,
     "metadata": {},
     "output_type": "execute_result"
    }
   ],
   "source": [
    "# deriv\n",
    "out = mol.intor(\"int2e_ip1_spinor\")\n",
    "out_c = out.transpose(0, 4, 3, 2, 1)\n",
    "# assert out_c.flags.c_contiguous\n",
    "lib.fp(out_c), out_c.shape[::-1]"
   ]
  },
  {
   "cell_type": "code",
   "execution_count": 165,
   "id": "8516232b-59b1-47f4-8bb3-0b65d405bb04",
   "metadata": {},
   "outputs": [
    {
     "data": {
      "text/plain": [
       "((-108.4641480695912-126.77627515021382j), (86, 86, 86, 86, 3))"
      ]
     },
     "execution_count": 165,
     "metadata": {},
     "output_type": "execute_result"
    }
   ],
   "source": [
    "# deriv\n",
    "out = mol.intor(\"int2e_cg_ssa10ssp2_spinor\")\n",
    "out_c = out.transpose(0, 4, 3, 2, 1)\n",
    "# assert out_c.flags.c_contiguous\n",
    "lib.fp(out_c), out_c.shape[::-1]"
   ]
  },
  {
   "cell_type": "code",
   "execution_count": 171,
   "id": "20b7c2a5-dd7e-4b98-bd43-83f7eb878b3d",
   "metadata": {},
   "outputs": [
    {
     "data": {
      "text/plain": [
       "((6.7689010236720835+0j), (42, 58, 52, 64))"
      ]
     },
     "execution_count": 171,
     "metadata": {},
     "output_type": "execute_result"
    }
   ],
   "source": [
    "# no-deriv | shl\n",
    "# note seems that shape when shls_slice in spinor is different to sph\n",
    "out = mol.intor(\"int2e_spinor\", shls_slice=[0, 12, 8, 18, 6, 15, 3, 10])\n",
    "out_c = out.transpose(3, 2, 1, 0)\n",
    "# assert out_c.flags.c_contiguous\n",
    "lib.fp(out_c), out_c.shape[::-1]"
   ]
  },
  {
   "cell_type": "code",
   "execution_count": 170,
   "id": "f4d16e74-c776-478f-be2f-c77712bb95b9",
   "metadata": {},
   "outputs": [
    {
     "data": {
      "text/plain": [
       "((169.1237983415611-52.91956958665179j), (3, 42, 58, 52, 64))"
      ]
     },
     "execution_count": 170,
     "metadata": {},
     "output_type": "execute_result"
    }
   ],
   "source": [
    "# deriv | shl\n",
    "# note: possibly int2e_giao_ssa10ssp2 and int2e_gssp1ssp2 not implemented correctly\n",
    "out = mol.intor(\"int2e_cg_ssa10ssp2_spinor\", shls_slice=[0, 12, 8, 18, 6, 15, 3, 10])\n",
    "out_c = out.transpose(0, 4, 3, 2, 1)\n",
    "# assert out_c.flags.c_contiguous\n",
    "lib.fp(out_c), out.shape"
   ]
  },
  {
   "cell_type": "code",
   "execution_count": null,
   "id": "8cb9a433-b319-4393-aae0-33cb0f4fcca1",
   "metadata": {},
   "outputs": [],
   "source": []
  },
  {
   "cell_type": "code",
   "execution_count": null,
   "id": "46ca6b6f-8cf9-4bd6-b437-e1037950f0ac",
   "metadata": {},
   "outputs": [],
   "source": []
  },
  {
   "cell_type": "code",
   "execution_count": null,
   "id": "b6583c9a-90fd-4c10-bb77-ca474e02371a",
   "metadata": {},
   "outputs": [],
   "source": []
  },
  {
   "cell_type": "code",
   "execution_count": null,
   "id": "cde7a668-34b0-4bc8-87e0-79a0bbcfd3c3",
   "metadata": {},
   "outputs": [],
   "source": []
  }
 ],
 "metadata": {
  "kernelspec": {
   "display_name": "Python 3 (ipykernel)",
   "language": "python",
   "name": "python3"
  },
  "language_info": {
   "codemirror_mode": {
    "name": "ipython",
    "version": 3
   },
   "file_extension": ".py",
   "mimetype": "text/x-python",
   "name": "python",
   "nbconvert_exporter": "python",
   "pygments_lexer": "ipython3",
   "version": "3.12.2"
  }
 },
 "nbformat": 4,
 "nbformat_minor": 5
}
