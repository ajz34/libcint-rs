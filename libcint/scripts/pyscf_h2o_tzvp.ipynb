{
 "cells": [
  {
   "cell_type": "code",
   "execution_count": 1,
   "id": "e839a5d8-dd7e-422a-83de-e430eca88dd7",
   "metadata": {},
   "outputs": [],
   "source": [
    "from pyscf import gto, lib\n",
    "import numpy as np\n",
    "\n",
    "np.set_printoptions(16, suppress=False, linewidth=300)"
   ]
  },
  {
   "cell_type": "code",
   "execution_count": 2,
   "id": "a382f595-53a0-4258-9eb7-7f422be99ca3",
   "metadata": {},
   "outputs": [],
   "source": [
    "mol = gto.Mole(atom=\"O; H 1 0.94; H 1 0.94 2 104.5\", basis=\"def2-TZVP\").build()"
   ]
  },
  {
   "cell_type": "markdown",
   "id": "fa4b6e55-9dd8-4ba9-b25b-f7e994ba738c",
   "metadata": {},
   "source": [
    "## cint_prop"
   ]
  },
  {
   "cell_type": "code",
   "execution_count": 3,
   "id": "b14b4fd6-a76d-4fb1-8193-21ddc20c1b5b",
   "metadata": {},
   "outputs": [
    {
     "data": {
      "text/plain": [
       "{}"
      ]
     },
     "execution_count": 3,
     "metadata": {},
     "output_type": "execute_result"
    }
   ],
   "source": [
    "mol.has_ecp()"
   ]
  },
  {
   "cell_type": "code",
   "execution_count": 4,
   "id": "7343fd50-5253-4b7c-b2f1-f171fef8929b",
   "metadata": {},
   "outputs": [
    {
     "data": {
      "text/plain": [
       "19"
      ]
     },
     "execution_count": 4,
     "metadata": {},
     "output_type": "execute_result"
    }
   ],
   "source": [
    "mol.nbas"
   ]
  },
  {
   "cell_type": "code",
   "execution_count": 5,
   "id": "ef6a9ca1-b298-41dc-a175-a39e67166678",
   "metadata": {},
   "outputs": [
    {
     "data": {
      "text/plain": [
       "8"
      ]
     },
     "execution_count": 5,
     "metadata": {},
     "output_type": "execute_result"
    }
   ],
   "source": [
    "mol.atom_charge(0)"
   ]
  },
  {
   "cell_type": "code",
   "execution_count": 6,
   "id": "2daa9ef4-2717-42d8-821b-02f5e8ad7340",
   "metadata": {},
   "outputs": [
    {
     "data": {
      "text/plain": [
       "43"
      ]
     },
     "execution_count": 6,
     "metadata": {},
     "output_type": "execute_result"
    }
   ],
   "source": [
    "mol.nao_nr()"
   ]
  },
  {
   "cell_type": "code",
   "execution_count": 7,
   "id": "48b326c4-f1be-45dc-90d2-5da7f399a981",
   "metadata": {},
   "outputs": [
    {
     "data": {
      "text/plain": [
       "48"
      ]
     },
     "execution_count": 7,
     "metadata": {},
     "output_type": "execute_result"
    }
   ],
   "source": [
    "mol.nao_cart()"
   ]
  },
  {
   "cell_type": "code",
   "execution_count": 8,
   "id": "885a96bf-ef46-433b-adfe-d523c315dfba",
   "metadata": {},
   "outputs": [
    {
     "data": {
      "text/plain": [
       "86"
      ]
     },
     "execution_count": 8,
     "metadata": {},
     "output_type": "execute_result"
    }
   ],
   "source": [
    "mol.nao_2c()"
   ]
  },
  {
   "cell_type": "code",
   "execution_count": 9,
   "id": "5edfa6bc-3fb3-4809-b26f-f1cff912ffea",
   "metadata": {},
   "outputs": [
    {
     "data": {
      "text/plain": [
       "-2.4358371781626658"
      ]
     },
     "execution_count": 9,
     "metadata": {},
     "output_type": "execute_result"
    }
   ],
   "source": [
    "lib.fingerprint(mol.atom_coords())"
   ]
  },
  {
   "cell_type": "code",
   "execution_count": 10,
   "id": "fab90345-fbf9-4910-b9ed-e859eb8d4a9d",
   "metadata": {},
   "outputs": [
    {
     "data": {
      "text/plain": [
       "11"
      ]
     },
     "execution_count": 10,
     "metadata": {},
     "output_type": "execute_result"
    }
   ],
   "source": [
    "mol.atom_nshells(0)"
   ]
  },
  {
   "cell_type": "code",
   "execution_count": 12,
   "id": "d69d5f67-8987-49a9-9c2d-7680531f9f12",
   "metadata": {},
   "outputs": [
    {
     "data": {
      "text/plain": [
       "array([[ 0, 11,  0, 31],\n",
       "       [11, 15, 31, 37],\n",
       "       [15, 19, 37, 43]])"
      ]
     },
     "execution_count": 12,
     "metadata": {},
     "output_type": "execute_result"
    }
   ],
   "source": [
    "mol.aoslice_by_atom()"
   ]
  },
  {
   "cell_type": "markdown",
   "id": "dbf869be-3ca0-41b0-b9cb-c38587a966b2",
   "metadata": {},
   "source": [
    "## Intor"
   ]
  },
  {
   "cell_type": "markdown",
   "id": "f576b3b3-5a6b-4aa3-860f-4533ca4c22e8",
   "metadata": {},
   "source": [
    "## 2-center"
   ]
  },
  {
   "cell_type": "code",
   "execution_count": null,
   "id": "4cc0260c-0d4c-46a3-a15d-8cf326efb22d",
   "metadata": {},
   "outputs": [],
   "source": []
  },
  {
   "cell_type": "markdown",
   "id": "547ffdb6-7e3b-438b-b96a-8c46399408e9",
   "metadata": {},
   "source": [
    "## 3-center"
   ]
  },
  {
   "cell_type": "code",
   "execution_count": 11,
   "id": "f01eeffc-9617-49fa-a5be-9e5b2cfdc612",
   "metadata": {},
   "outputs": [
    {
     "data": {
      "text/plain": [
       "385.7604793373525"
      ]
     },
     "execution_count": 11,
     "metadata": {},
     "output_type": "execute_result"
    }
   ],
   "source": [
    "out = mol.intor(\"int3c2e\")\n",
    "out_c = out.transpose(2, 1, 0)\n",
    "assert out_c.flags.c_contiguous\n",
    "lib.fp(out_c)"
   ]
  },
  {
   "cell_type": "code",
   "execution_count": null,
   "id": "3b1691b0-3f51-4bc7-a96a-f75bee947b11",
   "metadata": {},
   "outputs": [],
   "source": []
  },
  {
   "cell_type": "code",
   "execution_count": null,
   "id": "523735ed-be29-4509-865b-76bef4276a66",
   "metadata": {},
   "outputs": [],
   "source": []
  },
  {
   "cell_type": "code",
   "execution_count": null,
   "id": "e2f9e8a5-83b9-45c2-8506-242fc1bc063e",
   "metadata": {},
   "outputs": [],
   "source": []
  },
  {
   "cell_type": "code",
   "execution_count": 27,
   "id": "e077a059-b5ea-46f9-9d1a-81d933809a08",
   "metadata": {},
   "outputs": [
    {
     "data": {
      "text/plain": [
       "(37, 38, 29)"
      ]
     },
     "execution_count": 27,
     "metadata": {},
     "output_type": "execute_result"
    }
   ],
   "source": [
    "mol.intor(\"int3c2e\", shls_slice=[0, 15, 5, 19, 3, 12]).shape"
   ]
  },
  {
   "cell_type": "code",
   "execution_count": 34,
   "id": "63306ce8-5dca-47dd-95a7-ab913026421c",
   "metadata": {},
   "outputs": [
    {
     "data": {
      "text/plain": [
       "(11, 6, 3)"
      ]
     },
     "execution_count": 34,
     "metadata": {},
     "output_type": "execute_result"
    }
   ],
   "source": [
    "mol.intor(\"int1e_ipnuc\", shls_slice=[0, 7, 2, 6]).transpose(1, 2, 0).shape"
   ]
  },
  {
   "cell_type": "code",
   "execution_count": null,
   "id": "288b099a-6cab-4c94-9545-5132dcef9315",
   "metadata": {},
   "outputs": [],
   "source": []
  },
  {
   "cell_type": "code",
   "execution_count": 49,
   "id": "49f6ae1a-05f6-47ce-92db-9427cbdc0595",
   "metadata": {},
   "outputs": [
    {
     "name": "stdout",
     "output_type": "stream",
     "text": [
      "-30.908820928150256\n",
      "0.0\n",
      "-0.03334859771658561\n",
      "0.0\n",
      "-31.05501945520372\n",
      "0.0\n",
      "-0.03334859771658561\n",
      "0.0\n",
      "-30.92606999571649\n"
     ]
    }
   ],
   "source": [
    "for i in mol.intor(\"int1e_ipnuc\", shls_slice=[5, 6, 2, 3]).transpose(1, 2, 0).flatten():\n",
    "    print(i)"
   ]
  },
  {
   "cell_type": "code",
   "execution_count": null,
   "id": "37c1362a-b4ea-45e7-905a-1dd88212ccad",
   "metadata": {},
   "outputs": [],
   "source": []
  },
  {
   "cell_type": "code",
   "execution_count": null,
   "id": "18b3c8b5-1732-4893-a2b5-6e78a7b1c9fc",
   "metadata": {},
   "outputs": [],
   "source": []
  },
  {
   "cell_type": "code",
   "execution_count": null,
   "id": "1e4bace6-c3b8-43ef-81bc-e9fb086810fb",
   "metadata": {},
   "outputs": [],
   "source": []
  },
  {
   "cell_type": "code",
   "execution_count": 85,
   "id": "a7e9962a-f5a5-4186-b917-1bdd2029ddc8",
   "metadata": {},
   "outputs": [
    {
     "data": {
      "text/plain": [
       "6.622143982317206"
      ]
     },
     "execution_count": 85,
     "metadata": {},
     "output_type": "execute_result"
    }
   ],
   "source": [
    "lib.fingerprint(mol.intor(\"int3c2e\", shls_slice=[0, 7, 0, 7, 3, 10]).transpose(2, 1, 0))"
   ]
  },
  {
   "cell_type": "code",
   "execution_count": 94,
   "id": "6fee72d8-8af0-4057-8869-016bda0bd931",
   "metadata": {},
   "outputs": [
    {
     "data": {
      "text/plain": [
       "-0.7896940804934882"
      ]
     },
     "execution_count": 94,
     "metadata": {},
     "output_type": "execute_result"
    }
   ],
   "source": [
    "lib.fingerprint(mol.intor(\"int3c2e_ip1\", shls_slice=[0, 7, 0, 7, 3, 10], aosym=\"s2ij\").transpose(0, 2, 1))"
   ]
  },
  {
   "cell_type": "code",
   "execution_count": null,
   "id": "8777e942-29cc-4c7f-9185-441537f14970",
   "metadata": {},
   "outputs": [],
   "source": []
  },
  {
   "cell_type": "code",
   "execution_count": 3,
   "id": "3141f6ff-aeb1-4e29-aa2c-4d50902a7d5f",
   "metadata": {},
   "outputs": [
    {
     "data": {
      "text/plain": [
       "  C_CONTIGUOUS : True\n",
       "  F_CONTIGUOUS : False\n",
       "  OWNDATA : False\n",
       "  WRITEABLE : True\n",
       "  ALIGNED : True\n",
       "  WRITEBACKIFCOPY : False"
      ]
     },
     "execution_count": 3,
     "metadata": {},
     "output_type": "execute_result"
    }
   ],
   "source": [
    "mol.intor(\"int3c2e_ip2\", shls_slice=[0, 7, 0, 7, 3, 10], aosym=\"s2ij\").transpose(0, 2, 1).flags"
   ]
  },
  {
   "cell_type": "code",
   "execution_count": null,
   "id": "c7ade302-ebaf-4406-8fbc-b64d7196901b",
   "metadata": {},
   "outputs": [],
   "source": []
  },
  {
   "cell_type": "code",
   "execution_count": null,
   "id": "86897468-d154-4ef6-a332-f9169691e78f",
   "metadata": {},
   "outputs": [],
   "source": []
  },
  {
   "cell_type": "code",
   "execution_count": 11,
   "id": "10410f3a-1a1a-44b4-8096-ad9a5b8ed7d0",
   "metadata": {},
   "outputs": [
    {
     "data": {
      "text/plain": [
       "<module 'pyscf.gto' from '/home/a/miniconda3/envs/pyscf-pip/lib/python3.12/site-packages/pyscf/gto/__init__.py'>"
      ]
     },
     "execution_count": 11,
     "metadata": {},
     "output_type": "execute_result"
    }
   ],
   "source": [
    "gto"
   ]
  },
  {
   "cell_type": "code",
   "execution_count": 5,
   "id": "c6a3c9ed-f4e7-423e-b9c5-7526a9ba1330",
   "metadata": {},
   "outputs": [],
   "source": [
    "grids = np.random.randn(5, 3)"
   ]
  },
  {
   "cell_type": "code",
   "execution_count": 7,
   "id": "77d91249-cfd3-479a-a86c-03c28196d4dd",
   "metadata": {},
   "outputs": [
    {
     "name": "stdout",
     "output_type": "stream",
     "text": [
      "drv_name GTOgrids_int2c\n",
      "intor_name int1e_grids_sph\n"
     ]
    },
    {
     "data": {
      "text/plain": [
       "(5, 43, 43)"
      ]
     },
     "execution_count": 7,
     "metadata": {},
     "output_type": "execute_result"
    }
   ],
   "source": [
    "mol.intor(\"int1e_grids\", grids=grids).shape"
   ]
  },
  {
   "cell_type": "code",
   "execution_count": 10,
   "id": "311112fb-6d83-4f2c-b3bd-a3222ce4be4f",
   "metadata": {},
   "outputs": [
    {
     "ename": "AssertionError",
     "evalue": "",
     "output_type": "error",
     "traceback": [
      "\u001b[0;31m---------------------------------------------------------------------------\u001b[0m",
      "\u001b[0;31mAssertionError\u001b[0m                            Traceback (most recent call last)",
      "Cell \u001b[0;32mIn[10], line 1\u001b[0m\n\u001b[0;32m----> 1\u001b[0m mol\u001b[38;5;241m.\u001b[39mintor(\u001b[38;5;124m\"\u001b[39m\u001b[38;5;124mint1e_grids\u001b[39m\u001b[38;5;124m\"\u001b[39m)\n",
      "File \u001b[0;32m~/miniconda3/envs/pyscf-pip/lib/python3.12/site-packages/pyscf/gto/mole.py:3484\u001b[0m, in \u001b[0;36mMoleBase.intor\u001b[0;34m(self, intor, comp, hermi, aosym, out, shls_slice, grids)\u001b[0m\n\u001b[1;32m   3482\u001b[0m         shls_slice \u001b[38;5;241m=\u001b[39m (\u001b[38;5;241m0\u001b[39m, \u001b[38;5;28mself\u001b[39m\u001b[38;5;241m.\u001b[39mnbas, \u001b[38;5;241m0\u001b[39m, \u001b[38;5;28mself\u001b[39m\u001b[38;5;241m.\u001b[39mnbas)\n\u001b[1;32m   3483\u001b[0m \u001b[38;5;28;01melif\u001b[39;00m \u001b[38;5;124m'\u001b[39m\u001b[38;5;124m_grids\u001b[39m\u001b[38;5;124m'\u001b[39m \u001b[38;5;129;01min\u001b[39;00m intor:\n\u001b[0;32m-> 3484\u001b[0m     \u001b[38;5;28;01massert\u001b[39;00m grids \u001b[38;5;129;01mis\u001b[39;00m \u001b[38;5;129;01mnot\u001b[39;00m \u001b[38;5;28;01mNone\u001b[39;00m\n\u001b[1;32m   3485\u001b[0m     env \u001b[38;5;241m=\u001b[39m numpy\u001b[38;5;241m.\u001b[39mappend(env, grids\u001b[38;5;241m.\u001b[39mravel())\n\u001b[1;32m   3486\u001b[0m     env[NGRIDS] \u001b[38;5;241m=\u001b[39m grids\u001b[38;5;241m.\u001b[39mshape[\u001b[38;5;241m0\u001b[39m]\n",
      "\u001b[0;31mAssertionError\u001b[0m: "
     ]
    }
   ],
   "source": [
    "mol.intor(\"int1e_grids\")"
   ]
  },
  {
   "cell_type": "code",
   "execution_count": null,
   "id": "f60b8bf7-3544-49cc-9b69-af38ffb418cb",
   "metadata": {},
   "outputs": [],
   "source": []
  },
  {
   "cell_type": "code",
   "execution_count": null,
   "id": "0bfbef87-da58-49e9-9f5b-76c8d47a8161",
   "metadata": {},
   "outputs": [],
   "source": []
  },
  {
   "cell_type": "code",
   "execution_count": 13,
   "id": "69182e8b-fb00-4c13-bc41-1778c348a96d",
   "metadata": {},
   "outputs": [
    {
     "data": {
      "text/plain": [
       "-20.371243826032618"
      ]
     },
     "execution_count": 13,
     "metadata": {},
     "output_type": "execute_result"
    }
   ],
   "source": [
    "lib.fingerprint(mol.aoslice_by_atom())"
   ]
  },
  {
   "cell_type": "code",
   "execution_count": null,
   "id": "46ca6b6f-8cf9-4bd6-b437-e1037950f0ac",
   "metadata": {},
   "outputs": [],
   "source": []
  },
  {
   "cell_type": "code",
   "execution_count": null,
   "id": "b6583c9a-90fd-4c10-bb77-ca474e02371a",
   "metadata": {},
   "outputs": [],
   "source": []
  },
  {
   "cell_type": "code",
   "execution_count": null,
   "id": "cde7a668-34b0-4bc8-87e0-79a0bbcfd3c3",
   "metadata": {},
   "outputs": [],
   "source": []
  }
 ],
 "metadata": {
  "kernelspec": {
   "display_name": "Python 3 (ipykernel)",
   "language": "python",
   "name": "python3"
  },
  "language_info": {
   "codemirror_mode": {
    "name": "ipython",
    "version": 3
   },
   "file_extension": ".py",
   "mimetype": "text/x-python",
   "name": "python",
   "nbconvert_exporter": "python",
   "pygments_lexer": "ipython3",
   "version": "3.12.2"
  }
 },
 "nbformat": 4,
 "nbformat_minor": 5
}
