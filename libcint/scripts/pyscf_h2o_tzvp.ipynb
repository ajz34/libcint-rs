{
 "cells": [
  {
   "cell_type": "code",
   "execution_count": 1,
   "id": "e839a5d8-dd7e-422a-83de-e430eca88dd7",
   "metadata": {},
   "outputs": [],
   "source": [
    "from pyscf import gto, lib\n",
    "import numpy as np\n",
    "\n",
    "np.set_printoptions(16, suppress=False, linewidth=300)"
   ]
  },
  {
   "cell_type": "code",
   "execution_count": 2,
   "id": "a382f595-53a0-4258-9eb7-7f422be99ca3",
   "metadata": {},
   "outputs": [],
   "source": [
    "mol = gto.Mole(atom=\"O; H 1 0.94; H 1 0.94 2 104.5\", basis=\"def2-TZVP\").build()"
   ]
  },
  {
   "cell_type": "markdown",
   "id": "fa4b6e55-9dd8-4ba9-b25b-f7e994ba738c",
   "metadata": {},
   "source": [
    "## cint_prop"
   ]
  },
  {
   "cell_type": "code",
   "execution_count": 3,
   "id": "b14b4fd6-a76d-4fb1-8193-21ddc20c1b5b",
   "metadata": {},
   "outputs": [
    {
     "data": {
      "text/plain": [
       "{}"
      ]
     },
     "execution_count": 3,
     "metadata": {},
     "output_type": "execute_result"
    }
   ],
   "source": [
    "mol.has_ecp()"
   ]
  },
  {
   "cell_type": "code",
   "execution_count": 4,
   "id": "7343fd50-5253-4b7c-b2f1-f171fef8929b",
   "metadata": {},
   "outputs": [
    {
     "data": {
      "text/plain": [
       "19"
      ]
     },
     "execution_count": 4,
     "metadata": {},
     "output_type": "execute_result"
    }
   ],
   "source": [
    "mol.nbas"
   ]
  },
  {
   "cell_type": "code",
   "execution_count": 5,
   "id": "ef6a9ca1-b298-41dc-a175-a39e67166678",
   "metadata": {},
   "outputs": [
    {
     "data": {
      "text/plain": [
       "8"
      ]
     },
     "execution_count": 5,
     "metadata": {},
     "output_type": "execute_result"
    }
   ],
   "source": [
    "mol.atom_charge(0)"
   ]
  },
  {
   "cell_type": "code",
   "execution_count": 6,
   "id": "2daa9ef4-2717-42d8-821b-02f5e8ad7340",
   "metadata": {},
   "outputs": [
    {
     "data": {
      "text/plain": [
       "43"
      ]
     },
     "execution_count": 6,
     "metadata": {},
     "output_type": "execute_result"
    }
   ],
   "source": [
    "mol.nao_nr()"
   ]
  },
  {
   "cell_type": "code",
   "execution_count": 7,
   "id": "48b326c4-f1be-45dc-90d2-5da7f399a981",
   "metadata": {},
   "outputs": [
    {
     "data": {
      "text/plain": [
       "48"
      ]
     },
     "execution_count": 7,
     "metadata": {},
     "output_type": "execute_result"
    }
   ],
   "source": [
    "mol.nao_cart()"
   ]
  },
  {
   "cell_type": "code",
   "execution_count": 8,
   "id": "885a96bf-ef46-433b-adfe-d523c315dfba",
   "metadata": {},
   "outputs": [
    {
     "data": {
      "text/plain": [
       "86"
      ]
     },
     "execution_count": 8,
     "metadata": {},
     "output_type": "execute_result"
    }
   ],
   "source": [
    "mol.nao_2c()"
   ]
  },
  {
   "cell_type": "code",
   "execution_count": 9,
   "id": "5edfa6bc-3fb3-4809-b26f-f1cff912ffea",
   "metadata": {},
   "outputs": [
    {
     "data": {
      "text/plain": [
       "-2.4358371781626658"
      ]
     },
     "execution_count": 9,
     "metadata": {},
     "output_type": "execute_result"
    }
   ],
   "source": [
    "lib.fingerprint(mol.atom_coords())"
   ]
  },
  {
   "cell_type": "code",
   "execution_count": 10,
   "id": "fab90345-fbf9-4910-b9ed-e859eb8d4a9d",
   "metadata": {},
   "outputs": [
    {
     "data": {
      "text/plain": [
       "11"
      ]
     },
     "execution_count": 10,
     "metadata": {},
     "output_type": "execute_result"
    }
   ],
   "source": [
    "mol.atom_nshells(0)"
   ]
  },
  {
   "cell_type": "code",
   "execution_count": 12,
   "id": "d69d5f67-8987-49a9-9c2d-7680531f9f12",
   "metadata": {},
   "outputs": [
    {
     "data": {
      "text/plain": [
       "array([[ 0, 11,  0, 31],\n",
       "       [11, 15, 31, 37],\n",
       "       [15, 19, 37, 43]])"
      ]
     },
     "execution_count": 12,
     "metadata": {},
     "output_type": "execute_result"
    }
   ],
   "source": [
    "mol.aoslice_by_atom()"
   ]
  },
  {
   "cell_type": "code",
   "execution_count": null,
   "id": "e2f9e8a5-83b9-45c2-8506-242fc1bc063e",
   "metadata": {},
   "outputs": [],
   "source": []
  },
  {
   "cell_type": "code",
   "execution_count": 27,
   "id": "e077a059-b5ea-46f9-9d1a-81d933809a08",
   "metadata": {},
   "outputs": [
    {
     "data": {
      "text/plain": [
       "(37, 38, 29)"
      ]
     },
     "execution_count": 27,
     "metadata": {},
     "output_type": "execute_result"
    }
   ],
   "source": [
    "mol.intor(\"int3c2e\", shls_slice=[0, 15, 5, 19, 3, 12]).shape"
   ]
  },
  {
   "cell_type": "code",
   "execution_count": 34,
   "id": "63306ce8-5dca-47dd-95a7-ab913026421c",
   "metadata": {},
   "outputs": [
    {
     "data": {
      "text/plain": [
       "(11, 6, 3)"
      ]
     },
     "execution_count": 34,
     "metadata": {},
     "output_type": "execute_result"
    }
   ],
   "source": [
    "mol.intor(\"int1e_ipnuc\", shls_slice=[0, 7, 2, 6]).transpose(1, 2, 0).shape"
   ]
  },
  {
   "cell_type": "code",
   "execution_count": null,
   "id": "288b099a-6cab-4c94-9545-5132dcef9315",
   "metadata": {},
   "outputs": [],
   "source": []
  },
  {
   "cell_type": "code",
   "execution_count": 49,
   "id": "49f6ae1a-05f6-47ce-92db-9427cbdc0595",
   "metadata": {},
   "outputs": [
    {
     "name": "stdout",
     "output_type": "stream",
     "text": [
      "-30.908820928150256\n",
      "0.0\n",
      "-0.03334859771658561\n",
      "0.0\n",
      "-31.05501945520372\n",
      "0.0\n",
      "-0.03334859771658561\n",
      "0.0\n",
      "-30.92606999571649\n"
     ]
    }
   ],
   "source": [
    "for i in mol.intor(\"int1e_ipnuc\", shls_slice=[5, 6, 2, 3]).transpose(1, 2, 0).flatten():\n",
    "    print(i)"
   ]
  },
  {
   "cell_type": "code",
   "execution_count": null,
   "id": "88a3a321-a1dc-46a4-a61f-2b61dae79353",
   "metadata": {},
   "outputs": [],
   "source": []
  },
  {
   "cell_type": "code",
   "execution_count": 51,
   "id": "82472354-d4cf-4853-963d-2fdbea895a60",
   "metadata": {},
   "outputs": [
    {
     "data": {
      "text/plain": [
       "(11, 6, 3)"
      ]
     },
     "execution_count": 51,
     "metadata": {},
     "output_type": "execute_result"
    }
   ],
   "source": [
    "mol.intor(\"int1e_ipnuc\", shls_slice=[0, 7, 2, 6]).transpose(1, 2, 0).shape"
   ]
  },
  {
   "cell_type": "code",
   "execution_count": null,
   "id": "43c8b71f-e337-4bcb-8fc5-f71e47ab80bd",
   "metadata": {},
   "outputs": [],
   "source": []
  },
  {
   "cell_type": "code",
   "execution_count": 53,
   "id": "712204eb-2140-43a5-bf66-6877b49b54a8",
   "metadata": {},
   "outputs": [
    {
     "name": "stdout",
     "output_type": "stream",
     "text": [
      "0.044154115545391524\n",
      "0.11149547375468537\n",
      "0.1185436367307683\n",
      "0.056928658591569925\n",
      "0.017795198474402973\n",
      "-30.908820928150256\n",
      "0.0\n",
      "-0.03334859771658561\n",
      "-13.077130710166399\n",
      "0.0\n",
      "-0.014537160340993359\n",
      "0.023177276232231456\n",
      "0.06939207034133056\n",
      "0.14335577445671233\n",
      "0.10472908454054587\n",
      "0.04346570703833039\n",
      "-15.55149669162853\n",
      "0.0\n",
      "-0.040777968999256425\n",
      "-9.140712529427244\n",
      "0.0\n",
      "-0.036265089694705724\n",
      "0.01184528818950117\n",
      "0.03826410781577976\n",
      "0.1125449070547683\n",
      "0.10916552772549357\n",
      "0.05870989106055731\n",
      "-7.431812919286555\n",
      "0.0\n",
      "-0.032032377238775285\n",
      "-4.934634932815417\n",
      "0.0\n",
      "-0.04185620629287155\n",
      "64.94629584721068\n",
      "45.6163495842076\n",
      "11.908304112488628\n",
      "3.997170331763784\n",
      "1.044002937936247\n",
      "0.16527855588201967\n",
      "0.0\n",
      "0.1417202455836287\n",
      "-0.020778956574578608\n",
      "0.0\n",
      "0.03638356140870825\n",
      "0.0\n",
      "0.0\n",
      "0.0\n",
      "0.0\n",
      "0.0\n",
      "0.0\n",
      "0.10562890468439984\n",
      "0.0\n",
      "0.0\n",
      "0.026022113733459917\n",
      "0.0\n",
      "-0.0020149188216773218\n",
      "-0.011023228931956697\n",
      "-0.020359918120308816\n",
      "-0.010812946944490314\n",
      "-0.003494780763541004\n",
      "-0.16506621604537197\n",
      "0.0\n",
      "0.0851406428225039\n",
      "-0.14941161564976985\n",
      "0.0\n",
      "0.015289913049175846\n",
      "0.0\n",
      "0.0\n",
      "0.0\n",
      "0.0\n",
      "0.0\n",
      "0.0\n",
      "-31.05501945520372\n",
      "0.0\n",
      "0.0\n",
      "-13.140860869001123\n",
      "0.0\n",
      "0.0\n",
      "0.0\n",
      "0.0\n",
      "0.0\n",
      "0.0\n",
      "0.0\n",
      "-15.730265198016383\n",
      "0.0\n",
      "0.0\n",
      "-9.299696806424029\n",
      "0.0\n",
      "0.0\n",
      "0.0\n",
      "0.0\n",
      "0.0\n",
      "0.0\n",
      "0.0\n",
      "-7.572241203861801\n",
      "0.0\n",
      "0.0\n",
      "-5.118130375714374\n",
      "0.0\n",
      "0.0\n",
      "0.0\n",
      "0.0\n",
      "0.0\n",
      "0.0\n",
      "0.0\n",
      "-0.13191055369063504\n",
      "0.0\n",
      "0.0\n",
      "-0.11783588277922782\n",
      "0.0\n",
      "64.93746254734106\n",
      "45.56802431887197\n",
      "11.819047284797847\n",
      "3.9497669317819732\n",
      "1.028681999876222\n",
      "0.10562890468439985\n",
      "0.0\n",
      "0.13642162079325423\n",
      "0.026022113733459917\n",
      "0.0\n",
      "0.03360802559291607\n",
      "0.0\n",
      "0.0\n",
      "0.0\n",
      "0.0\n",
      "0.0\n",
      "0.0\n",
      "-0.17036484083574643\n",
      "0.0\n",
      "0.0\n",
      "-0.15218715146556205\n",
      "0.0\n",
      "0.05702583043336759\n",
      "0.14399839973889564\n",
      "0.15310122836033313\n",
      "0.07352438139780106\n",
      "0.022982817302414332\n",
      "-0.03334859771658561\n",
      "0.0\n",
      "-30.92606999571649\n",
      "-0.014537160340993359\n",
      "0.0\n",
      "-13.084649840747963\n",
      "0.029933867047292742\n",
      "0.089621100724733\n",
      "0.185146548285142\n",
      "0.13525948697378745\n",
      "0.056136738526358414\n",
      "-0.04077796899925642\n",
      "0.0\n",
      "-15.572588491303586\n",
      "-0.036265089694705724\n",
      "0.0\n",
      "-9.159470109213832\n",
      "0.015298401686575466\n",
      "0.0494187800397351\n",
      "0.14535376162719207\n",
      "0.1409892327441905\n",
      "0.07582487500942058\n",
      "-0.032032377238775285\n",
      "0.0\n",
      "-7.448381191331892\n",
      "-0.04185620629287155\n",
      "0.0\n",
      "-4.956284434738945\n",
      "-0.0020149188216773218\n",
      "-0.011023228931956697\n",
      "-0.020359918120308816\n",
      "-0.010812946944490316\n",
      "-0.0034947807635410037\n",
      "0.1417202455836287\n",
      "0.0\n",
      "-0.15239881555253096\n",
      "0.03638356140870825\n",
      "0.0\n",
      "-0.1285680834635119\n",
      "0.0\n",
      "0.0\n",
      "0.0\n",
      "0.0\n",
      "0.0\n",
      "0.0\n",
      "0.13642162079325423\n",
      "0.0\n",
      "0.0\n",
      "0.03360802559291607\n",
      "0.0\n",
      "64.94525366033399\n",
      "45.610647982531226\n",
      "11.89777324680471\n",
      "3.991577495326679\n",
      "1.0421953144184064\n",
      "0.08514064282250389\n",
      "0.0\n",
      "0.18170063118386948\n",
      "0.015289913049175846\n",
      "0.0\n",
      "-0.04347275935672748\n"
     ]
    }
   ],
   "source": [
    "for i in mol.intor(\"int1e_ipnuc\", shls_slice=[0, 7, 2, 6]).transpose(1, 2, 0).T.reshape(-1).flatten():\n",
    "    print(i)"
   ]
  },
  {
   "cell_type": "code",
   "execution_count": null,
   "id": "6fee72d8-8af0-4057-8869-016bda0bd931",
   "metadata": {},
   "outputs": [],
   "source": []
  },
  {
   "cell_type": "code",
   "execution_count": null,
   "id": "10410f3a-1a1a-44b4-8096-ad9a5b8ed7d0",
   "metadata": {},
   "outputs": [],
   "source": []
  },
  {
   "cell_type": "code",
   "execution_count": null,
   "id": "311112fb-6d83-4f2c-b3bd-a3222ce4be4f",
   "metadata": {},
   "outputs": [],
   "source": []
  },
  {
   "cell_type": "code",
   "execution_count": 13,
   "id": "69182e8b-fb00-4c13-bc41-1778c348a96d",
   "metadata": {},
   "outputs": [
    {
     "data": {
      "text/plain": [
       "-20.371243826032618"
      ]
     },
     "execution_count": 13,
     "metadata": {},
     "output_type": "execute_result"
    }
   ],
   "source": [
    "lib.fingerprint(mol.aoslice_by_atom())"
   ]
  },
  {
   "cell_type": "code",
   "execution_count": null,
   "id": "46ca6b6f-8cf9-4bd6-b437-e1037950f0ac",
   "metadata": {},
   "outputs": [],
   "source": []
  },
  {
   "cell_type": "code",
   "execution_count": null,
   "id": "b6583c9a-90fd-4c10-bb77-ca474e02371a",
   "metadata": {},
   "outputs": [],
   "source": []
  },
  {
   "cell_type": "code",
   "execution_count": null,
   "id": "cde7a668-34b0-4bc8-87e0-79a0bbcfd3c3",
   "metadata": {},
   "outputs": [],
   "source": []
  }
 ],
 "metadata": {
  "kernelspec": {
   "display_name": "Python 3 (ipykernel)",
   "language": "python",
   "name": "python3"
  },
  "language_info": {
   "codemirror_mode": {
    "name": "ipython",
    "version": 3
   },
   "file_extension": ".py",
   "mimetype": "text/x-python",
   "name": "python",
   "nbconvert_exporter": "python",
   "pygments_lexer": "ipython3",
   "version": "3.12.2"
  }
 },
 "nbformat": 4,
 "nbformat_minor": 5
}
