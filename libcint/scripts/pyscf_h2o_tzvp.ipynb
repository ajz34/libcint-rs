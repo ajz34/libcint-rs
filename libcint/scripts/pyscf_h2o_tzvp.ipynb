{
 "cells": [
  {
   "cell_type": "code",
   "execution_count": 1,
   "id": "e839a5d8-dd7e-422a-83de-e430eca88dd7",
   "metadata": {},
   "outputs": [],
   "source": [
    "from pyscf import gto, lib\n",
    "import numpy as np\n",
    "\n",
    "np.set_printoptions(16, suppress=False, linewidth=300)"
   ]
  },
  {
   "cell_type": "code",
   "execution_count": 2,
   "id": "a382f595-53a0-4258-9eb7-7f422be99ca3",
   "metadata": {},
   "outputs": [],
   "source": [
    "mol = gto.Mole(atom=\"O; H 1 0.94; H 1 0.94 2 104.5\", basis=\"def2-TZVP\").build()"
   ]
  },
  {
   "cell_type": "markdown",
   "id": "fa4b6e55-9dd8-4ba9-b25b-f7e994ba738c",
   "metadata": {},
   "source": [
    "## cint_prop"
   ]
  },
  {
   "cell_type": "code",
   "execution_count": 3,
   "id": "b14b4fd6-a76d-4fb1-8193-21ddc20c1b5b",
   "metadata": {},
   "outputs": [
    {
     "data": {
      "text/plain": [
       "{}"
      ]
     },
     "execution_count": 3,
     "metadata": {},
     "output_type": "execute_result"
    }
   ],
   "source": [
    "mol.has_ecp()"
   ]
  },
  {
   "cell_type": "code",
   "execution_count": 4,
   "id": "7343fd50-5253-4b7c-b2f1-f171fef8929b",
   "metadata": {},
   "outputs": [
    {
     "data": {
      "text/plain": [
       "19"
      ]
     },
     "execution_count": 4,
     "metadata": {},
     "output_type": "execute_result"
    }
   ],
   "source": [
    "mol.nbas"
   ]
  },
  {
   "cell_type": "code",
   "execution_count": 5,
   "id": "ef6a9ca1-b298-41dc-a175-a39e67166678",
   "metadata": {},
   "outputs": [
    {
     "data": {
      "text/plain": [
       "8"
      ]
     },
     "execution_count": 5,
     "metadata": {},
     "output_type": "execute_result"
    }
   ],
   "source": [
    "mol.atom_charge(0)"
   ]
  },
  {
   "cell_type": "code",
   "execution_count": 6,
   "id": "2daa9ef4-2717-42d8-821b-02f5e8ad7340",
   "metadata": {},
   "outputs": [
    {
     "data": {
      "text/plain": [
       "43"
      ]
     },
     "execution_count": 6,
     "metadata": {},
     "output_type": "execute_result"
    }
   ],
   "source": [
    "mol.nao_nr()"
   ]
  },
  {
   "cell_type": "code",
   "execution_count": 7,
   "id": "48b326c4-f1be-45dc-90d2-5da7f399a981",
   "metadata": {},
   "outputs": [
    {
     "data": {
      "text/plain": [
       "48"
      ]
     },
     "execution_count": 7,
     "metadata": {},
     "output_type": "execute_result"
    }
   ],
   "source": [
    "mol.nao_cart()"
   ]
  },
  {
   "cell_type": "code",
   "execution_count": 8,
   "id": "885a96bf-ef46-433b-adfe-d523c315dfba",
   "metadata": {},
   "outputs": [
    {
     "data": {
      "text/plain": [
       "86"
      ]
     },
     "execution_count": 8,
     "metadata": {},
     "output_type": "execute_result"
    }
   ],
   "source": [
    "mol.nao_2c()"
   ]
  },
  {
   "cell_type": "code",
   "execution_count": 9,
   "id": "5edfa6bc-3fb3-4809-b26f-f1cff912ffea",
   "metadata": {},
   "outputs": [
    {
     "data": {
      "text/plain": [
       "-2.4358371781626658"
      ]
     },
     "execution_count": 9,
     "metadata": {},
     "output_type": "execute_result"
    }
   ],
   "source": [
    "lib.fingerprint(mol.atom_coords())"
   ]
  },
  {
   "cell_type": "code",
   "execution_count": 10,
   "id": "fab90345-fbf9-4910-b9ed-e859eb8d4a9d",
   "metadata": {},
   "outputs": [
    {
     "data": {
      "text/plain": [
       "11"
      ]
     },
     "execution_count": 10,
     "metadata": {},
     "output_type": "execute_result"
    }
   ],
   "source": [
    "mol.atom_nshells(0)"
   ]
  },
  {
   "cell_type": "code",
   "execution_count": 12,
   "id": "d69d5f67-8987-49a9-9c2d-7680531f9f12",
   "metadata": {},
   "outputs": [
    {
     "data": {
      "text/plain": [
       "array([[ 0, 11,  0, 31],\n",
       "       [11, 15, 31, 37],\n",
       "       [15, 19, 37, 43]])"
      ]
     },
     "execution_count": 12,
     "metadata": {},
     "output_type": "execute_result"
    }
   ],
   "source": [
    "mol.aoslice_by_atom()"
   ]
  },
  {
   "cell_type": "code",
   "execution_count": null,
   "id": "e2f9e8a5-83b9-45c2-8506-242fc1bc063e",
   "metadata": {},
   "outputs": [],
   "source": []
  },
  {
   "cell_type": "code",
   "execution_count": 27,
   "id": "e077a059-b5ea-46f9-9d1a-81d933809a08",
   "metadata": {},
   "outputs": [
    {
     "data": {
      "text/plain": [
       "(37, 38, 29)"
      ]
     },
     "execution_count": 27,
     "metadata": {},
     "output_type": "execute_result"
    }
   ],
   "source": [
    "mol.intor(\"int3c2e\", shls_slice=[0, 15, 5, 19, 3, 12]).shape"
   ]
  },
  {
   "cell_type": "code",
   "execution_count": 34,
   "id": "63306ce8-5dca-47dd-95a7-ab913026421c",
   "metadata": {},
   "outputs": [
    {
     "data": {
      "text/plain": [
       "(11, 6, 3)"
      ]
     },
     "execution_count": 34,
     "metadata": {},
     "output_type": "execute_result"
    }
   ],
   "source": [
    "mol.intor(\"int1e_ipnuc\", shls_slice=[0, 7, 2, 6]).transpose(1, 2, 0).shape"
   ]
  },
  {
   "cell_type": "code",
   "execution_count": null,
   "id": "288b099a-6cab-4c94-9545-5132dcef9315",
   "metadata": {},
   "outputs": [],
   "source": []
  },
  {
   "cell_type": "code",
   "execution_count": 49,
   "id": "49f6ae1a-05f6-47ce-92db-9427cbdc0595",
   "metadata": {},
   "outputs": [
    {
     "name": "stdout",
     "output_type": "stream",
     "text": [
      "-30.908820928150256\n",
      "0.0\n",
      "-0.03334859771658561\n",
      "0.0\n",
      "-31.05501945520372\n",
      "0.0\n",
      "-0.03334859771658561\n",
      "0.0\n",
      "-30.92606999571649\n"
     ]
    }
   ],
   "source": [
    "for i in mol.intor(\"int1e_ipnuc\", shls_slice=[5, 6, 2, 3]).transpose(1, 2, 0).flatten():\n",
    "    print(i)"
   ]
  },
  {
   "cell_type": "code",
   "execution_count": null,
   "id": "88a3a321-a1dc-46a4-a61f-2b61dae79353",
   "metadata": {},
   "outputs": [],
   "source": []
  },
  {
   "cell_type": "code",
   "execution_count": 66,
   "id": "82472354-d4cf-4853-963d-2fdbea895a60",
   "metadata": {},
   "outputs": [
    {
     "data": {
      "text/plain": [
       "-3.7649105833188306"
      ]
     },
     "execution_count": 66,
     "metadata": {},
     "output_type": "execute_result"
    }
   ],
   "source": [
    "lib.fingerprint(mol.intor(\"int3c2e_ip2\", shls_slice=[0, 7, 0, 7, 3, 10], aosym=\"s2ij\").transpose(1, 2, 0))"
   ]
  },
  {
   "cell_type": "code",
   "execution_count": 76,
   "id": "43c8b71f-e337-4bcb-8fc5-f71e47ab80bd",
   "metadata": {},
   "outputs": [
    {
     "data": {
      "text/plain": [
       "-8.051263274363901"
      ]
     },
     "execution_count": 76,
     "metadata": {},
     "output_type": "execute_result"
    }
   ],
   "source": [
    "lib.fingerprint(mol.intor(\"int3c2e\", shls_slice=[0, 7, 0, 7, 3, 10]).transpose(1, 2, 0))"
   ]
  },
  {
   "cell_type": "code",
   "execution_count": 79,
   "id": "712204eb-2140-43a5-bf66-6877b49b54a8",
   "metadata": {},
   "outputs": [
    {
     "data": {
      "text/plain": [
       "-8.051263274363901"
      ]
     },
     "execution_count": 79,
     "metadata": {},
     "output_type": "execute_result"
    }
   ],
   "source": [
    "lib.fingerprint(mol.intor(\"int3c2e\", shls_slice=[0, 7, 0, 7, 3, 10]).transpose(1, 2, 0).flatten())"
   ]
  },
  {
   "cell_type": "code",
   "execution_count": null,
   "id": "1e4bace6-c3b8-43ef-81bc-e9fb086810fb",
   "metadata": {},
   "outputs": [],
   "source": []
  },
  {
   "cell_type": "code",
   "execution_count": 85,
   "id": "a7e9962a-f5a5-4186-b917-1bdd2029ddc8",
   "metadata": {},
   "outputs": [
    {
     "data": {
      "text/plain": [
       "6.622143982317206"
      ]
     },
     "execution_count": 85,
     "metadata": {},
     "output_type": "execute_result"
    }
   ],
   "source": [
    "lib.fingerprint(mol.intor(\"int3c2e\", shls_slice=[0, 7, 0, 7, 3, 10]).transpose(2, 1, 0))"
   ]
  },
  {
   "cell_type": "code",
   "execution_count": 94,
   "id": "6fee72d8-8af0-4057-8869-016bda0bd931",
   "metadata": {},
   "outputs": [
    {
     "data": {
      "text/plain": [
       "-0.7896940804934882"
      ]
     },
     "execution_count": 94,
     "metadata": {},
     "output_type": "execute_result"
    }
   ],
   "source": [
    "lib.fingerprint(mol.intor(\"int3c2e_ip1\", shls_slice=[0, 7, 0, 7, 3, 10], aosym=\"s2ij\").transpose(0, 2, 1))"
   ]
  },
  {
   "cell_type": "code",
   "execution_count": null,
   "id": "8777e942-29cc-4c7f-9185-441537f14970",
   "metadata": {},
   "outputs": [],
   "source": []
  },
  {
   "cell_type": "code",
   "execution_count": 93,
   "id": "3141f6ff-aeb1-4e29-aa2c-4d50902a7d5f",
   "metadata": {},
   "outputs": [
    {
     "data": {
      "text/plain": [
       "  C_CONTIGUOUS : True\n",
       "  F_CONTIGUOUS : False\n",
       "  OWNDATA : False\n",
       "  WRITEABLE : True\n",
       "  ALIGNED : True\n",
       "  WRITEBACKIFCOPY : False"
      ]
     },
     "execution_count": 93,
     "metadata": {},
     "output_type": "execute_result"
    }
   ],
   "source": [
    "mol.intor(\"int3c2e_ip2\", shls_slice=[0, 7, 0, 7, 3, 10], aosym=\"s2ij\").transpose(0, 2, 1).flags"
   ]
  },
  {
   "cell_type": "code",
   "execution_count": null,
   "id": "c7ade302-ebaf-4406-8fbc-b64d7196901b",
   "metadata": {},
   "outputs": [],
   "source": []
  },
  {
   "cell_type": "code",
   "execution_count": null,
   "id": "86897468-d154-4ef6-a332-f9169691e78f",
   "metadata": {},
   "outputs": [],
   "source": []
  },
  {
   "cell_type": "code",
   "execution_count": null,
   "id": "10410f3a-1a1a-44b4-8096-ad9a5b8ed7d0",
   "metadata": {},
   "outputs": [],
   "source": []
  },
  {
   "cell_type": "code",
   "execution_count": null,
   "id": "c6a3c9ed-f4e7-423e-b9c5-7526a9ba1330",
   "metadata": {},
   "outputs": [],
   "source": []
  },
  {
   "cell_type": "code",
   "execution_count": null,
   "id": "311112fb-6d83-4f2c-b3bd-a3222ce4be4f",
   "metadata": {},
   "outputs": [],
   "source": []
  },
  {
   "cell_type": "code",
   "execution_count": 13,
   "id": "69182e8b-fb00-4c13-bc41-1778c348a96d",
   "metadata": {},
   "outputs": [
    {
     "data": {
      "text/plain": [
       "-20.371243826032618"
      ]
     },
     "execution_count": 13,
     "metadata": {},
     "output_type": "execute_result"
    }
   ],
   "source": [
    "lib.fingerprint(mol.aoslice_by_atom())"
   ]
  },
  {
   "cell_type": "code",
   "execution_count": null,
   "id": "46ca6b6f-8cf9-4bd6-b437-e1037950f0ac",
   "metadata": {},
   "outputs": [],
   "source": []
  },
  {
   "cell_type": "code",
   "execution_count": null,
   "id": "b6583c9a-90fd-4c10-bb77-ca474e02371a",
   "metadata": {},
   "outputs": [],
   "source": []
  },
  {
   "cell_type": "code",
   "execution_count": null,
   "id": "cde7a668-34b0-4bc8-87e0-79a0bbcfd3c3",
   "metadata": {},
   "outputs": [],
   "source": []
  }
 ],
 "metadata": {
  "kernelspec": {
   "display_name": "Python 3 (ipykernel)",
   "language": "python",
   "name": "python3"
  },
  "language_info": {
   "codemirror_mode": {
    "name": "ipython",
    "version": 3
   },
   "file_extension": ".py",
   "mimetype": "text/x-python",
   "name": "python",
   "nbconvert_exporter": "python",
   "pygments_lexer": "ipython3",
   "version": "3.12.2"
  }
 },
 "nbformat": 4,
 "nbformat_minor": 5
}
