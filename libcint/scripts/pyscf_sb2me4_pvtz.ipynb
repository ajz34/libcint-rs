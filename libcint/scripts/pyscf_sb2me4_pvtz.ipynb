{
 "cells": [
  {
   "cell_type": "code",
   "execution_count": 1,
   "id": "1169f844-cf04-435a-84b8-319f3da9e606",
   "metadata": {},
   "outputs": [],
   "source": [
    "from pyscf import gto, lib\n",
    "import numpy as np\n",
    "\n",
    "np.set_printoptions(16, threshold=100000000, suppress=False, linewidth=300)"
   ]
  },
  {
   "cell_type": "code",
   "execution_count": 2,
   "id": "97abddcf-8ca6-4ff0-ae5f-d5c89e410825",
   "metadata": {},
   "outputs": [],
   "source": [
    "basis = {\n",
    "    \"C\": \"cc-pVTZ\",\n",
    "    \"H\": \"cc-pVTZ\",\n",
    "    \"Sb\": \"cc-pVTZ-PP\",\n",
    "}\n",
    "\n",
    "basis_ecp = {\n",
    "    \"Sb\": \"cc-pVTZ-PP\",\n",
    "}\n",
    "\n",
    "mol = gto.Mole(atom=\"\"\"\n",
    "Sb        -1.33937843      0.44597852     -1.27279684\n",
    "Sb         1.33937843     -0.44597852     -1.27279684\n",
    "C         -1.40429524      1.10441871      0.83468205\n",
    "C         -2.16210130     -1.56132398     -0.84717555\n",
    "C          2.16210130      1.56132398     -0.84717555\n",
    "C          1.40429524     -1.10441871      0.83468205\n",
    "H         -0.69918639      1.91987631      1.00872018\n",
    "H         -1.16111477      0.29030616      1.51873028\n",
    "H         -2.40124532      1.47235562      1.08516843\n",
    "H         -2.02002046     -2.22909286     -1.69887295\n",
    "H         -1.69052287     -2.01612927      0.02577778\n",
    "H         -3.23450854     -1.49489801     -0.65423339\n",
    "H          2.02002046      2.22909286     -1.69887295\n",
    "H          3.23450854      1.49489801     -0.65423339\n",
    "H          1.69052287      2.01612927      0.02577778\n",
    "H          0.69918639     -1.91987631      1.00872018\n",
    "H          2.40124532     -1.47235562      1.08516843\n",
    "H          1.16111477     -0.29030616      1.51873028\n",
    "\"\"\", basis=basis, ecp=basis_ecp).build()"
   ]
  },
  {
   "cell_type": "markdown",
   "id": "50950147-8aac-4df0-96f7-07ceaaad10b1",
   "metadata": {},
   "source": [
    "## cint_prop"
   ]
  },
  {
   "cell_type": "code",
   "execution_count": 3,
   "id": "b609bc0d-14f6-4187-a974-b8f3ec6393b2",
   "metadata": {},
   "outputs": [
    {
     "data": {
      "text/plain": [
       "True"
      ]
     },
     "execution_count": 3,
     "metadata": {},
     "output_type": "execute_result"
    }
   ],
   "source": [
    "mol.has_ecp()"
   ]
  },
  {
   "cell_type": "code",
   "execution_count": 4,
   "id": "4b4a78da-6229-44e1-bf85-651a6302c0ad",
   "metadata": {},
   "outputs": [
    {
     "data": {
      "text/plain": [
       "130"
      ]
     },
     "execution_count": 4,
     "metadata": {},
     "output_type": "execute_result"
    }
   ],
   "source": [
    "mol.nbas"
   ]
  },
  {
   "cell_type": "code",
   "execution_count": 5,
   "id": "15f7a327-0fec-4e73-a929-4b2e3cc64612",
   "metadata": {},
   "outputs": [
    {
     "data": {
      "text/plain": [
       "23"
      ]
     },
     "execution_count": 5,
     "metadata": {},
     "output_type": "execute_result"
    }
   ],
   "source": [
    "mol.atom_charge(0)"
   ]
  },
  {
   "cell_type": "code",
   "execution_count": 6,
   "id": "d9f79a63-bd11-48cb-a074-aa7c7a141576",
   "metadata": {},
   "outputs": [
    {
     "data": {
      "text/plain": [
       "366"
      ]
     },
     "execution_count": 6,
     "metadata": {},
     "output_type": "execute_result"
    }
   ],
   "source": [
    "mol.nao_nr()"
   ]
  },
  {
   "cell_type": "code",
   "execution_count": 7,
   "id": "a13b3671-bcce-4ebe-878e-f2a66157bd80",
   "metadata": {},
   "outputs": [
    {
     "data": {
      "text/plain": [
       "410"
      ]
     },
     "execution_count": 7,
     "metadata": {},
     "output_type": "execute_result"
    }
   ],
   "source": [
    "mol.nao_cart()"
   ]
  },
  {
   "cell_type": "code",
   "execution_count": 8,
   "id": "2b8d94b7-3c41-493a-8b73-35bfaf78d8b1",
   "metadata": {},
   "outputs": [
    {
     "data": {
      "text/plain": [
       "732"
      ]
     },
     "execution_count": 8,
     "metadata": {},
     "output_type": "execute_result"
    }
   ],
   "source": [
    "mol.nao_2c()"
   ]
  },
  {
   "cell_type": "markdown",
   "id": "7ee2e901-cbf1-4f7a-96f7-9c7d1cd8eae2",
   "metadata": {},
   "source": [
    "## 2-center intor"
   ]
  },
  {
   "cell_type": "markdown",
   "id": "5c12ee78-1246-4805-ba3b-542114758ccf",
   "metadata": {},
   "source": [
    "### 2c-sph"
   ]
  },
  {
   "cell_type": "code",
   "execution_count": 9,
   "id": "ea5bd131-04bf-4cf8-9323-f249455ad6c9",
   "metadata": {},
   "outputs": [
    {
     "data": {
      "text/plain": [
       "(-935.2694687735325, (366, 366))"
      ]
     },
     "execution_count": 9,
     "metadata": {},
     "output_type": "execute_result"
    }
   ],
   "source": [
    "# no-deriv\n",
    "out = mol.intor(\"int2c2e\")\n",
    "out_c = out.transpose(1, 0)\n",
    "assert out_c.flags.c_contiguous\n",
    "lib.fp(out_c), out_c.shape[::-1]"
   ]
  },
  {
   "cell_type": "code",
   "execution_count": 10,
   "id": "d4564db3-3b4c-4a8c-85e5-b5ea5c2a6a8b",
   "metadata": {},
   "outputs": [
    {
     "data": {
      "text/plain": [
       "(-106.16961857524265, (366, 366, 3))"
      ]
     },
     "execution_count": 10,
     "metadata": {},
     "output_type": "execute_result"
    }
   ],
   "source": [
    "# deriv\n",
    "out = mol.intor(\"int1e_igovlp\")\n",
    "out_c = out.transpose(0, 2, 1)\n",
    "assert out_c.flags.c_contiguous\n",
    "lib.fp(out_c), out_c.shape[::-1]"
   ]
  },
  {
   "cell_type": "code",
   "execution_count": 11,
   "id": "7bb8a36c-410e-4447-9c1e-f0a6eed4f89e",
   "metadata": {},
   "outputs": [
    {
     "data": {
      "text/plain": [
       "(-0.35004852378214735, (41, 34))"
      ]
     },
     "execution_count": 11,
     "metadata": {},
     "output_type": "execute_result"
    }
   ],
   "source": [
    "# no-deriv | shl\n",
    "out = mol.intor(\"int1e_kin\", shls_slice=[0, 12, 8, 18])\n",
    "out_c = out.transpose(1, 0)\n",
    "assert out_c.flags.c_contiguous\n",
    "lib.fp(out_c), out_c.shape[::-1]"
   ]
  },
  {
   "cell_type": "code",
   "execution_count": 12,
   "id": "b035d624-4162-40d6-8db3-9b38c8817e2d",
   "metadata": {},
   "outputs": [
    {
     "data": {
      "text/plain": [
       "(45.968244650324706, (41, 34, 3))"
      ]
     },
     "execution_count": 12,
     "metadata": {},
     "output_type": "execute_result"
    }
   ],
   "source": [
    "# deriv | shl\n",
    "out = mol.intor(\"int1e_ipnuc\", shls_slice=[0, 12, 8, 18])\n",
    "out_c = out.transpose(0, 2, 1)\n",
    "assert out_c.flags.c_contiguous\n",
    "lib.fp(out_c), out_c.shape[::-1]"
   ]
  },
  {
   "cell_type": "code",
   "execution_count": 13,
   "id": "c2ca73c5-2017-4ba5-95c7-50893340ed17",
   "metadata": {},
   "outputs": [
    {
     "data": {
      "text/plain": [
       "(1809.6733664015762, (67161,))"
      ]
     },
     "execution_count": 13,
     "metadata": {},
     "output_type": "execute_result"
    }
   ],
   "source": [
    "# no-deriv\n",
    "out = mol.intor(\"int2c2e\")\n",
    "out_c = lib.pack_tril(np.array(out.swapaxes(0, 1), order=\"C\"))\n",
    "out_c = out_c.transpose(0)\n",
    "lib.fp(out_c), out_c.shape[::-1]"
   ]
  },
  {
   "cell_type": "code",
   "execution_count": 14,
   "id": "a60eb0ff-ec9f-4ec8-a612-70b365c4afef",
   "metadata": {},
   "outputs": [
    {
     "data": {
      "text/plain": [
       "(-40.08094621810594, (67161, 3))"
      ]
     },
     "execution_count": 14,
     "metadata": {},
     "output_type": "execute_result"
    }
   ],
   "source": [
    "# deriv\n",
    "out = mol.intor(\"int1e_igovlp\")\n",
    "out_c = lib.pack_tril(np.array(out.swapaxes(1, 2), order=\"C\"))\n",
    "out_c = out_c.transpose(0, 1)\n",
    "lib.fp(out_c), out_c.shape[::-1]"
   ]
  },
  {
   "cell_type": "code",
   "execution_count": 15,
   "id": "6d1345f0-e13b-4f83-be78-a07b8a7643e4",
   "metadata": {},
   "outputs": [
    {
     "data": {
      "text/plain": [
       "(0.5049496096560406, (595,))"
      ]
     },
     "execution_count": 15,
     "metadata": {},
     "output_type": "execute_result"
    }
   ],
   "source": [
    "# no-deriv | shl\n",
    "out = mol.intor(\"int1e_kin\", shls_slice=[8, 18, 8, 18])\n",
    "out_c = lib.pack_tril(np.array(out.swapaxes(0, 1), order=\"C\"))\n",
    "out_c = out_c.transpose(0)\n",
    "lib.fp(out_c), out_c.shape[::-1]"
   ]
  },
  {
   "cell_type": "code",
   "execution_count": 16,
   "id": "8f696c6a-4fa0-442b-8ac4-89cb7fa89d5b",
   "metadata": {},
   "outputs": [
    {
     "data": {
      "text/plain": [
       "(4.499859812123924, (595, 3))"
      ]
     },
     "execution_count": 16,
     "metadata": {},
     "output_type": "execute_result"
    }
   ],
   "source": [
    "# deriv | shl\n",
    "out = mol.intor(\"int1e_ipnuc\", shls_slice=[8, 18, 8, 18])\n",
    "out_c = lib.pack_tril(np.array(out.swapaxes(1, 2), order=\"C\"))\n",
    "out_c = out_c.transpose(0, 1)\n",
    "lib.fp(out_c), out_c.shape[::-1]"
   ]
  },
  {
   "cell_type": "markdown",
   "id": "bd678646-137d-4e1b-8b82-ad31379f0bb8",
   "metadata": {},
   "source": [
    "## 2-center ECP"
   ]
  },
  {
   "cell_type": "markdown",
   "id": "6dc89829-ea26-4ffb-a5f5-17259f3de0c6",
   "metadata": {},
   "source": [
    "### sph"
   ]
  },
  {
   "cell_type": "code",
   "execution_count": 41,
   "id": "ce4ec256-d75f-453f-b780-4b001bfe78e5",
   "metadata": {},
   "outputs": [
    {
     "data": {
      "text/plain": [
       "(0.7534281412150909, (366, 366))"
      ]
     },
     "execution_count": 41,
     "metadata": {},
     "output_type": "execute_result"
    }
   ],
   "source": [
    "# no-deriv\n",
    "out = mol.intor(\"ECPscalar\")\n",
    "out_c = out.transpose(1, 0)\n",
    "assert out_c.flags.c_contiguous\n",
    "lib.fp(out_c), out_c.shape[::-1]"
   ]
  },
  {
   "cell_type": "code",
   "execution_count": 34,
   "id": "bf9e3a06-a306-47f6-b316-7199b324b05a",
   "metadata": {},
   "outputs": [
    {
     "data": {
      "text/plain": [
       "(-1.3426139111770714, (366, 366, 3))"
      ]
     },
     "execution_count": 34,
     "metadata": {},
     "output_type": "execute_result"
    }
   ],
   "source": [
    "# deriv\n",
    "out = mol.intor(\"ECPscalar_ignuc\")\n",
    "out_c = out.transpose(0, 2, 1)\n",
    "assert out_c.flags.c_contiguous\n",
    "lib.fp(out_c), out_c.shape[::-1]"
   ]
  },
  {
   "cell_type": "code",
   "execution_count": 35,
   "id": "a840f19a-4124-46f5-9a1a-f10094f9291b",
   "metadata": {},
   "outputs": [
    {
     "data": {
      "text/plain": [
       "(1.4186154309495258, (41, 34))"
      ]
     },
     "execution_count": 35,
     "metadata": {},
     "output_type": "execute_result"
    }
   ],
   "source": [
    "# no-deriv | shl\n",
    "out = mol.intor(\"ECPscalar\", shls_slice=[0, 12, 8, 18])\n",
    "out_c = out.transpose(1, 0)\n",
    "assert out_c.flags.c_contiguous\n",
    "lib.fp(out_c), out_c.shape[::-1]"
   ]
  },
  {
   "cell_type": "code",
   "execution_count": 42,
   "id": "12b1722d-a936-4a9f-aaf2-b1e2c64ac5f9",
   "metadata": {},
   "outputs": [
    {
     "data": {
      "text/plain": [
       "(-11.738302192911995, (41, 34, 3))"
      ]
     },
     "execution_count": 42,
     "metadata": {},
     "output_type": "execute_result"
    }
   ],
   "source": [
    "# deriv | shl\n",
    "out = mol.intor(\"ECPscalar_iprinv\", shls_slice=[0, 12, 8, 18])\n",
    "out_c = out.transpose(0, 2, 1)\n",
    "assert out_c.flags.c_contiguous\n",
    "lib.fp(out_c), out_c.shape[::-1]"
   ]
  },
  {
   "cell_type": "code",
   "execution_count": 37,
   "id": "e6216a82-5966-4fa1-855c-c8cccd181714",
   "metadata": {},
   "outputs": [
    {
     "data": {
      "text/plain": [
       "(-1.8388155709304113, (67161,))"
      ]
     },
     "execution_count": 37,
     "metadata": {},
     "output_type": "execute_result"
    }
   ],
   "source": [
    "# no-deriv\n",
    "out = mol.intor(\"ECPscalar\")\n",
    "out_c = lib.pack_tril(np.array(out.swapaxes(0, 1), order=\"C\"))\n",
    "out_c = out_c.transpose(0)\n",
    "lib.fp(out_c), out_c.shape[::-1]"
   ]
  },
  {
   "cell_type": "code",
   "execution_count": 38,
   "id": "60916209-40c2-49cd-8733-44aa763f838a",
   "metadata": {},
   "outputs": [
    {
     "data": {
      "text/plain": [
       "(-68.89774165957373, (67161, 9))"
      ]
     },
     "execution_count": 38,
     "metadata": {},
     "output_type": "execute_result"
    }
   ],
   "source": [
    "# deriv\n",
    "out = mol.intor(\"ECPscalar_iprinvip\")\n",
    "out_c = lib.pack_tril(np.array(out.swapaxes(1, 2), order=\"C\"))\n",
    "out_c = out_c.transpose(0, 1)\n",
    "lib.fp(out_c), out_c.shape[::-1]"
   ]
  },
  {
   "cell_type": "code",
   "execution_count": 39,
   "id": "b687e681-5335-464c-ad95-b5452cd7e7cf",
   "metadata": {},
   "outputs": [
    {
     "data": {
      "text/plain": [
       "(15.651229742132026, (595,))"
      ]
     },
     "execution_count": 39,
     "metadata": {},
     "output_type": "execute_result"
    }
   ],
   "source": [
    "# no-deriv | shl\n",
    "out = mol.intor(\"ECPscalar\", shls_slice=[8, 18, 8, 18])\n",
    "out_c = lib.pack_tril(np.array(out.swapaxes(0, 1), order=\"C\"))\n",
    "out_c = out_c.transpose(0)\n",
    "lib.fp(out_c), out_c.shape[::-1]"
   ]
  },
  {
   "cell_type": "code",
   "execution_count": 40,
   "id": "57ce1509-c592-4fb5-b0f2-2e865cc81720",
   "metadata": {},
   "outputs": [
    {
     "data": {
      "text/plain": [
       "(0.5549200392488471, (595, 9))"
      ]
     },
     "execution_count": 40,
     "metadata": {},
     "output_type": "execute_result"
    }
   ],
   "source": [
    "# deriv | shl\n",
    "out = mol.intor(\"ECPscalar_iprinvip\", shls_slice=[8, 18, 8, 18])\n",
    "out_c = lib.pack_tril(np.array(out.swapaxes(1, 2), order=\"C\"))\n",
    "out_c = out_c.transpose(0, 1)\n",
    "lib.fp(out_c), out_c.shape[::-1]"
   ]
  },
  {
   "cell_type": "markdown",
   "id": "7ccc6c87-d62a-4b70-b4f1-e4fe847b6048",
   "metadata": {},
   "source": [
    "### cart"
   ]
  },
  {
   "cell_type": "code",
   "execution_count": 44,
   "id": "d197ba5f-c61d-4147-8000-ddfecf0e8e5d",
   "metadata": {},
   "outputs": [
    {
     "data": {
      "text/plain": [
       "(1.6418489688115985, (410, 410))"
      ]
     },
     "execution_count": 44,
     "metadata": {},
     "output_type": "execute_result"
    }
   ],
   "source": [
    "# no-deriv\n",
    "out = mol.intor(\"ECPscalar_cart\")\n",
    "out_c = out.transpose(1, 0)\n",
    "assert out_c.flags.c_contiguous\n",
    "lib.fp(out_c), out_c.shape[::-1]"
   ]
  },
  {
   "cell_type": "code",
   "execution_count": 45,
   "id": "b8da944b-e378-4e3c-ae81-388da7d7281a",
   "metadata": {},
   "outputs": [
    {
     "data": {
      "text/plain": [
       "(-16.389862409392386, (410, 410, 3))"
      ]
     },
     "execution_count": 45,
     "metadata": {},
     "output_type": "execute_result"
    }
   ],
   "source": [
    "# deriv\n",
    "out = mol.intor(\"ECPscalar_ignuc_cart\")\n",
    "out_c = out.transpose(0, 2, 1)\n",
    "assert out_c.flags.c_contiguous\n",
    "lib.fp(out_c), out_c.shape[::-1]"
   ]
  },
  {
   "cell_type": "code",
   "execution_count": 46,
   "id": "2b5ee9a4-eae9-424f-b87e-634b400c323f",
   "metadata": {},
   "outputs": [
    {
     "data": {
      "text/plain": [
       "(1.3845811428580408, (47, 39))"
      ]
     },
     "execution_count": 46,
     "metadata": {},
     "output_type": "execute_result"
    }
   ],
   "source": [
    "# no-deriv | shl\n",
    "out = mol.intor(\"ECPscalar_cart\", shls_slice=[0, 12, 8, 18])\n",
    "out_c = out.transpose(1, 0)\n",
    "assert out_c.flags.c_contiguous\n",
    "lib.fp(out_c), out_c.shape[::-1]"
   ]
  },
  {
   "cell_type": "code",
   "execution_count": 52,
   "id": "ab743090-3a68-4092-9e9d-39ab77f903a0",
   "metadata": {},
   "outputs": [
    {
     "data": {
      "text/plain": [
       "(32.8336331060587, (47, 39))"
      ]
     },
     "execution_count": 52,
     "metadata": {},
     "output_type": "execute_result"
    }
   ],
   "source": [
    "# no-deriv | shl\n",
    "out = mol.intor(\"int1e_nuc_cart\", shls_slice=[0, 12, 8, 18])\n",
    "out_c = out.transpose(1, 0)\n",
    "assert out_c.flags.c_contiguous\n",
    "lib.fp(out_c), out_c.shape[::-1]"
   ]
  },
  {
   "cell_type": "code",
   "execution_count": 47,
   "id": "760d96d9-45e3-4d75-ad9a-4e19983d4a25",
   "metadata": {},
   "outputs": [
    {
     "data": {
      "text/plain": [
       "(-7.983349456393638, (47, 39, 3))"
      ]
     },
     "execution_count": 47,
     "metadata": {},
     "output_type": "execute_result"
    }
   ],
   "source": [
    "# deriv | shl\n",
    "out = mol.intor(\"ECPscalar_iprinv_cart\", shls_slice=[0, 12, 8, 18])\n",
    "out_c = out.transpose(0, 2, 1)\n",
    "assert out_c.flags.c_contiguous\n",
    "lib.fp(out_c), out_c.shape[::-1]"
   ]
  },
  {
   "cell_type": "code",
   "execution_count": 48,
   "id": "d7d12fb7-85d4-4c6a-b096-28416a6fa0e8",
   "metadata": {},
   "outputs": [
    {
     "data": {
      "text/plain": [
       "(-9.966466894809031, (84255,))"
      ]
     },
     "execution_count": 48,
     "metadata": {},
     "output_type": "execute_result"
    }
   ],
   "source": [
    "# no-deriv\n",
    "out = mol.intor(\"ECPscalar_cart\")\n",
    "out_c = lib.pack_tril(np.array(out.swapaxes(0, 1), order=\"C\"))\n",
    "out_c = out_c.transpose(0)\n",
    "lib.fp(out_c), out_c.shape[::-1]"
   ]
  },
  {
   "cell_type": "code",
   "execution_count": 49,
   "id": "55ba37c0-6c30-4db4-8380-ee7193e6eb47",
   "metadata": {},
   "outputs": [
    {
     "data": {
      "text/plain": [
       "(132.938348145421, (84255, 9))"
      ]
     },
     "execution_count": 49,
     "metadata": {},
     "output_type": "execute_result"
    }
   ],
   "source": [
    "# deriv\n",
    "out = mol.intor(\"ECPscalar_iprinvip_cart\")\n",
    "out_c = lib.pack_tril(np.array(out.swapaxes(1, 2), order=\"C\"))\n",
    "out_c = out_c.transpose(0, 1)\n",
    "lib.fp(out_c), out_c.shape[::-1]"
   ]
  },
  {
   "cell_type": "code",
   "execution_count": 50,
   "id": "ad345808-601d-4eaa-b92a-2a85ced12e89",
   "metadata": {},
   "outputs": [
    {
     "data": {
      "text/plain": [
       "(-20.31359441160549, (780,))"
      ]
     },
     "execution_count": 50,
     "metadata": {},
     "output_type": "execute_result"
    }
   ],
   "source": [
    "# no-deriv | shl\n",
    "out = mol.intor(\"ECPscalar_cart\", shls_slice=[8, 18, 8, 18])\n",
    "out_c = lib.pack_tril(np.array(out.swapaxes(0, 1), order=\"C\"))\n",
    "out_c = out_c.transpose(0)\n",
    "lib.fp(out_c), out_c.shape[::-1]"
   ]
  },
  {
   "cell_type": "code",
   "execution_count": 51,
   "id": "20e8d39c-75c8-48e6-a4ad-f0ae6377fda1",
   "metadata": {},
   "outputs": [
    {
     "data": {
      "text/plain": [
       "(1.9270442333836884, (780, 9))"
      ]
     },
     "execution_count": 51,
     "metadata": {},
     "output_type": "execute_result"
    }
   ],
   "source": [
    "# deriv | shl\n",
    "out = mol.intor(\"ECPscalar_iprinvip_cart\", shls_slice=[8, 18, 8, 18])\n",
    "out_c = lib.pack_tril(np.array(out.swapaxes(1, 2), order=\"C\"))\n",
    "out_c = out_c.transpose(0, 1)\n",
    "lib.fp(out_c), out_c.shape[::-1]"
   ]
  },
  {
   "cell_type": "code",
   "execution_count": null,
   "id": "8bed942b-0ed5-45ae-9c2d-ae512b669dca",
   "metadata": {},
   "outputs": [],
   "source": []
  },
  {
   "cell_type": "code",
   "execution_count": null,
   "id": "fcd8180d-d713-4bca-9f8f-aaeaa26d3a88",
   "metadata": {},
   "outputs": [],
   "source": []
  },
  {
   "cell_type": "code",
   "execution_count": null,
   "id": "b2681830-3407-452c-a646-1a093c9aa65a",
   "metadata": {},
   "outputs": [],
   "source": []
  },
  {
   "cell_type": "code",
   "execution_count": null,
   "id": "7786cf7f-155f-406c-868e-990d3f74d81a",
   "metadata": {},
   "outputs": [],
   "source": []
  }
 ],
 "metadata": {
  "kernelspec": {
   "display_name": "Python 3 (ipykernel)",
   "language": "python",
   "name": "python3"
  },
  "language_info": {
   "codemirror_mode": {
    "name": "ipython",
    "version": 3
   },
   "file_extension": ".py",
   "mimetype": "text/x-python",
   "name": "python",
   "nbconvert_exporter": "python",
   "pygments_lexer": "ipython3",
   "version": "3.12.2"
  }
 },
 "nbformat": 4,
 "nbformat_minor": 5
}
