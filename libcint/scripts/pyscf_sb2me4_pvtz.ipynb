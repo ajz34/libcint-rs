{
 "cells": [
  {
   "cell_type": "code",
   "execution_count": 68,
   "id": "1169f844-cf04-435a-84b8-319f3da9e606",
   "metadata": {},
   "outputs": [],
   "source": [
    "from pyscf import gto, lib\n",
    "import numpy as np\n",
    "\n",
    "np.set_printoptions(16, threshold=100000000, suppress=False, linewidth=300)"
   ]
  },
  {
   "cell_type": "code",
   "execution_count": 69,
   "id": "97abddcf-8ca6-4ff0-ae5f-d5c89e410825",
   "metadata": {},
   "outputs": [],
   "source": [
    "basis = {\n",
    "    \"C\": \"cc-pVTZ\",\n",
    "    \"H\": \"cc-pVTZ\",\n",
    "    \"Sb\": \"cc-pVTZ-PP\",\n",
    "}\n",
    "\n",
    "basis_ecp = {\n",
    "    \"Sb\": \"cc-pVTZ-PP\",\n",
    "}\n",
    "\n",
    "mol = gto.Mole(atom=\"\"\"\n",
    "Sb        -1.33937843      0.44597852     -1.27279684\n",
    "Sb         1.33937843     -0.44597852     -1.27279684\n",
    "C         -1.40429524      1.10441871      0.83468205\n",
    "C         -2.16210130     -1.56132398     -0.84717555\n",
    "C          2.16210130      1.56132398     -0.84717555\n",
    "C          1.40429524     -1.10441871      0.83468205\n",
    "H         -0.69918639      1.91987631      1.00872018\n",
    "H         -1.16111477      0.29030616      1.51873028\n",
    "H         -2.40124532      1.47235562      1.08516843\n",
    "H         -2.02002046     -2.22909286     -1.69887295\n",
    "H         -1.69052287     -2.01612927      0.02577778\n",
    "H         -3.23450854     -1.49489801     -0.65423339\n",
    "H          2.02002046      2.22909286     -1.69887295\n",
    "H          3.23450854      1.49489801     -0.65423339\n",
    "H          1.69052287      2.01612927      0.02577778\n",
    "H          0.69918639     -1.91987631      1.00872018\n",
    "H          2.40124532     -1.47235562      1.08516843\n",
    "H          1.16111477     -0.29030616      1.51873028\n",
    "\"\"\", basis=basis, ecp=basis_ecp).build()"
   ]
  },
  {
   "cell_type": "markdown",
   "id": "50950147-8aac-4df0-96f7-07ceaaad10b1",
   "metadata": {},
   "source": [
    "## cint_prop"
   ]
  },
  {
   "cell_type": "code",
   "execution_count": 71,
   "id": "b609bc0d-14f6-4187-a974-b8f3ec6393b2",
   "metadata": {},
   "outputs": [
    {
     "data": {
      "text/plain": [
       "True"
      ]
     },
     "execution_count": 71,
     "metadata": {},
     "output_type": "execute_result"
    }
   ],
   "source": [
    "mol.has_ecp()"
   ]
  },
  {
   "cell_type": "code",
   "execution_count": 72,
   "id": "4b4a78da-6229-44e1-bf85-651a6302c0ad",
   "metadata": {},
   "outputs": [
    {
     "data": {
      "text/plain": [
       "130"
      ]
     },
     "execution_count": 72,
     "metadata": {},
     "output_type": "execute_result"
    }
   ],
   "source": [
    "mol.nbas"
   ]
  },
  {
   "cell_type": "code",
   "execution_count": 76,
   "id": "15f7a327-0fec-4e73-a929-4b2e3cc64612",
   "metadata": {},
   "outputs": [
    {
     "data": {
      "text/plain": [
       "23"
      ]
     },
     "execution_count": 76,
     "metadata": {},
     "output_type": "execute_result"
    }
   ],
   "source": [
    "mol.atom_charge(0)"
   ]
  },
  {
   "cell_type": "code",
   "execution_count": 73,
   "id": "d9f79a63-bd11-48cb-a074-aa7c7a141576",
   "metadata": {},
   "outputs": [
    {
     "data": {
      "text/plain": [
       "366"
      ]
     },
     "execution_count": 73,
     "metadata": {},
     "output_type": "execute_result"
    }
   ],
   "source": [
    "mol.nao_nr()"
   ]
  },
  {
   "cell_type": "code",
   "execution_count": 74,
   "id": "a13b3671-bcce-4ebe-878e-f2a66157bd80",
   "metadata": {},
   "outputs": [
    {
     "data": {
      "text/plain": [
       "410"
      ]
     },
     "execution_count": 74,
     "metadata": {},
     "output_type": "execute_result"
    }
   ],
   "source": [
    "mol.nao_cart()"
   ]
  },
  {
   "cell_type": "code",
   "execution_count": 75,
   "id": "2b8d94b7-3c41-493a-8b73-35bfaf78d8b1",
   "metadata": {},
   "outputs": [
    {
     "data": {
      "text/plain": [
       "732"
      ]
     },
     "execution_count": 75,
     "metadata": {},
     "output_type": "execute_result"
    }
   ],
   "source": [
    "mol.nao_2c()"
   ]
  },
  {
   "cell_type": "code",
   "execution_count": null,
   "id": "a48416a7-b2e1-473f-a5d6-d3028f19ca06",
   "metadata": {},
   "outputs": [],
   "source": []
  },
  {
   "cell_type": "code",
   "execution_count": null,
   "id": "4ff027d3-0d57-4970-a155-6f033256f6b4",
   "metadata": {},
   "outputs": [],
   "source": []
  },
  {
   "cell_type": "code",
   "execution_count": null,
   "id": "7786cf7f-155f-406c-868e-990d3f74d81a",
   "metadata": {},
   "outputs": [],
   "source": []
  }
 ],
 "metadata": {
  "kernelspec": {
   "display_name": "Python 3 (ipykernel)",
   "language": "python",
   "name": "python3"
  },
  "language_info": {
   "codemirror_mode": {
    "name": "ipython",
    "version": 3
   },
   "file_extension": ".py",
   "mimetype": "text/x-python",
   "name": "python",
   "nbconvert_exporter": "python",
   "pygments_lexer": "ipython3",
   "version": "3.12.2"
  }
 },
 "nbformat": 4,
 "nbformat_minor": 5
}
