{
 "cells": [
  {
   "cell_type": "code",
   "execution_count": 2,
   "id": "1169f844-cf04-435a-84b8-319f3da9e606",
   "metadata": {},
   "outputs": [],
   "source": [
    "from pyscf import gto, lib\n",
    "import numpy as np\n",
    "\n",
    "np.set_printoptions(16, threshold=100000000, suppress=False, linewidth=300)"
   ]
  },
  {
   "cell_type": "code",
   "execution_count": 3,
   "id": "97abddcf-8ca6-4ff0-ae5f-d5c89e410825",
   "metadata": {},
   "outputs": [],
   "source": [
    "basis = {\n",
    "    \"C\": \"cc-pVTZ\",\n",
    "    \"H\": \"cc-pVTZ\",\n",
    "    \"Sb\": \"cc-pVTZ-PP\",\n",
    "}\n",
    "\n",
    "basis_ecp = {\n",
    "    \"Sb\": \"cc-pVTZ-PP\",\n",
    "}\n",
    "\n",
    "mol = gto.Mole(atom=\"\"\"\n",
    "Sb        -1.33937843      0.44597852     -1.27279684\n",
    "Sb         1.33937843     -0.44597852     -1.27279684\n",
    "C         -1.40429524      1.10441871      0.83468205\n",
    "C         -2.16210130     -1.56132398     -0.84717555\n",
    "C          2.16210130      1.56132398     -0.84717555\n",
    "C          1.40429524     -1.10441871      0.83468205\n",
    "H         -0.69918639      1.91987631      1.00872018\n",
    "H         -1.16111477      0.29030616      1.51873028\n",
    "H         -2.40124532      1.47235562      1.08516843\n",
    "H         -2.02002046     -2.22909286     -1.69887295\n",
    "H         -1.69052287     -2.01612927      0.02577778\n",
    "H         -3.23450854     -1.49489801     -0.65423339\n",
    "H          2.02002046      2.22909286     -1.69887295\n",
    "H          3.23450854      1.49489801     -0.65423339\n",
    "H          1.69052287      2.01612927      0.02577778\n",
    "H          0.69918639     -1.91987631      1.00872018\n",
    "H          2.40124532     -1.47235562      1.08516843\n",
    "H          1.16111477     -0.29030616      1.51873028\n",
    "\"\"\", basis=basis, ecp=basis_ecp).build()"
   ]
  },
  {
   "cell_type": "markdown",
   "id": "50950147-8aac-4df0-96f7-07ceaaad10b1",
   "metadata": {},
   "source": [
    "## cint_prop"
   ]
  },
  {
   "cell_type": "code",
   "execution_count": 71,
   "id": "b609bc0d-14f6-4187-a974-b8f3ec6393b2",
   "metadata": {},
   "outputs": [
    {
     "data": {
      "text/plain": [
       "True"
      ]
     },
     "execution_count": 71,
     "metadata": {},
     "output_type": "execute_result"
    }
   ],
   "source": [
    "mol.has_ecp()"
   ]
  },
  {
   "cell_type": "code",
   "execution_count": 72,
   "id": "4b4a78da-6229-44e1-bf85-651a6302c0ad",
   "metadata": {},
   "outputs": [
    {
     "data": {
      "text/plain": [
       "130"
      ]
     },
     "execution_count": 72,
     "metadata": {},
     "output_type": "execute_result"
    }
   ],
   "source": [
    "mol.nbas"
   ]
  },
  {
   "cell_type": "code",
   "execution_count": 76,
   "id": "15f7a327-0fec-4e73-a929-4b2e3cc64612",
   "metadata": {},
   "outputs": [
    {
     "data": {
      "text/plain": [
       "23"
      ]
     },
     "execution_count": 76,
     "metadata": {},
     "output_type": "execute_result"
    }
   ],
   "source": [
    "mol.atom_charge(0)"
   ]
  },
  {
   "cell_type": "code",
   "execution_count": 73,
   "id": "d9f79a63-bd11-48cb-a074-aa7c7a141576",
   "metadata": {},
   "outputs": [
    {
     "data": {
      "text/plain": [
       "366"
      ]
     },
     "execution_count": 73,
     "metadata": {},
     "output_type": "execute_result"
    }
   ],
   "source": [
    "mol.nao_nr()"
   ]
  },
  {
   "cell_type": "code",
   "execution_count": 74,
   "id": "a13b3671-bcce-4ebe-878e-f2a66157bd80",
   "metadata": {},
   "outputs": [
    {
     "data": {
      "text/plain": [
       "410"
      ]
     },
     "execution_count": 74,
     "metadata": {},
     "output_type": "execute_result"
    }
   ],
   "source": [
    "mol.nao_cart()"
   ]
  },
  {
   "cell_type": "code",
   "execution_count": 75,
   "id": "2b8d94b7-3c41-493a-8b73-35bfaf78d8b1",
   "metadata": {},
   "outputs": [
    {
     "data": {
      "text/plain": [
       "732"
      ]
     },
     "execution_count": 75,
     "metadata": {},
     "output_type": "execute_result"
    }
   ],
   "source": [
    "mol.nao_2c()"
   ]
  },
  {
   "cell_type": "code",
   "execution_count": null,
   "id": "206c9aa8-11db-4a0b-b757-b460011fc74a",
   "metadata": {},
   "outputs": [],
   "source": []
  },
  {
   "cell_type": "code",
   "execution_count": 25,
   "id": "07a757a6-39c3-4684-a3d1-005b884d60a5",
   "metadata": {},
   "outputs": [
    {
     "data": {
      "text/plain": [
       "True"
      ]
     },
     "execution_count": 25,
     "metadata": {},
     "output_type": "execute_result"
    }
   ],
   "source": [
    "n = 10\n",
    "\n",
    "m = np.zeros((n, n))\n",
    "x = 0\n",
    "for j in range(n):\n",
    "    for i in range(j + 1):\n",
    "        m[i, j] = x\n",
    "        x += 1\n",
    "\n",
    "a = np.zeros((n, n))\n",
    "x = 0\n",
    "for j in range(n):\n",
    "    for i in range(j + 1):\n",
    "        a[i, j] = j * (j + 1) // 2 + i\n",
    "\n",
    "np.allclose(m, a)"
   ]
  },
  {
   "cell_type": "code",
   "execution_count": 105,
   "id": "f2b1dde9-f552-412a-a994-a19e0ffb415f",
   "metadata": {},
   "outputs": [],
   "source": [
    "def unravel_s2_indices(x):\n",
    "    if x == 0:\n",
    "        return (0, 0)\n",
    "    j = int(np.sqrt(x * 2 + 1) - 0.5)\n",
    "    i = x - j * (j + 1) // 2\n",
    "    return (i, j)\n",
    "# np.sqrt(2 * np.arange(100) + 2 + 0.25) - 0.5"
   ]
  },
  {
   "cell_type": "code",
   "execution_count": null,
   "id": "51d32e1b-f225-431b-a843-5156e545530d",
   "metadata": {},
   "outputs": [],
   "source": []
  },
  {
   "cell_type": "code",
   "execution_count": 106,
   "id": "593f73c1-70af-4186-9a69-6d5da776a8f9",
   "metadata": {},
   "outputs": [
    {
     "data": {
      "text/plain": [
       "0"
      ]
     },
     "execution_count": 106,
     "metadata": {},
     "output_type": "execute_result"
    }
   ],
   "source": [
    "n = 4096\n",
    "m = [[0 for _ in range(n)] for _ in range(n)]\n",
    "x = 0\n",
    "for j in range(n):\n",
    "    for i in range(j + 1):\n",
    "        m[i][j] = unravel_s2_indices(x) != (i, j)\n",
    "        x += 1\n",
    "np.array(m).sum()"
   ]
  },
  {
   "cell_type": "code",
   "execution_count": null,
   "id": "456215a0-9569-49ab-b85d-52f14436736c",
   "metadata": {},
   "outputs": [],
   "source": []
  },
  {
   "cell_type": "code",
   "execution_count": null,
   "id": "a3082137-a855-4688-9fe9-556acddcc96a",
   "metadata": {},
   "outputs": [],
   "source": [
    "sqrt(x * 2 + 0.25) - 1.5"
   ]
  },
  {
   "cell_type": "code",
   "execution_count": 15,
   "id": "89c6e09e-eec6-4c8e-93e9-6898c8fb7668",
   "metadata": {},
   "outputs": [
    {
     "data": {
      "text/plain": [
       "2.25"
      ]
     },
     "execution_count": 15,
     "metadata": {},
     "output_type": "execute_result"
    }
   ],
   "source": [
    "1.5*1.5"
   ]
  },
  {
   "cell_type": "code",
   "execution_count": 32,
   "id": "4ff027d3-0d57-4970-a155-6f033256f6b4",
   "metadata": {},
   "outputs": [
    {
     "name": "stdout",
     "output_type": "stream",
     "text": [
      "CPU times: user 7.03 s, sys: 396 ms, total: 7.43 s\n",
      "Wall time: 1.86 s\n"
     ]
    }
   ],
   "source": [
    "%%time\n",
    "for _ in range(6):\n",
    "    out = mol.intor(\"int3c2e_ip2\", aosym=\"s2ij\")"
   ]
  },
  {
   "cell_type": "code",
   "execution_count": 29,
   "id": "b5a81af5-619a-4388-87bc-8e426f03fe73",
   "metadata": {},
   "outputs": [
    {
     "data": {
      "text/plain": [
       "102.16666666666667"
      ]
     },
     "execution_count": 29,
     "metadata": {},
     "output_type": "execute_result"
    }
   ],
   "source": [
    "613/6"
   ]
  },
  {
   "cell_type": "code",
   "execution_count": 24,
   "id": "b1697f9f-5a02-4bc0-b031-ad2bb39f7797",
   "metadata": {},
   "outputs": [
    {
     "data": {
      "text/plain": [
       "118.85488803731408"
      ]
     },
     "execution_count": 24,
     "metadata": {},
     "output_type": "execute_result"
    }
   ],
   "source": [
    "out.transpose(0, 2, 1).flags\n",
    "lib.fp(out.transpose(0, 2, 1))"
   ]
  },
  {
   "cell_type": "code",
   "execution_count": null,
   "id": "991ecd97-e9af-415e-a3b9-967c1f293bc8",
   "metadata": {},
   "outputs": [],
   "source": []
  },
  {
   "cell_type": "code",
   "execution_count": 20,
   "id": "20bcfe5c-e4ff-45dc-9c1d-688bdb9ba28d",
   "metadata": {},
   "outputs": [
    {
     "data": {
      "text/plain": [
       "<module 'pyscf.gto' from '/home/a/miniconda3/envs/pyscf-pip/lib/python3.12/site-packages/pyscf/gto/__init__.py'>"
      ]
     },
     "execution_count": 20,
     "metadata": {},
     "output_type": "execute_result"
    }
   ],
   "source": [
    "gto"
   ]
  },
  {
   "cell_type": "code",
   "execution_count": null,
   "id": "7786cf7f-155f-406c-868e-990d3f74d81a",
   "metadata": {},
   "outputs": [],
   "source": []
  }
 ],
 "metadata": {
  "kernelspec": {
   "display_name": "Python 3 (ipykernel)",
   "language": "python",
   "name": "python3"
  },
  "language_info": {
   "codemirror_mode": {
    "name": "ipython",
    "version": 3
   },
   "file_extension": ".py",
   "mimetype": "text/x-python",
   "name": "python",
   "nbconvert_exporter": "python",
   "pygments_lexer": "ipython3",
   "version": "3.12.2"
  }
 },
 "nbformat": 4,
 "nbformat_minor": 5
}
