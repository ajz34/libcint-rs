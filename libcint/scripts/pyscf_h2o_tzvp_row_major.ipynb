{
 "cells": [
  {
   "cell_type": "code",
   "execution_count": 1,
   "id": "e839a5d8-dd7e-422a-83de-e430eca88dd7",
   "metadata": {},
   "outputs": [],
   "source": [
    "from pyscf import gto, lib, scf\n",
    "import numpy as np\n",
    "import scipy\n",
    "\n",
    "np.set_printoptions(16, suppress=False, linewidth=300)"
   ]
  },
  {
   "cell_type": "code",
   "execution_count": 2,
   "id": "a382f595-53a0-4258-9eb7-7f422be99ca3",
   "metadata": {},
   "outputs": [],
   "source": [
    "mol = gto.Mole(atom=\"O; H 1 0.94; H 1 0.94 2 104.5\", basis=\"def2-TZVP\").build()"
   ]
  },
  {
   "cell_type": "markdown",
   "id": "dbf869be-3ca0-41b0-b9cb-c38587a966b2",
   "metadata": {},
   "source": [
    "## 2-center intor"
   ]
  },
  {
   "cell_type": "markdown",
   "id": "f576b3b3-5a6b-4aa3-860f-4533ca4c22e8",
   "metadata": {},
   "source": [
    "### 2c-sph"
   ]
  },
  {
   "cell_type": "code",
   "execution_count": 3,
   "id": "ea5bd131-04bf-4cf8-9323-f249455ad6c9",
   "metadata": {},
   "outputs": [
    {
     "data": {
      "text/plain": [
       "(353.9232788957516, (43, 43))"
      ]
     },
     "execution_count": 3,
     "metadata": {},
     "output_type": "execute_result"
    }
   ],
   "source": [
    "# no-deriv\n",
    "out = mol.intor(\"int2c2e\")\n",
    "lib.fp(out), out.shape"
   ]
  },
  {
   "cell_type": "code",
   "execution_count": 4,
   "id": "d4564db3-3b4c-4a8c-85e5-b5ea5c2a6a8b",
   "metadata": {},
   "outputs": [
    {
     "data": {
      "text/plain": [
       "(3.357208986844009, (3, 43, 43))"
      ]
     },
     "execution_count": 4,
     "metadata": {},
     "output_type": "execute_result"
    }
   ],
   "source": [
    "# deriv\n",
    "out = mol.intor(\"int1e_igovlp\")\n",
    "lib.fp(out), out.shape"
   ]
  },
  {
   "cell_type": "code",
   "execution_count": 5,
   "id": "7bb8a36c-410e-4447-9c1e-f0a6eed4f89e",
   "metadata": {},
   "outputs": [
    {
     "data": {
      "text/plain": [
       "(12.899828616445948, (32, 26))"
      ]
     },
     "execution_count": 5,
     "metadata": {},
     "output_type": "execute_result"
    }
   ],
   "source": [
    "# no-deriv | shl\n",
    "out = mol.intor(\"int1e_kin\", shls_slice=[0, 12, 8, 18])\n",
    "lib.fp(out), out.shape"
   ]
  },
  {
   "cell_type": "code",
   "execution_count": 6,
   "id": "b035d624-4162-40d6-8db3-9b38c8817e2d",
   "metadata": {},
   "outputs": [
    {
     "data": {
      "text/plain": [
       "(-27.63666200750539, (3, 32, 26))"
      ]
     },
     "execution_count": 6,
     "metadata": {},
     "output_type": "execute_result"
    }
   ],
   "source": [
    "# deriv | shl\n",
    "out = mol.intor(\"int1e_ipnuc\", shls_slice=[0, 12, 8, 18])\n",
    "lib.fp(out), out.shape"
   ]
  },
  {
   "cell_type": "code",
   "execution_count": 7,
   "id": "c2ca73c5-2017-4ba5-95c7-50893340ed17",
   "metadata": {},
   "outputs": [
    {
     "data": {
      "text/plain": [
       "(-176.5328705658656, (946,))"
      ]
     },
     "execution_count": 7,
     "metadata": {},
     "output_type": "execute_result"
    }
   ],
   "source": [
    "# no-deriv\n",
    "out = mol.intor(\"int2c2e\")\n",
    "out = lib.pack_tril(np.array(out, order=\"C\"))\n",
    "lib.fp(out), out.shape"
   ]
  },
  {
   "cell_type": "code",
   "execution_count": 8,
   "id": "a60eb0ff-ec9f-4ec8-a612-70b365c4afef",
   "metadata": {},
   "outputs": [
    {
     "data": {
      "text/plain": [
       "(1.3748304523870443, (3, 946))"
      ]
     },
     "execution_count": 8,
     "metadata": {},
     "output_type": "execute_result"
    }
   ],
   "source": [
    "# deriv\n",
    "out = mol.intor(\"int1e_igovlp\")\n",
    "out = lib.pack_tril(np.array(out, order=\"C\"))\n",
    "lib.fp(out), out.shape"
   ]
  },
  {
   "cell_type": "code",
   "execution_count": 9,
   "id": "6d1345f0-e13b-4f83-be78-a07b8a7643e4",
   "metadata": {},
   "outputs": [
    {
     "data": {
      "text/plain": [
       "(-14.04470523493559, (351,))"
      ]
     },
     "execution_count": 9,
     "metadata": {},
     "output_type": "execute_result"
    }
   ],
   "source": [
    "# no-deriv | shl\n",
    "out = mol.intor(\"int1e_kin\", shls_slice=[8, 18, 8, 18])\n",
    "out = lib.pack_tril(np.array(out, order=\"C\"))\n",
    "lib.fp(out), out.shape"
   ]
  },
  {
   "cell_type": "code",
   "execution_count": 10,
   "id": "8f696c6a-4fa0-442b-8ac4-89cb7fa89d5b",
   "metadata": {},
   "outputs": [
    {
     "data": {
      "text/plain": [
       "(23.32391114542229, (3, 351))"
      ]
     },
     "execution_count": 10,
     "metadata": {},
     "output_type": "execute_result"
    }
   ],
   "source": [
    "# deriv | shl\n",
    "out = mol.intor(\"int1e_ipnuc\", shls_slice=[8, 18, 8, 18])\n",
    "out = lib.pack_tril(np.array(out, order=\"C\"))\n",
    "lib.fp(out), out.shape"
   ]
  },
  {
   "cell_type": "markdown",
   "id": "7ed22912-262d-4ad1-a7a7-e94c3bf72b75",
   "metadata": {},
   "source": [
    "## 3-center intor"
   ]
  },
  {
   "cell_type": "markdown",
   "id": "46609fff-3018-420a-b5e3-877e7864ab01",
   "metadata": {},
   "source": [
    "### 3c-sph"
   ]
  },
  {
   "cell_type": "code",
   "execution_count": 11,
   "id": "9110743e-7cc6-4438-acf4-fcecfebf93da",
   "metadata": {},
   "outputs": [
    {
     "data": {
      "text/plain": [
       "(48.161159148027394, (43, 43, 43))"
      ]
     },
     "execution_count": 11,
     "metadata": {},
     "output_type": "execute_result"
    }
   ],
   "source": [
    "# no-deriv\n",
    "out = mol.intor(\"int3c2e\")\n",
    "lib.fp(out), out.shape"
   ]
  },
  {
   "cell_type": "code",
   "execution_count": 12,
   "id": "2fdbe86b-6405-4173-8b4b-0f99a367aec2",
   "metadata": {},
   "outputs": [
    {
     "data": {
      "text/plain": [
       "(20.278756457464894, (3, 43, 43, 43))"
      ]
     },
     "execution_count": 12,
     "metadata": {},
     "output_type": "execute_result"
    }
   ],
   "source": [
    "# deriv\n",
    "out = mol.intor(\"int3c2e_ig1\")\n",
    "lib.fp(out), out.shape"
   ]
  },
  {
   "cell_type": "code",
   "execution_count": 13,
   "id": "4880bdb2-ab4a-4fd9-876c-c5611af8ce44",
   "metadata": {},
   "outputs": [
    {
     "data": {
      "text/plain": [
       "(-25.296528540125045, (32, 26, 29))"
      ]
     },
     "execution_count": 13,
     "metadata": {},
     "output_type": "execute_result"
    }
   ],
   "source": [
    "# no-deriv | shl\n",
    "out = mol.intor(\"int3c2e\", shls_slice=[0, 12, 8, 18, 6, 15])\n",
    "lib.fp(out), out.shape"
   ]
  },
  {
   "cell_type": "code",
   "execution_count": 14,
   "id": "46464a1c-6fe2-4ecf-b0a1-bb1108ee5ca8",
   "metadata": {},
   "outputs": [
    {
     "data": {
      "text/plain": [
       "(968.5261168299187, (9, 32, 26, 29))"
      ]
     },
     "execution_count": 14,
     "metadata": {},
     "output_type": "execute_result"
    }
   ],
   "source": [
    "# deriv | shl\n",
    "out = mol.intor(\"int3c2e_ipip1\", shls_slice=[0, 12, 8, 18, 6, 15])\n",
    "lib.fp(out), out.shape"
   ]
  },
  {
   "cell_type": "code",
   "execution_count": 15,
   "id": "306de15b-2786-44b0-be85-0c163dc22c00",
   "metadata": {},
   "outputs": [
    {
     "data": {
      "text/plain": [
       "(-13.182225570003517, (946, 43))"
      ]
     },
     "execution_count": 15,
     "metadata": {},
     "output_type": "execute_result"
    }
   ],
   "source": [
    "# no-deriv\n",
    "out = mol.intor(\"int3c2e\", aosym=\"s2ij\")\n",
    "lib.fp(out), out.shape"
   ]
  },
  {
   "cell_type": "code",
   "execution_count": 16,
   "id": "daea9a8b-b1b6-46c5-8fb5-9bdc21d9244d",
   "metadata": {},
   "outputs": [
    {
     "data": {
      "text/plain": [
       "(-1.656437965487193, (3, 946, 43))"
      ]
     },
     "execution_count": 16,
     "metadata": {},
     "output_type": "execute_result"
    }
   ],
   "source": [
    "# deriv\n",
    "out = mol.intor(\"int3c2e_ip2\", aosym=\"s2ij\")\n",
    "lib.fp(out), out.shape"
   ]
  },
  {
   "cell_type": "markdown",
   "id": "9ee779e7-1694-4428-a4eb-e04d5c9ebefc",
   "metadata": {},
   "source": [
    "## 4-center intor"
   ]
  },
  {
   "cell_type": "markdown",
   "id": "e0684ab6-2edc-462d-a42f-1e00cdefa341",
   "metadata": {},
   "source": [
    "### 4c-sph"
   ]
  },
  {
   "cell_type": "code",
   "execution_count": 17,
   "id": "5ec5467f-e32a-4efc-99da-4dd7fd57b728",
   "metadata": {},
   "outputs": [
    {
     "data": {
      "text/plain": [
       "(70.00106603114841, (43, 43, 43, 43))"
      ]
     },
     "execution_count": 17,
     "metadata": {},
     "output_type": "execute_result"
    }
   ],
   "source": [
    "# no-deriv\n",
    "out = mol.intor(\"int2e\")\n",
    "lib.fp(out), out.shape"
   ]
  },
  {
   "cell_type": "code",
   "execution_count": 18,
   "id": "290677d9-9a00-493a-a212-56426ac1a0da",
   "metadata": {},
   "outputs": [
    {
     "data": {
      "text/plain": [
       "(26.41216164838567, (3, 43, 43, 43, 43))"
      ]
     },
     "execution_count": 18,
     "metadata": {},
     "output_type": "execute_result"
    }
   ],
   "source": [
    "# deriv\n",
    "out = mol.intor(\"int2e_ip1\")\n",
    "lib.fp(out), out.shape"
   ]
  },
  {
   "cell_type": "code",
   "execution_count": 19,
   "id": "15ac7a16-d1cf-4abd-a8f6-d015dd9fa0c5",
   "metadata": {},
   "outputs": [
    {
     "data": {
      "text/plain": [
       "(7.039814725057187, (32, 26, 29, 21))"
      ]
     },
     "execution_count": 19,
     "metadata": {},
     "output_type": "execute_result"
    }
   ],
   "source": [
    "# no-deriv | shl\n",
    "out = mol.intor(\"int2e\", shls_slice=[0, 12, 8, 18, 6, 15, 3, 10])\n",
    "lib.fp(out), out.shape"
   ]
  },
  {
   "cell_type": "code",
   "execution_count": 20,
   "id": "74e4e0a1-bf66-4dd3-b420-fd4a2a2c5779",
   "metadata": {},
   "outputs": [
    {
     "data": {
      "text/plain": [
       "(36.40584837312814, (48, 32, 26, 29, 21))"
      ]
     },
     "execution_count": 20,
     "metadata": {},
     "output_type": "execute_result"
    }
   ],
   "source": [
    "# deriv | shl\n",
    "# note: possibly int2e_giao_ssa10ssp2 and int2e_gssp1ssp2 not implemented correctly\n",
    "out = mol.intor(\"int2e_cg_ssa10ssp2\", shls_slice=[0, 12, 8, 18, 6, 15, 3, 10])\n",
    "lib.fp(out), out.shape"
   ]
  },
  {
   "cell_type": "code",
   "execution_count": 21,
   "id": "c137080f-98b9-44a6-8b92-3814f4188bb3",
   "metadata": {},
   "outputs": [
    {
     "data": {
      "text/plain": [
       "(-135.4209188844083, (946, 43, 43))"
      ]
     },
     "execution_count": 21,
     "metadata": {},
     "output_type": "execute_result"
    }
   ],
   "source": [
    "# no-deriv\n",
    "out = mol.intor(\"int2e\", aosym=\"s2ij\")\n",
    "lib.fp(out), out.shape"
   ]
  },
  {
   "cell_type": "code",
   "execution_count": 22,
   "id": "9f064eae-e8fc-4315-9012-061190e7a1d4",
   "metadata": {},
   "outputs": [
    {
     "data": {
      "text/plain": [
       "(148.48845559162677, (9, 946, 43, 43))"
      ]
     },
     "execution_count": 22,
     "metadata": {},
     "output_type": "execute_result"
    }
   ],
   "source": [
    "# deriv\n",
    "out = mol.intor(\"int2e_gg1\", aosym=\"s2ij\")\n",
    "lib.fp(out), out.shape"
   ]
  },
  {
   "cell_type": "code",
   "execution_count": 23,
   "id": "1b314b40-10e9-424d-94d8-40312a9c3e5c",
   "metadata": {},
   "outputs": [
    {
     "data": {
      "text/plain": [
       "(-6.438967844331271, (351, 29, 21))"
      ]
     },
     "execution_count": 23,
     "metadata": {},
     "output_type": "execute_result"
    }
   ],
   "source": [
    "# no-deriv | shl\n",
    "out = mol.intor(\"int2e\", aosym=\"s2ij\", shls_slice=[8, 18, 8, 18, 6, 15, 3, 10])\n",
    "lib.fp(out), out.shape"
   ]
  },
  {
   "cell_type": "code",
   "execution_count": 24,
   "id": "f5da4f71-43cd-402e-aaf8-3c022eada707",
   "metadata": {},
   "outputs": [
    {
     "data": {
      "text/plain": [
       "(-5.312151890309538, (9, 351, 29, 21))"
      ]
     },
     "execution_count": 24,
     "metadata": {},
     "output_type": "execute_result"
    }
   ],
   "source": [
    "# deriv | shl\n",
    "out = mol.intor(\"int2e_gg1\", aosym=\"s2ij\", shls_slice=[8, 18, 8, 18, 6, 15, 3, 10])\n",
    "lib.fp(out), out.shape"
   ]
  },
  {
   "cell_type": "markdown",
   "id": "471a2d16-c0f1-4175-bcb3-04517b754fda",
   "metadata": {},
   "source": [
    "### 4c-s2kl"
   ]
  },
  {
   "cell_type": "code",
   "execution_count": 25,
   "id": "46ca6b6f-8cf9-4bd6-b437-e1037950f0ac",
   "metadata": {},
   "outputs": [
    {
     "data": {
      "text/plain": [
       "(1.8306651475960938, (43, 43, 946))"
      ]
     },
     "execution_count": 25,
     "metadata": {},
     "output_type": "execute_result"
    }
   ],
   "source": [
    "# no-deriv\n",
    "out = mol.intor(\"int2e\", aosym=\"s2kl\")\n",
    "lib.fp(out), out.shape"
   ]
  },
  {
   "cell_type": "code",
   "execution_count": 26,
   "id": "f09c6cdf-06ba-4ef2-a761-287c2e575d6e",
   "metadata": {},
   "outputs": [
    {
     "data": {
      "text/plain": [
       "(-37.34064823381276, (3, 43, 43, 946))"
      ]
     },
     "execution_count": 26,
     "metadata": {},
     "output_type": "execute_result"
    }
   ],
   "source": [
    "# deriv\n",
    "out = mol.intor(\"int2e_ip1\", aosym=\"s2kl\")\n",
    "lib.fp(out), out.shape"
   ]
  },
  {
   "cell_type": "code",
   "execution_count": 27,
   "id": "8a58e3d9-e3ac-46bc-beed-6a3a29453c2d",
   "metadata": {},
   "outputs": [
    {
     "data": {
      "text/plain": [
       "(5.793369823495306, (32, 26, 435))"
      ]
     },
     "execution_count": 27,
     "metadata": {},
     "output_type": "execute_result"
    }
   ],
   "source": [
    "# no-deriv | shl\n",
    "out = mol.intor(\"int2e\", aosym=\"s2kl\", shls_slice=[0, 12, 8, 18, 6, 15, 6, 15])\n",
    "lib.fp(out), out.shape"
   ]
  },
  {
   "cell_type": "code",
   "execution_count": 28,
   "id": "5295d30b-3eec-4a36-80ce-dec1320f8a3a",
   "metadata": {},
   "outputs": [
    {
     "data": {
      "text/plain": [
       "(-2.3043335457616916, (3, 32, 26, 435))"
      ]
     },
     "execution_count": 28,
     "metadata": {},
     "output_type": "execute_result"
    }
   ],
   "source": [
    "# deriv\n",
    "out = mol.intor(\"int2e_ip1\", aosym=\"s2kl\", shls_slice=[0, 12, 8, 18, 6, 15, 6, 15])\n",
    "lib.fp(out), out.shape"
   ]
  },
  {
   "cell_type": "markdown",
   "id": "ad785ce4-f08b-4efa-920d-420c46259cd9",
   "metadata": {},
   "source": [
    "### 4c-s4"
   ]
  },
  {
   "cell_type": "code",
   "execution_count": 29,
   "id": "e3022c09-0cd0-4be1-9d4a-e0412b51a5ff",
   "metadata": {},
   "outputs": [
    {
     "data": {
      "text/plain": [
       "(-2.1937308808534586, (946, 946))"
      ]
     },
     "execution_count": 29,
     "metadata": {},
     "output_type": "execute_result"
    }
   ],
   "source": [
    "# no-deriv\n",
    "out = mol.intor(\"int2e\", aosym=\"s4\")\n",
    "lib.fp(out), out.shape"
   ]
  },
  {
   "cell_type": "code",
   "execution_count": 30,
   "id": "59e87f21-f7e1-4aa7-b7c3-3f6ac3cd3c9a",
   "metadata": {},
   "outputs": [
    {
     "data": {
      "text/plain": [
       "(-10.689968606671224, (528, 435))"
      ]
     },
     "execution_count": 30,
     "metadata": {},
     "output_type": "execute_result"
    }
   ],
   "source": [
    "# no-deriv\n",
    "out = mol.intor(\"int2e\", aosym=\"s4\", shls_slice=[0, 12, 0, 12, 6, 15, 6, 15])\n",
    "lib.fp(out), out.shape"
   ]
  },
  {
   "cell_type": "markdown",
   "id": "8e069253-5a38-4237-aff1-3aa890e3b859",
   "metadata": {},
   "source": [
    "### 4c-s8"
   ]
  },
  {
   "cell_type": "code",
   "execution_count": 31,
   "id": "2f166b38-e183-4dea-873c-562509a3e89f",
   "metadata": {},
   "outputs": [
    {
     "data": {
      "text/plain": [
       "(21.90951424661062, (447931,))"
      ]
     },
     "execution_count": 31,
     "metadata": {},
     "output_type": "execute_result"
    }
   ],
   "source": [
    "# no-deriv\n",
    "out = mol.intor(\"int2e\", aosym=\"s8\")\n",
    "lib.fp(out), out.shape"
   ]
  },
  {
   "cell_type": "code",
   "execution_count": null,
   "id": "955ad945-276a-4cc7-b82c-8b6912612409",
   "metadata": {},
   "outputs": [],
   "source": []
  },
  {
   "cell_type": "code",
   "execution_count": null,
   "id": "f2c7e485-e410-413d-a45c-ef9370154d2c",
   "metadata": {},
   "outputs": [],
   "source": []
  },
  {
   "cell_type": "code",
   "execution_count": null,
   "id": "b6583c9a-90fd-4c10-bb77-ca474e02371a",
   "metadata": {},
   "outputs": [],
   "source": []
  },
  {
   "cell_type": "code",
   "execution_count": null,
   "id": "cde7a668-34b0-4bc8-87e0-79a0bbcfd3c3",
   "metadata": {},
   "outputs": [],
   "source": []
  }
 ],
 "metadata": {
  "kernelspec": {
   "display_name": "Python 3 (ipykernel)",
   "language": "python",
   "name": "python3"
  },
  "language_info": {
   "codemirror_mode": {
    "name": "ipython",
    "version": 3
   },
   "file_extension": ".py",
   "mimetype": "text/x-python",
   "name": "python",
   "nbconvert_exporter": "python",
   "pygments_lexer": "ipython3",
   "version": "3.12.2"
  }
 },
 "nbformat": 4,
 "nbformat_minor": 5
}
