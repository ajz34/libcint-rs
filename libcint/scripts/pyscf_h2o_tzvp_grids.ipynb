{
 "cells": [
  {
   "cell_type": "code",
   "execution_count": 1,
   "id": "e839a5d8-dd7e-422a-83de-e430eca88dd7",
   "metadata": {},
   "outputs": [],
   "source": [
    "from pyscf import gto, lib, scf\n",
    "import numpy as np\n",
    "import scipy\n",
    "\n",
    "np.set_printoptions(16, suppress=False, linewidth=300)"
   ]
  },
  {
   "cell_type": "code",
   "execution_count": 2,
   "id": "a382f595-53a0-4258-9eb7-7f422be99ca3",
   "metadata": {},
   "outputs": [],
   "source": [
    "mol = gto.Mole(atom=\"O; H 1 0.94; H 1 0.94 2 104.5\", basis=\"def2-TZVP\").build()"
   ]
  },
  {
   "cell_type": "code",
   "execution_count": 3,
   "id": "e757b584-1dc8-48a5-8862-94bb5a23480a",
   "metadata": {},
   "outputs": [],
   "source": [
    "grids = np.arange(420)[:, None] * np.array([0.012, -0.007, 0.015]) + np.array([-2.3, 1.5, 0.2])"
   ]
  },
  {
   "cell_type": "markdown",
   "id": "28134415-a518-489f-bd3b-cee0a4d09290",
   "metadata": {},
   "source": [
    "## col-major"
   ]
  },
  {
   "cell_type": "code",
   "execution_count": 4,
   "id": "469853a9-2ae3-4fd1-b5fc-305754080078",
   "metadata": {},
   "outputs": [
    {
     "data": {
      "text/plain": [
       "(-0.9862020295475049, (420, 43, 43))"
      ]
     },
     "execution_count": 4,
     "metadata": {},
     "output_type": "execute_result"
    }
   ],
   "source": [
    "out = mol.intor(\"int1e_grids\", grids=grids)\n",
    "out_c = out.transpose(2, 1, 0)\n",
    "lib.fp(out_c), out.shape"
   ]
  },
  {
   "cell_type": "code",
   "execution_count": 5,
   "id": "955ad945-276a-4cc7-b82c-8b6912612409",
   "metadata": {},
   "outputs": [
    {
     "data": {
      "text/plain": [
       "(1.344336345578797, (3, 420, 43, 43))"
      ]
     },
     "execution_count": 5,
     "metadata": {},
     "output_type": "execute_result"
    }
   ],
   "source": [
    "out = mol.intor(\"int1e_grids_ip\", grids=grids)\n",
    "out_c = out.transpose(0, 3, 2, 1)\n",
    "lib.fp(out_c), out.shape"
   ]
  },
  {
   "cell_type": "code",
   "execution_count": 6,
   "id": "992bdb96-5a99-4a35-b141-f9c605e8670c",
   "metadata": {},
   "outputs": [
    {
     "data": {
      "text/plain": [
       "(-0.7162393548847166, (2, 43, 43, 3))"
      ]
     },
     "execution_count": 6,
     "metadata": {},
     "output_type": "execute_result"
    }
   ],
   "source": [
    "grids_example = np.array([[0, 1, 2], [3, 4, 5]])\n",
    "out = mol.intor(\"int1e_grids_ip\", grids=grids_example)\n",
    "out_c = out.transpose(0, 3, 2, 1)\n",
    "lib.fp(out_c), out_c.shape[::-1]"
   ]
  },
  {
   "cell_type": "markdown",
   "id": "71dd967f-bc12-4ca9-902f-5bfa03345f3f",
   "metadata": {},
   "source": [
    "## row-major"
   ]
  },
  {
   "cell_type": "code",
   "execution_count": 7,
   "id": "b6583c9a-90fd-4c10-bb77-ca474e02371a",
   "metadata": {},
   "outputs": [
    {
     "data": {
      "text/plain": [
       "(3.916348193223265, (420, 43, 43))"
      ]
     },
     "execution_count": 7,
     "metadata": {},
     "output_type": "execute_result"
    }
   ],
   "source": [
    "out = mol.intor(\"int1e_grids\", grids=grids)\n",
    "lib.fp(out), out.shape"
   ]
  },
  {
   "cell_type": "code",
   "execution_count": 8,
   "id": "ca2a3439-4315-4b26-920d-b571228b65f9",
   "metadata": {},
   "outputs": [
    {
     "data": {
      "text/plain": [
       "(-7.757919630556912, (3, 420, 43, 43))"
      ]
     },
     "execution_count": 8,
     "metadata": {},
     "output_type": "execute_result"
    }
   ],
   "source": [
    "out = mol.intor(\"int1e_grids_ip\", grids=grids)\n",
    "lib.fp(out), out.shape"
   ]
  },
  {
   "cell_type": "code",
   "execution_count": 9,
   "id": "ce23cae9-aaba-450c-bb20-0c556ae10730",
   "metadata": {},
   "outputs": [
    {
     "data": {
      "text/plain": [
       "(-9.72533559138301, (3, 2, 43, 43))"
      ]
     },
     "execution_count": 9,
     "metadata": {},
     "output_type": "execute_result"
    }
   ],
   "source": [
    "grids_example = np.array([[0, 1, 2], [3, 4, 5]])\n",
    "out = mol.intor(\"int1e_grids_ip\", grids=grids_example)\n",
    "lib.fp(out), out.shape"
   ]
  }
 ],
 "metadata": {
  "kernelspec": {
   "display_name": "Python 3 (ipykernel)",
   "language": "python",
   "name": "python3"
  },
  "language_info": {
   "codemirror_mode": {
    "name": "ipython",
    "version": 3
   },
   "file_extension": ".py",
   "mimetype": "text/x-python",
   "name": "python",
   "nbconvert_exporter": "python",
   "pygments_lexer": "ipython3",
   "version": "3.12.2"
  }
 },
 "nbformat": 4,
 "nbformat_minor": 5
}
