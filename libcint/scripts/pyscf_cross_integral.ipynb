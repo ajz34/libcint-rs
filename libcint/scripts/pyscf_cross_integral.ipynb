{
 "cells": [
  {
   "cell_type": "code",
   "execution_count": 1,
   "id": "e839a5d8-dd7e-422a-83de-e430eca88dd7",
   "metadata": {},
   "outputs": [],
   "source": [
    "from pyscf import gto, lib, scf, df, ao2mo\n",
    "import numpy as np\n",
    "import scipy\n",
    "\n",
    "np.set_printoptions(16, suppress=False, linewidth=300)"
   ]
  },
  {
   "cell_type": "code",
   "execution_count": 2,
   "id": "a382f595-53a0-4258-9eb7-7f422be99ca3",
   "metadata": {},
   "outputs": [],
   "source": [
    "mol_tzvp = gto.Mole(atom=\"O; H 1 0.94; H 1 0.94 2 104.5\", basis=\"def2-TZVP\").build()"
   ]
  },
  {
   "cell_type": "code",
   "execution_count": 3,
   "id": "955ad945-276a-4cc7-b82c-8b6912612409",
   "metadata": {},
   "outputs": [],
   "source": [
    "mol_jk = gto.Mole(atom=\"O; H 1 0.94; H 1 0.94 2 104.5\", basis=\"def2-universal-jkfit\").build()"
   ]
  },
  {
   "cell_type": "code",
   "execution_count": 5,
   "id": "0994d915-9945-45c1-a866-60d43aecc773",
   "metadata": {},
   "outputs": [
    {
     "data": {
      "text/plain": [
       "(11.25500947854174, (43, 113))"
      ]
     },
     "execution_count": 5,
     "metadata": {},
     "output_type": "execute_result"
    }
   ],
   "source": [
    "out = gto.intor_cross(\"int1e_ovlp\", mol_tzvp, mol_jk)\n",
    "lib.fp(out.T), out.shape"
   ]
  },
  {
   "cell_type": "code",
   "execution_count": 7,
   "id": "95393f49-5dd3-45f4-b4ca-5c813c5c529f",
   "metadata": {},
   "outputs": [
    {
     "data": {
      "text/plain": [
       "(10.435234769997802, (946, 113, 3))"
      ]
     },
     "execution_count": 7,
     "metadata": {},
     "output_type": "execute_result"
    }
   ],
   "source": [
    "out = df.incore.aux_e2(mol_tzvp, mol_jk, \"int3c2e_ip2\", \"s2ij\")\n",
    "out_c = out.transpose(0, 2, 1)\n",
    "lib.fp(out_c), out_c.shape[::-1]"
   ]
  },
  {
   "cell_type": "code",
   "execution_count": 8,
   "id": "bd26d67b-bca2-4837-842f-ffe98974056d",
   "metadata": {},
   "outputs": [
    {
     "data": {
      "text/plain": [
       "(7.422726471473346, (43, 113))"
      ]
     },
     "execution_count": 8,
     "metadata": {},
     "output_type": "execute_result"
    }
   ],
   "source": [
    "out = gto.intor_cross(\"int1e_ovlp\", mol_tzvp, mol_jk)\n",
    "lib.fp(out), out.shape"
   ]
  },
  {
   "cell_type": "code",
   "execution_count": 9,
   "id": "24992402-b8af-4ecc-9253-579bfba389f4",
   "metadata": {},
   "outputs": [
    {
     "data": {
      "text/plain": [
       "(15.423815120360992, (3, 946, 113))"
      ]
     },
     "execution_count": 9,
     "metadata": {},
     "output_type": "execute_result"
    }
   ],
   "source": [
    "out = df.incore.aux_e2(mol_tzvp, mol_jk, \"int3c2e_ip2\", \"s2ij\")\n",
    "lib.fp(out), out.shape"
   ]
  },
  {
   "cell_type": "code",
   "execution_count": null,
   "id": "f590e528-370f-4bfb-8e27-6cfb245349ac",
   "metadata": {},
   "outputs": [],
   "source": []
  }
 ],
 "metadata": {
  "kernelspec": {
   "display_name": "Python 3 (ipykernel)",
   "language": "python",
   "name": "python3"
  },
  "language_info": {
   "codemirror_mode": {
    "name": "ipython",
    "version": 3
   },
   "file_extension": ".py",
   "mimetype": "text/x-python",
   "name": "python",
   "nbconvert_exporter": "python",
   "pygments_lexer": "ipython3",
   "version": "3.12.2"
  }
 },
 "nbformat": 4,
 "nbformat_minor": 5
}
